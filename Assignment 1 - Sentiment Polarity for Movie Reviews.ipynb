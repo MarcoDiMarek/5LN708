{
  "nbformat": 4,
  "nbformat_minor": 0,
  "metadata": {
    "colab": {
      "name": "Assignment 1 - Sentiment Polarity for Movie Reviews v2021.1.ipynb",
      "provenance": [],
      "collapsed_sections": [],
      "toc_visible": true
    },
    "kernelspec": {
      "name": "python3",
      "display_name": "Python 3"
    }
  },
  "cells": [
    {
      "cell_type": "markdown",
      "metadata": {
        "id": "C4ly85dOjwrP"
      },
      "source": [
        "# Assignment 1: Sentiment Polarity for Movie Reviews\n",
        " \n",
        "*version 2021.1, details/bugs in this assignment might be patched, you will be notified if this happens*\n",
        "\n",
        "For this assignment, you will implement a classification pipeline for a binary sentiment classification task. The provided dataset includes movie reviews labelled as either positive or negative. Your starting point for the assignment is an implementation of the full pipeline that uses scikit learn and example data.\n",
        "\n",
        "In most real-world situations, you will have good (and relatively bug free) tools at your disposal. However, for being able to be creative with an ML problem, it is crucial to understand the inner workings of the full pipeline. You will therefore re-implement the model, feature extraction, the learning algorithm, the prediction algorithm, and a simple grid search for hyper parameters. You will find re-implementation tasks marked \"implementation task\" (in bold) below. In your submission, all code must be written from scratch by you. While you can use the base modules of python (os, string etc) and NumPy, you cannot use sklearn or any equivalent ML library (when in doubt, ask about imports).\n",
        "\n",
        "## Submission\n",
        " \n",
        "Please submit your code as a notebook through studium. You should include the following:\n",
        " \n",
        "1. A working implementation of your pipeline, reproducing your principal results when run. Please rerun your notebook as the last thing you do before submitting.\n",
        "2. Comment the code properly, especially for longer or opaque functionality. Please try to write self documenting code (i.e., choosing descriptive variables names, refactoring to isolate functionality, minimal code duplication etc).\n",
        "3. A *brief* description (100-200 words in total) of the implementation work that was necessary to complete the different parts, showing how you arrived at your solution and design choices made. You can spread these in the notebook or put them in one place.\n",
        "4. Comments on what you thought was hard in the assignment, what you think was educational, what took most time and which parts might be unnecessarily tricky.\n",
        "5. As the submission is anonymous, **all personal information must be removed**.\n",
        "6. Apart from sections and titles, please remove all unnecessary text and code from the notebook you hand in. Keep only that which strengthens the case that you fulfil the listed requirements. All notebooks containing unnecessary chunks of text from this instruction will receive a U.\n",
        "\n",
        "\n",
        "## Requirements for grade G\n",
        "\n",
        "To achieve a pass (G) in this assignment, you must solve the following tasks without serious errors.\n",
        "\n",
        "1. Reimplement the four parts of the assignment. The instructions below will guide you on specifics for each part.\n",
        "2. When evaluating your model, split the data into a training and a test set. This split can be selected non-randomly before running any training. The split should be 80/20 (i.e., 1600 training documents and 400 test documents). *It is easier for you if the classes are balanced.*\n",
        "3. Implement the model as a class following the sklearn API as:\n",
        "```\n",
        "class model:\n",
        "  def __init__(self, learning_rate, ...):\n",
        "    ...\n",
        "\n",
        "  def fit(self, X, y):\n",
        "    ...\n",
        "\n",
        "  def predict(self, X):\n",
        "    ...\n",
        "\n",
        "  def score(self, X, y):\n",
        "    ...\n",
        "```\n",
        "4. Include a short (150 words) qualitative analysis in your submission. Discuss the final decision boundary (e.g., why did this word contribute to a negative label etc), the selected hyper-parameters, and design choices.\n",
        "\n",
        "\n",
        "### Additional requirements for grade VG\n",
        " \n",
        "To achieve a pass with distinction (VG) in this assignment, you must adequately solve the tasks above. In addition, you must:\n",
        "\n",
        "1. Implement the optimization as *stochastic* gradient descent (SGD)\n",
        "2. Implement a [tf-idf](https://en.wikipedia.org/wiki/Tf%E2%80%93idf) feature model and compare classification performance to bag-of-words (this should also be discussed in your qualitative analysis). Choose your preferred formulation of tf-idf from the literature, but motivate it (in a few sentences).\n",
        "3. Implement and discuss [momentum](https://en.wikipedia.org/wiki/Stochastic_gradient_descent#Momentum) in the SGD optimization.\n",
        "4. Implement and discuss [RMSProp](https://en.wikipedia.org/wiki/Stochastic_gradient_descent#RMSProp) in the SGD optimization.\n",
        "5. Implement and discuss [10-fold cross validation](https://en.wikipedia.org/wiki/Cross-validation_(statistics)#k-fold_cross-validation) for evaluating your model.\n",
        "6. Write a longer qualitative analysis (ca 600 words) of your pipeline and results, including some visualization (you can use UMAP or PCA from sklearn for this). The analysis and claims must be essentially correct.\n",
        "\n",
        "## General advice\n",
        "\n",
        "The task is to predict, for an unseen review, whether it is positive or negative. This is a binary classification task. Work from the given code and change one piece at a time, ensuring functionality throughout your work. You should test your code every couple of lines to make sure your assumptions on functionality and variable content is correct. A good rule of thumb is that a coder will introduce a bug every five lines (even as a professional).\n",
        "\n",
        "To make sure your code does what it is supposed to do, use ```assert``` statements to check your assumptions. Keep the given asserts if you need them. Professional coders sometimes start with writing tests for some functionality instead of starting with the functionality itself. This is called *test-driven development*.\n",
        "\n",
        "## Plagiarism\n",
        " \n",
        "In code assignments, plagiarism is a tricky concept. A clean cut way would be to demand that you write all the code yourself, from memory, with only the assigned literature as help. This is not how code is developed professionally. It is common to copy and share. However, since this is a learning exercise, you must implement everything on your own, but please look at the course repo, Stack Overflow etc. Moreover, discuss with course mates and TAs to find inspiration and solutions. Code that is *obviously* copied (with minor modifications) will be considered as plagiarized. As a part of the examination, you might be asked to explain any particular part of the functionality in your implementation."
      ]
    },
    {
      "cell_type": "markdown",
      "metadata": {
        "id": "rY-34D1MwuBd"
      },
      "source": [
        "## Part 1: Parsing the dataset\n",
        "\n",
        "For this assignment, we use the [Review polarity v2.0](http://www.cs.cornell.edu/people/pabo/movie-review-data/) data set created by Bo Pang and Lillian Lee at Cornell University. It consists of 2000 movie reviews, 1000 of which are positive and 1000 are negative. *Always check the readme for any dataset before using it.*\n",
        "\n",
        "The following downloads the dataset (if it's not already present)."
      ]
    },
    {
      "cell_type": "code",
      "metadata": {
        "colab": {
          "base_uri": "https://localhost:8080/"
        },
        "id": "Ko1YHRcW41kv",
        "outputId": "349c4e37-0e52-4bda-f316-111a18e5f491"
      },
      "source": [
        "!wget -N http://www.cs.cornell.edu/people/pabo/movie-review-data/review_polarity.tar.gz"
      ],
      "execution_count": 7,
      "outputs": [
        {
          "output_type": "stream",
          "text": [
            "--2021-04-08 13:10:35--  http://www.cs.cornell.edu/people/pabo/movie-review-data/review_polarity.tar.gz\n",
            "Resolving www.cs.cornell.edu (www.cs.cornell.edu)... 132.236.207.36\n",
            "Connecting to www.cs.cornell.edu (www.cs.cornell.edu)|132.236.207.36|:80... connected.\n",
            "HTTP request sent, awaiting response... 304 Not Modified\n",
            "File ‘review_polarity.tar.gz’ not modified on server. Omitting download.\n",
            "\n"
          ],
          "name": "stdout"
        }
      ]
    },
    {
      "cell_type": "markdown",
      "metadata": {
        "id": "O_NqWr2p555X"
      },
      "source": [
        "In order to get the given code to work, a part of the 20 newsgroup dataset is loaded below. This should be replaced by your parsing code in your final submission."
      ]
    },
    {
      "cell_type": "code",
      "metadata": {
        "id": "73pgNoj_N4cZ"
      },
      "source": [
        "from sklearn.datasets import fetch_20newsgroups\n",
        "X_raw, y = fetch_20newsgroups(subset='train', categories=['rec.sport.baseball', 'rec.sport.hockey'], remove=('headers', 'footers', 'quotes'), return_X_y=True)\n",
        "y[y==0]=-1"
      ],
      "execution_count": 8,
      "outputs": []
    },
    {
      "cell_type": "code",
      "metadata": {
        "id": "UZGYeoyxhh-u"
      },
      "source": [
        "import numpy as np\n",
        "\n",
        "# assert len(X_text) == 2000\n",
        "assert np.all([isinstance(x, str) for x in X_raw])\n",
        "assert len(X_raw) == y.shape[0]\n",
        "assert len(np.unique(y))==2\n",
        "assert y.min() == -1\n",
        "assert y.max() == 1"
      ],
      "execution_count": 9,
      "outputs": []
    },
    {
      "cell_type": "markdown",
      "metadata": {
        "id": "w6LSWjDIwIL0"
      },
      "source": [
        "**Implementation task:** Implement a parser for the dataset. The output should be a list/array of strings (`X_raw`) and a list/array of labels (`y`) encoded as {-1,1}.\n",
        "\n"
      ]
    },
    {
      "cell_type": "markdown",
      "metadata": {
        "id": "-_F1ortjjs_u"
      },
      "source": [
        "## Part 2: Feature extraction\n",
        " \n",
        "As basic features, we use a binary bag-of-words (BOW) representation of the words in each review. Each review in the data set is described by a vector with one element corresponding to each word in the vocabulary. An element is set to 1 if the review contains its associated word, otherwise it is set to 0."
      ]
    },
    {
      "cell_type": "code",
      "metadata": {
        "id": "vOUPbUj_OP-W"
      },
      "source": [
        "from sklearn.feature_extraction.text import CountVectorizer\n",
        "vectorizer = CountVectorizer()\n",
        "vectorizer.fit(X_raw)             # Creates the vocabulary of the vectorizer\n",
        "\n",
        "X = vectorizer.transform(X_raw)\n",
        "X = X.todense()                   # sklearn will output a sparse matrix\n",
        "X[X>1] = 1                        # Turns the count vectors into binary vectors\n",
        "\n",
        "ordered_vocabulary = vectorizer.get_feature_names()\n",
        "vocabulary = set(ordered_vocabulary)"
      ],
      "execution_count": 10,
      "outputs": []
    },
    {
      "cell_type": "markdown",
      "metadata": {
        "id": "1xBHQgd9YjSW"
      },
      "source": [
        "If needed, we can do lookup tables going from tokens to feature numbers. Note that most of the elements in any feature vector will be zero."
      ]
    },
    {
      "cell_type": "code",
      "metadata": {
        "id": "ziRzSdAgYJiB",
        "colab": {
          "base_uri": "https://localhost:8080/"
        },
        "outputId": "2f814e82-a443-4ce6-f245-a262bb616688"
      },
      "source": [
        "lut = dict()\n",
        "for i, word in enumerate(ordered_vocabulary):\n",
        "  lut[word] = i\n",
        "\n",
        "for word in ['dolphin', 'the', 'coffee']:\n",
        "  if word in vocabulary:\n",
        "    print(\"'%s' is represented as feature dimension %i\" %(word, lut[word]))\n",
        "  else:\n",
        "    print(\"'%s' is not in the vocabulary\" % word)"
      ],
      "execution_count": 11,
      "outputs": [
        {
          "output_type": "stream",
          "text": [
            "'dolphin' is not in the vocabulary\n",
            "'the' is represented as feature dimension 12700\n",
            "'coffee' is represented as feature dimension 3639\n"
          ],
          "name": "stdout"
        }
      ]
    },
    {
      "cell_type": "markdown",
      "metadata": {
        "id": "zJIW3aaM3_Yf"
      },
      "source": [
        "**Implementation task:** You should re-implement the feature extraction above. The list/array called `ordered_vocabulary` should contain the words for each feature dimension and X should contain the BOW binary vectors. \n",
        "\n",
        "*Hints: Implementing X a numpy array will make your life easier in the comming parts. Also, the `in` operator is way faster for sets than for lists.*\n",
        " \n",
        "We can now look at the data and the words corresponding to feature dimensions."
      ]
    },
    {
      "cell_type": "code",
      "metadata": {
        "id": "2aVgDJ0mksJ2",
        "colab": {
          "base_uri": "https://localhost:8080/"
        },
        "outputId": "06a56407-1c70-4e53-fc5c-b36d101bd0ca"
      },
      "source": [
        "print(ordered_vocabulary[2000:2010])\n",
        "print(X[:10, 2000:2010])\n",
        "for w in ['dolphin', 'the', 'coffee']:\n",
        "  print(\"'%s' in words: %s\" % (w, w in vocabulary))"
      ],
      "execution_count": 12,
      "outputs": [
        {
          "output_type": "stream",
          "text": [
            "['annoying', 'annoys', 'annual', 'anointed', 'another', 'anoynamous', 'anson', 'answer', 'answered', 'answers']\n",
            "[[0 0 0 0 0 0 0 0 0 0]\n",
            " [0 0 0 0 0 0 0 0 0 0]\n",
            " [0 0 0 0 0 0 0 0 0 0]\n",
            " [0 0 0 0 0 0 0 0 0 0]\n",
            " [0 0 0 0 0 0 0 0 0 0]\n",
            " [0 0 0 0 0 0 0 0 0 0]\n",
            " [0 0 0 0 0 0 0 0 0 0]\n",
            " [0 0 0 0 0 0 0 0 0 0]\n",
            " [0 0 0 0 0 0 0 0 0 0]\n",
            " [0 0 0 0 0 0 0 0 0 0]]\n",
            "'dolphin' in words: False\n",
            "'the' in words: True\n",
            "'coffee' in words: True\n"
          ],
          "name": "stdout"
        }
      ]
    },
    {
      "cell_type": "markdown",
      "metadata": {
        "id": "-Y9pWyL1ju7P"
      },
      "source": [
        "At this point in the code, X and y are ready for the supervised learning task.\n",
        "\n",
        "## Part 3: Learning framework \n",
        " \n",
        "The model we will use is a simple hyperplane. This plane will represent the decision boundary through the data space, separating positive from negative ratings.\n",
        " \n",
        "**Implementation task:** You should implement your versions of the following parts (you can also find this in the slides):\n",
        " \n",
        "1. **Hyperplane model**. The model should be a hyperplane as $f(x, \\omega) = sgn(\\omega^\\top x)$. Note that $x_0$ in this notation is the pseudo input 1. When evaluated, this gives us the predicted results as $\\hat y_i = f(x_i, \\omega^{(t)})$, where $\\omega^{(t)}$ is the parameter vector at optimization iteration t and $\\omega^{(0)}$ is the initial guess for the parameter vector.\n",
        " \n",
        "2. **Objective function.** Hinge loss with $l_2$ regularization.\n",
        "\n",
        "  $\\mathfrak{L}_{hinge}(X, \\omega, y) = \\frac{\\lambda}{2} ||\\omega|| + \\sum_i \\max(0, 1-y_i \\cdot \\omega^\\top x_i)$.\n",
        "\n",
        "  Regularization is simply adding a norm on the parameter vector and including that in the objective function. For the $l_2$ norm this is defined as $\\sqrt{\\sum_{i=1}^n \\omega_i^2}$. The regularization always has some attenuation parameter $\\lambda \\in \\mathbb{R}$ keeping it from dominating the objective function.\n",
        "\n",
        "3. **Gradient descent**. The update for gradient descent looks like $\\omega^{(t)} = \\omega^{(t-1)} - \\gamma \\nabla \\mathfrak{L}(\\omega^{(t-1)})$, where the update is defined as $\\nabla \\mathfrak{L} = \\left ( \\frac{\\partial \\mathfrak{L}}{\\partial \\omega_0}, \\frac{\\partial \\mathfrak{L}}{\\partial \\omega_1}, \\ldots, \\frac{\\partial \\mathfrak{L}}{\\partial \\omega_n} \\right )^\\top$. The gradient $\\nabla \\mathfrak{L}$ is given analytically as:\n",
        "\n",
        "  $\\frac{\\partial \\mathfrak{L}(\\omega|X, Y)}{\\partial \\omega}\n",
        "=\\lambda \\theta + \\sum_{i=1}^{|X|}\n",
        "\\begin{cases}\n",
        "0 & \\text{if } y_i \\omega^\\top x_i \\geq 1\\\\ \n",
        "-y_i x_i & \\text{else}\n",
        "\\end{cases}$\n",
        "\n",
        " The learning rate $\\gamma \\in \\mathbb{R}$ acts as a dampening factor on the gradient update. This should run until some stopping criteria is met (e.g.,$\\omega^{(t+1)}\\approx \\omega^{(t)}$). The default stopping criterion for `SGDClassifier` is when $loss_{current} > loss_{best} - .001$ for five consecutive iterations.\n",
        "\n",
        "*Note that while your code will be runnable, it will likely be much slower than sklearn's code.*"
      ]
    },
    {
      "cell_type": "code",
      "metadata": {
        "id": "GkQXKQx-yTBW",
        "colab": {
          "base_uri": "https://localhost:8080/"
        },
        "outputId": "8d2ac22b-035b-49ef-b308-909be177b479"
      },
      "source": [
        "from sklearn.linear_model import SGDClassifier\n",
        "\n",
        "# Set hyperparameters (these variables are only here for clarity)\n",
        "reguliser_dampening = 0.001\n",
        "learning_rate = .1\n",
        "\n",
        "# Create the untrained classifier\n",
        "model = SGDClassifier(loss='hinge', penalty='l2',\n",
        "                      alpha=reguliser_dampening, verbose=1,\n",
        "                      learning_rate='constant', eta0=learning_rate)\n",
        "\n",
        "# Train the classifier\n",
        "model.fit(X, y)\n",
        "\n",
        "# Get the parameter vector\n",
        "omega = np.concatenate([model.intercept_, model.coef_.ravel()])"
      ],
      "execution_count": 13,
      "outputs": [
        {
          "output_type": "stream",
          "text": [
            "-- Epoch 1\n",
            "Norm: 13.07, NNZs: 5677, Bias: -0.800000, T: 1197, Avg. loss: 0.553148\n",
            "Total training time: 0.05 seconds.\n",
            "-- Epoch 2\n",
            "Norm: 13.85, NNZs: 6272, Bias: -0.700000, T: 2394, Avg. loss: 0.178687\n",
            "Total training time: 0.09 seconds.\n",
            "-- Epoch 3\n",
            "Norm: 14.08, NNZs: 6515, Bias: -0.700000, T: 3591, Avg. loss: 0.118090\n",
            "Total training time: 0.13 seconds.\n",
            "-- Epoch 4\n",
            "Norm: 13.68, NNZs: 6617, Bias: -0.700000, T: 4788, Avg. loss: 0.073657\n",
            "Total training time: 0.16 seconds.\n",
            "-- Epoch 5\n",
            "Norm: 13.31, NNZs: 6658, Bias: -0.500000, T: 5985, Avg. loss: 0.069410\n",
            "Total training time: 0.20 seconds.\n",
            "-- Epoch 6\n",
            "Norm: 13.02, NNZs: 6790, Bias: -0.900000, T: 7182, Avg. loss: 0.062423\n",
            "Total training time: 0.23 seconds.\n",
            "-- Epoch 7\n",
            "Norm: 12.79, NNZs: 6856, Bias: -0.800000, T: 8379, Avg. loss: 0.063640\n",
            "Total training time: 0.26 seconds.\n",
            "-- Epoch 8\n",
            "Norm: 12.57, NNZs: 6891, Bias: -0.500000, T: 9576, Avg. loss: 0.058294\n",
            "Total training time: 0.30 seconds.\n",
            "-- Epoch 9\n",
            "Norm: 12.99, NNZs: 6985, Bias: -0.600000, T: 10773, Avg. loss: 0.067496\n",
            "Total training time: 0.33 seconds.\n",
            "-- Epoch 10\n",
            "Norm: 13.17, NNZs: 7026, Bias: -0.900000, T: 11970, Avg. loss: 0.066711\n",
            "Total training time: 0.36 seconds.\n",
            "-- Epoch 11\n",
            "Norm: 13.20, NNZs: 7089, Bias: -0.500000, T: 13167, Avg. loss: 0.069701\n",
            "Total training time: 0.40 seconds.\n",
            "-- Epoch 12\n",
            "Norm: 13.45, NNZs: 7227, Bias: -0.300000, T: 14364, Avg. loss: 0.064849\n",
            "Total training time: 0.44 seconds.\n",
            "-- Epoch 13\n",
            "Norm: 13.07, NNZs: 7261, Bias: -0.900000, T: 15561, Avg. loss: 0.048076\n",
            "Total training time: 0.48 seconds.\n",
            "-- Epoch 14\n",
            "Norm: 13.32, NNZs: 7833, Bias: -0.600000, T: 16758, Avg. loss: 0.060517\n",
            "Total training time: 0.51 seconds.\n",
            "-- Epoch 15\n",
            "Norm: 13.22, NNZs: 7878, Bias: -0.500000, T: 17955, Avg. loss: 0.058677\n",
            "Total training time: 0.54 seconds.\n",
            "-- Epoch 16\n",
            "Norm: 13.09, NNZs: 7923, Bias: -0.400000, T: 19152, Avg. loss: 0.059240\n",
            "Total training time: 0.57 seconds.\n",
            "-- Epoch 17\n",
            "Norm: 12.68, NNZs: 7953, Bias: -0.600000, T: 20349, Avg. loss: 0.052911\n",
            "Total training time: 0.61 seconds.\n",
            "-- Epoch 18\n",
            "Norm: 12.83, NNZs: 7996, Bias: -0.600000, T: 21546, Avg. loss: 0.062173\n",
            "Total training time: 0.64 seconds.\n",
            "Convergence after 18 epochs took 0.64 seconds\n"
          ],
          "name": "stdout"
        }
      ]
    },
    {
      "cell_type": "markdown",
      "metadata": {
        "id": "vI1mGxUpljl5"
      },
      "source": [
        "In the above training with verbose=1, note how the loss etc are changing. For your implementation, it can be very good to print out lots of information so that you can see if you get what you expect (e.g. a lowering of the loss).\n",
        " \n",
        "We can examine the weights by plotting them. Think about how to interpret these weights."
      ]
    },
    {
      "cell_type": "code",
      "metadata": {
        "id": "tdyxUJFdO0wS",
        "colab": {
          "base_uri": "https://localhost:8080/",
          "height": 225
        },
        "outputId": "4f081e0e-099d-4098-9797-4122c0c847d3"
      },
      "source": [
        "import matplotlib.pyplot as plt\n",
        " \n",
        "plt.figure(figsize=(20, 3))\n",
        "plt.plot(omega[1:])\n",
        "plt.xlabel(\"Value\")\n",
        "plt.xlabel(\"Weights\")\n",
        "plt.show()"
      ],
      "execution_count": 14,
      "outputs": [
        {
          "output_type": "display_data",
          "data": {
            "image/png": "[encoded data removed]",
            "text/plain": [
              "<Figure size 1440x216 with 1 Axes>"
            ]
          },
          "metadata": {
            "tags": [],
            "needs_background": "light"
          }
        }
      ]
    },
    {
      "cell_type": "markdown",
      "metadata": {
        "id": "12tJY8d8ma3V"
      },
      "source": [
        "From the same information, we can plot the words with the strongest influence. Can you see a pattern? Is the model over learning on some words? Why might word frequency be important when analysing their impact?\n",
        "\n"
      ]
    },
    {
      "cell_type": "code",
      "metadata": {
        "id": "HM3Nm2_2l2j3",
        "colab": {
          "base_uri": "https://localhost:8080/"
        },
        "outputId": "66c8bfd4-41ec-4560-97bb-13b734a9427f"
      },
      "source": [
        "assert (len(omega)-1) == len(vocabulary)\n",
        "\n",
        "# Sort by absolute value\n",
        "idx = np.argsort(np.abs(omega[1:]))\n",
        "\n",
        "print(\"                Word   Weight  Occurences\")\n",
        "for i in idx[-20:]:   # Pick those with highest 'voting' values\n",
        "  print(\"%20s   %.3f\\t%i \" % (ordered_vocabulary[i], omega[i+1], np.sum([ordered_vocabulary[i] in d for d in X_raw])))"
      ],
      "execution_count": 15,
      "outputs": [
        {
          "output_type": "stream",
          "text": [
            "                Word   Weight  Occurences\n",
            "                puck   0.773\t35 \n",
            "             detroit   0.782\t1 \n",
            "                cubs   -0.810\t4 \n",
            "               coach   0.811\t61 \n",
            "                 ass   0.813\t152 \n",
            "            pitching   -0.835\t56 \n",
            "               goals   0.859\t54 \n",
            "               maine   0.860\t3 \n",
            "            penguins   0.864\t1 \n",
            "                lssu   0.879\t0 \n",
            "                 cup   0.907\t17 \n",
            "                runs   -0.908\t77 \n",
            "                mask   0.926\t13 \n",
            "                 ice   0.933\t188 \n",
            "             playoff   1.010\t104 \n",
            "              braves   -1.016\t1 \n",
            "               leafs   1.089\t1 \n",
            "            playoffs   1.154\t71 \n",
            "                 nhl   1.412\t1 \n",
            "              hockey   1.983\t129 \n"
          ],
          "name": "stdout"
        }
      ]
    },
    {
      "cell_type": "markdown",
      "metadata": {
        "id": "kSlwPrX1wVCq"
      },
      "source": [
        "## Part 4: Exploring hyperparameters\n",
        " \n",
        "For optimization of the hyperparameters, you can search for value on a grid. Trying all combinations is called grid search and can be implemented with nested `for` loops. A faster alternative is to sample from the grid. Sampling is now as thorough but most often sufficient, and much faster. Following the current consensus on ML methodology, we must at least split off a test set before exploring any configuration and use this data only at the very end of the experiment.\n",
        " \n",
        "**Implementation task:** Implement code for printing a sorted table of your sampled hyperparameters. To accomplish this, you must change the code above to store your evaluations (with loss/accuracy) of different hyperparameter sets.\n",
        "\n",
        "The final code call below evaluates the estimated best hyperparameter set on the test set.\n",
        "\n",
        "1. **Learning rate**. Try different settings of the learning rate. It is useful to pick values from an exponentially spaced grid (e.g., 0.0001/0.0003/0.001/0.003/0.01/0.03/0.1/0.3/1.0/3.0) where each of the values is about 3 times as large as the previous one. Note what happens when the learning rate gets too small or too large. The best learning rate is as large as possible, but still reliable and stable.\n",
        " \n",
        "3. **Regulariser dampening**. Try to find how much the regulariser needs to be dampened to get a good score. Use an exponentially spaced grid here as well.\n",
        " \n",
        "\n",
        "The grid points can be generated as `np.exp(np.linspace(np.log(0.0001), np.log(3), 10)`. For these real valued hyperparameters, you can add extra points if you find a promising interval. Note that trying every combination of hyperparameters is likely not feasible, but don't hesitate to try.\n",
        " \n",
        "Once you’ve settled on a final set of hyperparameters that work well/decently (and only then!), use the test set and rerun to obtain an accuracy score on the test set."
      ]
    },
    {
      "cell_type": "code",
      "metadata": {
        "id": "7K-Lo5iM-Nnr"
      },
      "source": [
        "from sklearn.model_selection import train_test_split\n",
        "\n",
        "# Splitting of the test set\n",
        "X_train, X_test, y_train, y_test = train_test_split(X, y, test_size=0.2)"
      ],
      "execution_count": 16,
      "outputs": []
    },
    {
      "cell_type": "code",
      "metadata": {
        "id": "stah3yXmM44-",
        "colab": {
          "base_uri": "https://localhost:8080/"
        },
        "outputId": "7e5bbb08-1ba6-49ac-db70-bc93e21a0ea3"
      },
      "source": [
        "from sklearn.model_selection import ParameterSampler\n",
        "\n",
        "# Define the parameters\n",
        "parameter_distribution = {'learning_rate': np.exp(np.linspace(np.log(0.0001), np.log(3), 10)),\n",
        "                          'reguliser_dampening': np.exp(np.linspace(np.log(0.0001), np.log(3), 10))}\n",
        "\n",
        "# Placeholder to make future comparissons easier\n",
        "best_hyperparameters = None\n",
        "print(\"Learning rate:\\tReg.dampening:\\tTraining set accuracy:\")\n",
        "\n",
        "for hyperparameters in ParameterSampler(parameter_distribution, n_iter=10):\n",
        "  # Set up the classifier\n",
        "  reguliser_dampening = hyperparameters['reguliser_dampening']\n",
        "  learning_rate = hyperparameters['learning_rate']\n",
        "  model = SGDClassifier(loss='hinge', penalty='l2',\n",
        "                        alpha=reguliser_dampening, verbose=0,\n",
        "                        learning_rate='constant', eta0=learning_rate)\n",
        "\n",
        "  # Train the classifier\n",
        "  model.fit(X_train, y_train)\n",
        "\n",
        "  # Calculate the training accuracy    \n",
        "  training_accuracy = np.sum(model.predict(X_train)==y_train)/len(y_train)\n",
        "\n",
        "  # Store the hyperparameters if they are better than what we have found before\n",
        "  if best_hyperparameters is None or best_hyperparameters[1] < training_accuracy:\n",
        "    best_hyperparameters = (hyperparameters, training_accuracy)\n",
        "  print(\"%.5f\\t\\t%.5f\\t\\t%.1f%%\" % (hyperparameters['learning_rate'], hyperparameters['reguliser_dampening'], 100*training_accuracy))\n",
        "\n",
        "best_learning_rate = best_hyperparameters[0]['learning_rate']\n",
        "best_reguliser_dampening = best_hyperparameters[0]['reguliser_dampening']\n",
        "print(\"Best parameters: %.5f, %.5f\" % (best_learning_rate, best_reguliser_dampening))"
      ],
      "execution_count": 17,
      "outputs": [
        {
          "output_type": "stream",
          "text": [
            "Learning rate:\tReg.dampening:\tTraining set accuracy:\n",
            "0.00977\t\t0.00099\t\t98.4%\n",
            "0.00311\t\t0.00031\t\t97.9%\n",
            "0.00031\t\t0.03071\t\t93.1%\n",
            "0.00977\t\t0.30353\t\t82.7%\n",
            "0.09655\t\t0.00977\t\t93.8%\n",
            "0.03071\t\t3.00000\t\t56.0%\n",
            "0.00977\t\t3.00000\t\t57.6%\n",
            "0.09655\t\t0.09655\t\t63.0%\n",
            "0.00311\t\t0.00311\t\t97.6%\n",
            "0.00010\t\t0.09655\t\t89.2%\n",
            "Best parameters: 0.00977, 0.00099\n"
          ],
          "name": "stdout"
        }
      ]
    },
    {
      "cell_type": "markdown",
      "metadata": {
        "id": "dsxPiVN2NG8M"
      },
      "source": [
        "We can now run the final model."
      ]
    },
    {
      "cell_type": "code",
      "metadata": {
        "id": "8-4dV6Mp8vxS",
        "colab": {
          "base_uri": "https://localhost:8080/"
        },
        "outputId": "f20ef8c9-4f68-4430-9215-caedd2dacc8a"
      },
      "source": [
        "# Set up the classifier\n",
        "model = SGDClassifier(loss='hinge', penalty='l2',\n",
        "                      alpha=best_reguliser_dampening, verbose=0,\n",
        "                      learning_rate='constant', eta0=best_learning_rate)\n",
        "\n",
        "# Train on all the non-test data\n",
        "model.fit(X_train, y_train)\n",
        "\n",
        "# Run prediction on the test set\n",
        "test_accuracy = np.sum(model.predict(X_test)==y_test)/len(y_test)\n",
        "\n",
        "print(\"Test set accuracy %.1f%%\" % (100*test_accuracy))"
      ],
      "execution_count": 18,
      "outputs": [
        {
          "output_type": "stream",
          "text": [
            "Test set accuracy 85.0%\n"
          ],
          "name": "stdout"
        }
      ]
    },
    {
      "cell_type": "markdown",
      "metadata": {
        "id": "T3vhjy-DwpKJ"
      },
      "source": [
        "Is this a good result? What is a good result?\n",
        "\n"
      ]
    }
  ]
}