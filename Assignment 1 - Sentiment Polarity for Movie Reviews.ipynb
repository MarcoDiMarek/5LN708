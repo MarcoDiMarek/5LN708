{
  "nbformat": 4,
  "nbformat_minor": 0,
  "metadata": {
    "colab": {
      "name": "Assignment 1 - Sentiment Polarity for Movie Reviews.ipynb",
      "provenance": [],
      "collapsed_sections": [],
      "toc_visible": true
    },
    "kernelspec": {
      "name": "python3",
      "display_name": "Python 3"
    }
  },
  "cells": [
    {
      "cell_type": "markdown",
      "metadata": {
        "id": "C4ly85dOjwrP"
      },
      "source": [
        "# Assignment 1: Sentiment Polarity for Movie Reviews\n",
        " \n",
        "*version 2021.2, details/bugs in this assignment might be patched, you will be notified if this happens*\n",
        "\n",
        "For this assignment, you will implement a classification pipeline for a binary sentiment classification task. The provided dataset includes movie reviews labelled as either positive or negative. Your starting point for the assignment is an implementation of the full pipeline that uses scikit learn and example data.\n",
        "\n",
        "In most real-world situations, you will have good (and relatively bug free) tools at your disposal. However, for being able to be creative with an ML problem, it is crucial to understand the inner workings of the full pipeline. You will therefore re-implement the model, feature extraction, the learning algorithm, the prediction algorithm, and a simple grid search for hyper parameters. You will find re-implementation tasks marked \"implementation task\" (in bold) below. In your submission, all code must be written from scratch by you. While you can use the base modules of python (os, string etc) and NumPy, you cannot use sklearn or any equivalent ML library (when in doubt, ask about imports).\n",
        "\n",
        "## Submission\n",
        " \n",
        "Please submit your code as a notebook through studium. You should include the following:\n",
        " \n",
        "1. A working implementation of your pipeline, reproducing your principal results when run. Please rerun your notebook as the last thing you do before submitting.\n",
        "2. Comment the code properly, especially for longer or opaque functionality. Please try to write self documenting code (i.e., choosing descriptive variables names, refactoring to isolate functionality, minimal code duplication etc).\n",
        "3. A *brief* description (100-200 words in total) of the implementation work that was necessary to complete the different parts, showing how you arrived at your solution and design choices made. You can spread these in the notebook or put them in one place.\n",
        "4. Comments on what you thought was hard in the assignment, what you think was educational, what took most time and which parts might be unnecessarily tricky.\n",
        "5. As the submission is anonymous, **all personal information must be removed**.\n",
        "6. Apart from sections and titles, please remove all unnecessary text and code from the notebook you hand in. Keep only that which strengthens the case that you fulfil the listed requirements. All notebooks containing unnecessary chunks of text from this instruction will receive a U.\n",
        "\n",
        "\n",
        "## Requirements for grade G\n",
        "\n",
        "To achieve a pass (G) in this assignment, you must solve the following tasks without serious errors.\n",
        "\n",
        "1. Reimplement the four parts of the assignment. The instructions below will guide you on specifics for each part.\n",
        "2. When evaluating your model, split the data into a training and a test set. This split can be selected non-randomly before running any training. The split should be 80/20 (i.e., 1600 training documents and 400 test documents). *It is easier for you if the classes are balanced.*\n",
        "3. Implement the model as a class following the sklearn API as:\n",
        "```\n",
        "class model:\n",
        "  def __init__(self, learning_rate, ...):\n",
        "    ...\n",
        "\n",
        "  def fit(self, X, y):\n",
        "    ...\n",
        "\n",
        "  def predict(self, X):\n",
        "    ...\n",
        "\n",
        "  def score(self, X, y):\n",
        "    ...\n",
        "```\n",
        "4. Include a short (150 words) qualitative analysis in your submission. Discuss the final decision boundary (e.g., why did this word contribute to a negative label etc), the selected hyper-parameters, and design choices.\n",
        "\n",
        "\n",
        "### Additional requirements for grade VG\n",
        " \n",
        "To achieve a pass with distinction (VG) in this assignment, you must adequately solve the tasks above. In addition, you must:\n",
        "\n",
        "1. Implement the optimization as *stochastic* gradient descent (SGD)\n",
        "2. Implement a [tf-idf](https://en.wikipedia.org/wiki/Tf%E2%80%93idf) feature model and compare classification performance to bag-of-words (this should also be discussed in your qualitative analysis). Choose your preferred formulation of tf-idf from the literature, but motivate it (in a few sentences).\n",
        "3. Implement and discuss [momentum](https://en.wikipedia.org/wiki/Stochastic_gradient_descent#Momentum) in the SGD optimization.\n",
        "4. Implement and discuss [RMSProp](https://en.wikipedia.org/wiki/Stochastic_gradient_descent#RMSProp) in the SGD optimization.\n",
        "5. Implement and discuss [10-fold cross validation](https://en.wikipedia.org/wiki/Cross-validation_(statistics)#k-fold_cross-validation) for evaluating your model.\n",
        "6. Write a longer qualitative analysis (ca 600 words) of your pipeline and results, including some visualization (you can use UMAP or PCA from sklearn for this). The analysis and claims must be essentially correct.\n",
        "\n",
        "## General advice\n",
        "\n",
        "The task is to predict, for an unseen review, whether it is positive or negative. This is a binary classification task. Work from the given code and change one piece at a time, ensuring functionality throughout your work. You should test your code every couple of lines to make sure your assumptions on functionality and variable content is correct. A good rule of thumb is that a coder will introduce a bug every five lines (even as a professional).\n",
        "\n",
        "To make sure your code does what it is supposed to do, use ```assert``` statements to check your assumptions. Keep the given asserts if you need them. Professional coders sometimes start with writing tests for some functionality instead of starting with the functionality itself. This is called *test-driven development*.\n",
        "\n",
        "## Plagiarism\n",
        " \n",
        "In code assignments, plagiarism is a tricky concept. A clean cut way would be to demand that you write all the code yourself, from memory, with only the assigned literature as help. This is not how code is developed professionally. It is common to copy and share. However, since this is a learning exercise, you must implement everything on your own, but please look at the course repo, Stack Overflow etc. Moreover, discuss with course mates and TAs to find inspiration and solutions. Code that is *obviously* copied (with minor modifications) will be considered as plagiarized. As a part of the examination, you might be asked to explain any particular part of the functionality in your implementation."
      ]
    },
    {
      "cell_type": "markdown",
      "metadata": {
        "id": "rY-34D1MwuBd"
      },
      "source": [
        "## Part 1: Parsing the dataset\n",
        "\n",
        "For this assignment, we use the [Review polarity v2.0](http://www.cs.cornell.edu/people/pabo/movie-review-data/) data set created by Bo Pang and Lillian Lee at Cornell University. It consists of 2000 movie reviews, 1000 of which are positive and 1000 are negative. *Always check the readme for any dataset before using it.*\n",
        "\n",
        "The following downloads the dataset (if it's not already present)."
      ]
    },
    {
      "cell_type": "code",
      "metadata": {
        "colab": {
          "base_uri": "https://localhost:8080/"
        },
        "id": "Ko1YHRcW41kv",
        "outputId": "f08c7e55-7800-4744-da8c-c27094aa1a01"
      },
      "source": [
        "!wget -N http://www.cs.cornell.edu/people/pabo/movie-review-data/review_polarity.tar.gz"
      ],
      "execution_count": 1,
      "outputs": [
        {
          "output_type": "stream",
          "text": [
            "--2021-04-13 09:02:55--  http://www.cs.cornell.edu/people/pabo/movie-review-data/review_polarity.tar.gz\n",
            "Resolving www.cs.cornell.edu (www.cs.cornell.edu)... 132.236.207.36\n",
            "Connecting to www.cs.cornell.edu (www.cs.cornell.edu)|132.236.207.36|:80... connected.\n",
            "HTTP request sent, awaiting response... 200 OK\n",
            "Length: 3127238 (3.0M) [application/x-gzip]\n",
            "Saving to: ‘review_polarity.tar.gz’\n",
            "\n",
            "review_polarity.tar 100%[===================>]   2.98M  5.65MB/s    in 0.5s    \n",
            "\n",
            "2021-04-13 09:02:56 (5.65 MB/s) - ‘review_polarity.tar.gz’ saved [3127238/3127238]\n",
            "\n"
          ],
          "name": "stdout"
        }
      ]
    },
    {
      "cell_type": "markdown",
      "metadata": {
        "id": "O_NqWr2p555X"
      },
      "source": [
        "In order to get the given code to work, a part of the 20 newsgroup dataset is loaded below. This should be replaced by your parsing code in your final submission."
      ]
    },
    {
      "cell_type": "code",
      "metadata": {
        "id": "73pgNoj_N4cZ",
        "colab": {
          "base_uri": "https://localhost:8080/"
        },
        "outputId": "7e1c3c74-87a9-4345-8036-320ff7324ec9"
      },
      "source": [
        "from sklearn.datasets import fetch_20newsgroups\n",
        "X_raw, y = fetch_20newsgroups(subset='train', categories=['rec.sport.baseball', 'rec.sport.hockey'], remove=('headers', 'footers', 'quotes'), return_X_y=True)\n",
        "y[y==0]=-1"
      ],
      "execution_count": 2,
      "outputs": [
        {
          "output_type": "stream",
          "text": [
            "Downloading 20news dataset. This may take a few minutes.\n",
            "Downloading dataset from https://ndownloader.figshare.com/files/5975967 (14 MB)\n"
          ],
          "name": "stderr"
        }
      ]
    },
    {
      "cell_type": "code",
      "metadata": {
        "id": "UZGYeoyxhh-u"
      },
      "source": [
        "import numpy as np\n",
        "\n",
        "# assert len(X_text) == 2000\n",
        "assert np.all([isinstance(x, str) for x in X_raw])\n",
        "assert len(X_raw) == y.shape[0]\n",
        "assert len(np.unique(y))==2\n",
        "assert y.min() == -1\n",
        "assert y.max() == 1"
      ],
      "execution_count": 3,
      "outputs": []
    },
    {
      "cell_type": "markdown",
      "metadata": {
        "id": "w6LSWjDIwIL0"
      },
      "source": [
        "**Implementation task:** Implement a parser for the dataset. The output should be a list/array of strings (`X_raw`) and a list/array of labels (`y`) encoded as {-1,1}.\n",
        "\n"
      ]
    },
    {
      "cell_type": "markdown",
      "metadata": {
        "id": "-_F1ortjjs_u"
      },
      "source": [
        "## Part 2: Feature extraction\n",
        " \n",
        "As basic features, we use a binary bag-of-words (BOW) representation of the words in each review. Each review in the data set is described by a vector with one element corresponding to each word in the vocabulary. An element is set to 1 if the review contains its associated word, otherwise it is set to 0."
      ]
    },
    {
      "cell_type": "code",
      "metadata": {
        "id": "vOUPbUj_OP-W"
      },
      "source": [
        "from sklearn.feature_extraction.text import CountVectorizer\n",
        "vectorizer = CountVectorizer()\n",
        "vectorizer.fit(X_raw)             # Creates the vocabulary of the vectorizer\n",
        "\n",
        "X = vectorizer.transform(X_raw)\n",
        "X = X.todense()                   # sklearn will output a sparse matrix\n",
        "X[X>1] = 1                        # Turns the count vectors into binary vectors\n",
        "\n",
        "ordered_vocabulary = vectorizer.get_feature_names()\n",
        "vocabulary = set(ordered_vocabulary)"
      ],
      "execution_count": 4,
      "outputs": []
    },
    {
      "cell_type": "markdown",
      "metadata": {
        "id": "1xBHQgd9YjSW"
      },
      "source": [
        "If needed, we can do lookup tables going from tokens to feature numbers. Note that most of the elements in any feature vector will be zero."
      ]
    },
    {
      "cell_type": "code",
      "metadata": {
        "id": "ziRzSdAgYJiB",
        "colab": {
          "base_uri": "https://localhost:8080/"
        },
        "outputId": "033076cd-cbf0-4264-e565-4e7c366c794e"
      },
      "source": [
        "lut = dict()\n",
        "for i, word in enumerate(ordered_vocabulary):\n",
        "  lut[word] = i\n",
        "\n",
        "for word in ['dolphin', 'the', 'coffee']:\n",
        "  if word in vocabulary:\n",
        "    print(\"'%s' is represented as feature dimension %i\" %(word, lut[word]))\n",
        "  else:\n",
        "    print(\"'%s' is not in the vocabulary\" % word)"
      ],
      "execution_count": 5,
      "outputs": [
        {
          "output_type": "stream",
          "text": [
            "'dolphin' is not in the vocabulary\n",
            "'the' is represented as feature dimension 12700\n",
            "'coffee' is represented as feature dimension 3639\n"
          ],
          "name": "stdout"
        }
      ]
    },
    {
      "cell_type": "markdown",
      "metadata": {
        "id": "zJIW3aaM3_Yf"
      },
      "source": [
        "**Implementation task:** You should re-implement the feature extraction above. The list/array called `ordered_vocabulary` should contain the words for each feature dimension and X should contain the BOW binary vectors. \n",
        "\n",
        "*Hints: Implementing X a numpy array will make your life easier in the comming parts. Also, the `in` operator is way faster for sets than for lists.*\n",
        " \n",
        "We can now look at the data and the words corresponding to feature dimensions."
      ]
    },
    {
      "cell_type": "code",
      "metadata": {
        "id": "2aVgDJ0mksJ2",
        "colab": {
          "base_uri": "https://localhost:8080/"
        },
        "outputId": "e53cc8a0-68bf-46c7-9e6e-e79eb968822e"
      },
      "source": [
        "print(ordered_vocabulary[2000:2010])\n",
        "print(X[:10, 2000:2010])\n",
        "for w in ['dolphin', 'the', 'coffee']:\n",
        "  print(\"'%s' in words: %s\" % (w, w in vocabulary))"
      ],
      "execution_count": 6,
      "outputs": [
        {
          "output_type": "stream",
          "text": [
            "['annoying', 'annoys', 'annual', 'anointed', 'another', 'anoynamous', 'anson', 'answer', 'answered', 'answers']\n",
            "[[0 0 0 0 0 0 0 0 0 0]\n",
            " [0 0 0 0 0 0 0 0 0 0]\n",
            " [0 0 0 0 0 0 0 0 0 0]\n",
            " [0 0 0 0 0 0 0 0 0 0]\n",
            " [0 0 0 0 0 0 0 0 0 0]\n",
            " [0 0 0 0 0 0 0 0 0 0]\n",
            " [0 0 0 0 0 0 0 0 0 0]\n",
            " [0 0 0 0 0 0 0 0 0 0]\n",
            " [0 0 0 0 0 0 0 0 0 0]\n",
            " [0 0 0 0 0 0 0 0 0 0]]\n",
            "'dolphin' in words: False\n",
            "'the' in words: True\n",
            "'coffee' in words: True\n"
          ],
          "name": "stdout"
        }
      ]
    },
    {
      "cell_type": "markdown",
      "metadata": {
        "id": "-Y9pWyL1ju7P"
      },
      "source": [
        "At this point in the code, X and y are ready for the supervised learning task.\n",
        "\n",
        "## Part 3: Learning framework \n",
        " \n",
        "The model we will use is a simple hyperplane. This plane will represent the decision boundary through the data space, separating positive from negative ratings.\n",
        " \n",
        "**Implementation task:** You should implement your versions of the following parts (you can also find this in the slides):\n",
        " \n",
        "1. **Hyperplane model**. The model should be a hyperplane as $f(x, \\omega) = sgn(\\omega^\\top x)$, where $sgn(\\cdot)$ is the [sign function](https://en.wikipedia.org/wiki/Sign_function). Note that $x_0$ in this notation is the pseudo input 1. When evaluated, this gives us the predicted results as $\\hat y_i = f(X_i, \\omega^{(t)})$, where $\\omega^{(t)}$ is the parameter vector at optimization iteration t and $\\omega^{(0)}$ is the initial guess for the parameter vector.\n",
        " \n",
        "2. **Objective function.** The loss function for our model is the [hinge loss](https://en.wikipedia.org/wiki/Hinge_loss), which will be used together with $l_2$ regularization.\n",
        "\n",
        "  $\\mathfrak{L}(X, y, \\omega) = \\frac{\\lambda}{2} ||\\omega||^2 + \\sum_i \\max(0, 1-y_i \\cdot \\omega^\\top X_i)$.\n",
        "\n",
        "  Regularization is done by adding a norm on the parameter vector and including that in the objective function. A shorter parameter vector gives a larger margin for this model. The $l_2$ norm is defined as $\\sqrt{\\sum_{i=1}^n \\omega_i^2}$. The regularization always has some positive attenuation parameter $\\lambda \\in \\mathbb{R}$ keeping it from dominating the objective function. It symbolizes a trade-off between a more accurate classification and wider margins, while also giving the objective function a unique solution.\n",
        "\n",
        "3. **Gradient descent**. The update for gradient descent looks like $\\omega^{(t)} = \\omega^{(t-1)} - \\gamma \\nabla \\mathfrak{L}(\\omega^{(t-1)})$, where the update gradient is defined as $\\nabla \\mathfrak{L} = \\left ( \\frac{\\partial \\mathfrak{L}}{\\partial \\omega_1}, \\frac{\\partial \\mathfrak{L}}{\\partial \\omega_2}, \\ldots, \\frac{\\partial \\mathfrak{L}}{\\partial \\omega_n} \\right )^\\top$. The expression for this gradient $\\nabla \\mathfrak{L}$ is given analytically as:\n",
        "\n",
        "  $\\nabla \\mathfrak{L}(X, y, \\omega) = \\lambda \\omega + \\sum_{i=1}^{|X|}\n",
        "\\begin{cases}\n",
        "0 & \\text{if } y_i \\omega^\\top X_i \\geq 1\\\\ \n",
        "-y_i X_i & \\text{else}\n",
        "\\end{cases}$\n",
        "\n",
        "In the expression for the gradient, $X_i$ is a vector and $y_i$ is a scalar. These two refer to the i:th data point and its label. The learning rate $\\gamma \\in \\mathbb{R}$ acts as a scaling/dampening factor on the gradient update. This should run until some stopping criteria is met (e.g., $\\omega^{(t+1)}\\approx \\omega^{(t)}$). The default stopping criterion for `SGDClassifier` is when $loss_{current} > loss_{best} - .001$ for five consecutive iterations.\n",
        "\n",
        "*Note that while your code will be runnable, it will likely be much slower than sklearn's code.*"
      ]
    },
    {
      "cell_type": "code",
      "metadata": {
        "id": "GkQXKQx-yTBW",
        "colab": {
          "base_uri": "https://localhost:8080/"
        },
        "outputId": "7ea5d0c7-a8f7-47c3-e8a6-e27971e64265"
      },
      "source": [
        "from sklearn.linear_model import SGDClassifier\n",
        "\n",
        "# Set hyperparameters (these variables are only here for clarity)\n",
        "reguliser_dampening = 0.001   # lambda\n",
        "learning_rate = .1            # gamma\n",
        "\n",
        "# Create the untrained classifier\n",
        "model = SGDClassifier(loss='hinge', penalty='l2',\n",
        "                      alpha=reguliser_dampening, verbose=1,\n",
        "                      learning_rate='constant', eta0=learning_rate)\n",
        "\n",
        "# Train the classifier\n",
        "model.fit(X, y)\n",
        "\n",
        "# Get the parameter vector\n",
        "omega = np.concatenate([model.intercept_, model.coef_.ravel()])"
      ],
      "execution_count": 7,
      "outputs": [
        {
          "output_type": "stream",
          "text": [
            "-- Epoch 1\n",
            "Norm: 13.44, NNZs: 6431, Bias: -0.100000, T: 1197, Avg. loss: 0.549979\n",
            "Total training time: 0.05 seconds.\n",
            "-- Epoch 2\n",
            "Norm: 14.34, NNZs: 7043, Bias: -0.700000, T: 2394, Avg. loss: 0.177079\n",
            "Total training time: 0.09 seconds.\n",
            "-- Epoch 3\n",
            "Norm: 14.22, NNZs: 7238, Bias: -0.900000, T: 3591, Avg. loss: 0.101488\n",
            "Total training time: 0.13 seconds.\n",
            "-- Epoch 4\n",
            "Norm: 14.10, NNZs: 7366, Bias: -0.600000, T: 4788, Avg. loss: 0.080559\n",
            "Total training time: 0.16 seconds.\n",
            "-- Epoch 5\n",
            "Norm: 14.07, NNZs: 7812, Bias: -0.300000, T: 5985, Avg. loss: 0.076586\n",
            "Total training time: 0.20 seconds.\n",
            "-- Epoch 6\n",
            "Norm: 13.93, NNZs: 7937, Bias: -0.500000, T: 7182, Avg. loss: 0.064743\n",
            "Total training time: 0.23 seconds.\n",
            "-- Epoch 7\n",
            "Norm: 13.74, NNZs: 8063, Bias: -0.400000, T: 8379, Avg. loss: 0.072646\n",
            "Total training time: 0.26 seconds.\n",
            "-- Epoch 8\n",
            "Norm: 13.40, NNZs: 8164, Bias: -0.600000, T: 9576, Avg. loss: 0.057846\n",
            "Total training time: 0.29 seconds.\n",
            "-- Epoch 9\n",
            "Norm: 12.83, NNZs: 8177, Bias: -0.500000, T: 10773, Avg. loss: 0.051864\n",
            "Total training time: 0.33 seconds.\n",
            "-- Epoch 10\n",
            "Norm: 12.61, NNZs: 8203, Bias: -0.700000, T: 11970, Avg. loss: 0.056924\n",
            "Total training time: 0.36 seconds.\n",
            "-- Epoch 11\n",
            "Norm: 12.40, NNZs: 8254, Bias: -0.400000, T: 13167, Avg. loss: 0.058655\n",
            "Total training time: 0.39 seconds.\n",
            "-- Epoch 12\n",
            "Norm: 12.84, NNZs: 8403, Bias: -0.500000, T: 14364, Avg. loss: 0.065949\n",
            "Total training time: 0.42 seconds.\n",
            "-- Epoch 13\n",
            "Norm: 13.05, NNZs: 8419, Bias: -0.800000, T: 15561, Avg. loss: 0.065574\n",
            "Total training time: 0.46 seconds.\n",
            "-- Epoch 14\n",
            "Norm: 12.57, NNZs: 8423, Bias: -0.800000, T: 16758, Avg. loss: 0.055401\n",
            "Total training time: 0.49 seconds.\n",
            "Convergence after 14 epochs took 0.49 seconds\n"
          ],
          "name": "stdout"
        }
      ]
    },
    {
      "cell_type": "markdown",
      "metadata": {
        "id": "vI1mGxUpljl5"
      },
      "source": [
        "In the above training with verbose=1, note how the loss etc are changing. For your implementation, it can be very good to print out lots of information so that you can see if you get what you expect (e.g. a lowering of the loss).\n",
        " \n",
        "We can examine the weights by plotting them. Think about how to interpret these weights."
      ]
    },
    {
      "cell_type": "code",
      "metadata": {
        "id": "tdyxUJFdO0wS",
        "colab": {
          "base_uri": "https://localhost:8080/",
          "height": 225
        },
        "outputId": "3964e8c7-17c1-46fb-91ca-002e64e55ed3"
      },
      "source": [
        "import matplotlib.pyplot as plt\n",
        " \n",
        "plt.figure(figsize=(20, 3))\n",
        "plt.plot(omega[1:])\n",
        "plt.xlabel(\"Value\")\n",
        "plt.xlabel(\"Weights\")\n",
        "plt.show()"
      ],
      "execution_count": 8,
      "outputs": [
        {
          "output_type": "display_data",
          "data": {
            "image/png": "[encoded data removed]",
            "text/plain": [
              "<Figure size 1440x216 with 1 Axes>"
            ]
          },
          "metadata": {
            "tags": [],
            "needs_background": "light"
          }
        }
      ]
    },
    {
      "cell_type": "markdown",
      "metadata": {
        "id": "12tJY8d8ma3V"
      },
      "source": [
        "From the same information, we can plot the words with the strongest influence. Can you see a pattern? Is the model over learning on some words? Why might word frequency be important when analysing their impact?\n",
        "\n"
      ]
    },
    {
      "cell_type": "code",
      "metadata": {
        "id": "HM3Nm2_2l2j3",
        "colab": {
          "base_uri": "https://localhost:8080/"
        },
        "outputId": "3a0e7624-0d78-4215-fdf6-d9c6e33028c7"
      },
      "source": [
        "assert (len(omega)-1) == len(vocabulary)\n",
        "\n",
        "# Sort by absolute value\n",
        "idx = np.argsort(np.abs(omega[1:]))\n",
        "\n",
        "print(\"                Word   Weight  Occurences\")\n",
        "for i in idx[-20:]:   # Pick those with highest 'voting' values\n",
        "  print(\"%20s   %.3f\\t%i \" % (ordered_vocabulary[i], omega[i+1], np.sum([ordered_vocabulary[i] in d for d in X_raw])))"
      ],
      "execution_count": 9,
      "outputs": [
        {
          "output_type": "stream",
          "text": [
            "                Word   Weight  Occurences\n",
            "                hall   -0.769\t19 \n",
            "                runs   -0.780\t77 \n",
            "                 you   0.786\t435 \n",
            "                cubs   -0.786\t4 \n",
            "                ball   -0.790\t199 \n",
            "              devils   0.790\t0 \n",
            "                 ass   0.799\t152 \n",
            "                mask   0.804\t13 \n",
            "               goals   0.807\t54 \n",
            "             detroit   0.845\t1 \n",
            "          pittsburgh   0.854\t1 \n",
            "             playoff   0.855\t104 \n",
            "                 cup   0.863\t17 \n",
            "            baseball   -0.909\t102 \n",
            "              braves   -1.002\t1 \n",
            "               leafs   1.016\t1 \n",
            "                 ice   1.070\t188 \n",
            "            playoffs   1.328\t71 \n",
            "                 nhl   1.460\t1 \n",
            "              hockey   1.465\t129 \n"
          ],
          "name": "stdout"
        }
      ]
    },
    {
      "cell_type": "markdown",
      "metadata": {
        "id": "kSlwPrX1wVCq"
      },
      "source": [
        "## Part 4: Exploring hyperparameters\n",
        " \n",
        "For optimization of the hyperparameters, you can search for value on a grid. Trying all combinations is called grid search and can be implemented with nested `for` loops. A faster alternative is to sample from the grid. Sampling is now as thorough but most often sufficient, and much faster. Following the current consensus on ML methodology, we must at least split off a test set before exploring any configuration and use this data only at the very end of the experiment.\n",
        " \n",
        "**Implementation task:** Implement code for printing a sorted table of your sampled hyperparameters. To accomplish this, you must change the code above to store your evaluations (with loss/accuracy) of different hyperparameter sets.\n",
        "\n",
        "The final code call below evaluates the estimated best hyperparameter set on the test set.\n",
        "\n",
        "1. **Learning rate**. Try different settings of the learning rate. It is useful to pick values from an exponentially spaced grid (e.g., 0.0001/0.0003/0.001/0.003/0.01/0.03/0.1/0.3/1.0/3.0) where each of the values is about 3 times as large as the previous one. Note what happens when the learning rate gets too small or too large. The best learning rate is as large as possible, but still reliable and stable.\n",
        " \n",
        "3. **Regulariser dampening**. Try to find how much the regulariser needs to be dampened to get a good score. Use an exponentially spaced grid here as well.\n",
        " \n",
        "\n",
        "The grid points can be generated as `np.exp(np.linspace(np.log(0.0001), np.log(3), 10)`. For these real valued hyperparameters, you can add extra points if you find a promising interval. Note that trying every combination of hyperparameters is likely not feasible, but don't hesitate to try.\n",
        " \n",
        "Once you’ve settled on a final set of hyperparameters that work well/decently (and only then!), use the test set and rerun to obtain an accuracy score on the test set."
      ]
    },
    {
      "cell_type": "code",
      "metadata": {
        "id": "7K-Lo5iM-Nnr"
      },
      "source": [
        "from sklearn.model_selection import train_test_split\n",
        "\n",
        "# Splitting of the test set\n",
        "X_train, X_test, y_train, y_test = train_test_split(X, y, test_size=0.2)"
      ],
      "execution_count": 10,
      "outputs": []
    },
    {
      "cell_type": "code",
      "metadata": {
        "id": "stah3yXmM44-",
        "colab": {
          "base_uri": "https://localhost:8080/"
        },
        "outputId": "1abea0aa-e393-4c10-b76f-2505a5ac0150"
      },
      "source": [
        "from sklearn.model_selection import ParameterSampler\n",
        "\n",
        "# Define the parameters\n",
        "parameter_distribution = {'learning_rate': np.exp(np.linspace(np.log(0.0001), np.log(3), 10)),\n",
        "                          'reguliser_dampening': np.exp(np.linspace(np.log(0.0001), np.log(3), 10))}\n",
        "\n",
        "# Placeholder to make future comparissons easier\n",
        "best_hyperparameters = None\n",
        "print(\"Learning rate:\\tReg.dampening:\\tTraining set accuracy:\")\n",
        "\n",
        "for hyperparameters in ParameterSampler(parameter_distribution, n_iter=10):\n",
        "  # Set up the classifier\n",
        "  reguliser_dampening = hyperparameters['reguliser_dampening']\n",
        "  learning_rate = hyperparameters['learning_rate']\n",
        "  model = SGDClassifier(loss='hinge', penalty='l2',\n",
        "                        alpha=reguliser_dampening, verbose=0,\n",
        "                        learning_rate='constant', eta0=learning_rate)\n",
        "\n",
        "  # Train the classifier\n",
        "  model.fit(X_train, y_train)\n",
        "\n",
        "  # Calculate the training accuracy    \n",
        "  training_accuracy = np.sum(model.predict(X_train)==y_train)/len(y_train)\n",
        "\n",
        "  # Store the hyperparameters if they are better than what we have found before\n",
        "  if best_hyperparameters is None or best_hyperparameters[1] < training_accuracy:\n",
        "    best_hyperparameters = (hyperparameters, training_accuracy)\n",
        "  print(\"%.5f\\t\\t%.5f\\t\\t%.1f%%\" % (hyperparameters['learning_rate'], hyperparameters['reguliser_dampening'], 100*training_accuracy))\n",
        "\n",
        "best_learning_rate = best_hyperparameters[0]['learning_rate']\n",
        "best_reguliser_dampening = best_hyperparameters[0]['reguliser_dampening']\n",
        "print(\"Best parameters: %.5f, %.5f\" % (best_learning_rate, best_reguliser_dampening))"
      ],
      "execution_count": 11,
      "outputs": [
        {
          "output_type": "stream",
          "text": [
            "Learning rate:\tReg.dampening:\tTraining set accuracy:\n",
            "0.00099\t\t0.00311\t\t96.6%\n",
            "0.09655\t\t0.30353\t\t69.5%\n",
            "0.00031\t\t0.00311\t\t95.1%\n",
            "0.00010\t\t3.00000\t\t85.5%\n",
            "0.00031\t\t0.09655\t\t89.8%\n",
            "0.09655\t\t0.00031\t\t98.5%\n",
            "0.00311\t\t0.00010\t\t97.8%\n",
            "0.03071\t\t0.00010\t\t98.5%\n",
            "0.30353\t\t0.00311\t\t89.9%\n",
            "0.03071\t\t0.09655\t\t85.0%\n",
            "Best parameters: 0.09655, 0.00031\n"
          ],
          "name": "stdout"
        }
      ]
    },
    {
      "cell_type": "markdown",
      "metadata": {
        "id": "dsxPiVN2NG8M"
      },
      "source": [
        "We can now run the final model."
      ]
    },
    {
      "cell_type": "code",
      "metadata": {
        "id": "8-4dV6Mp8vxS",
        "colab": {
          "base_uri": "https://localhost:8080/"
        },
        "outputId": "e820832e-39d9-40c8-9ef1-de913c860665"
      },
      "source": [
        "# Set up the classifier\n",
        "model = SGDClassifier(loss='hinge', penalty='l2',\n",
        "                      alpha=best_reguliser_dampening, verbose=0,\n",
        "                      learning_rate='constant', eta0=best_learning_rate)\n",
        "\n",
        "# Train on all the non-test data\n",
        "model.fit(X_train, y_train)\n",
        "\n",
        "# Run prediction on the test set\n",
        "test_accuracy = np.sum(model.predict(X_test)==y_test)/len(y_test)\n",
        "\n",
        "print(\"Test set accuracy %.1f%%\" % (100*test_accuracy))"
      ],
      "execution_count": 12,
      "outputs": [
        {
          "output_type": "stream",
          "text": [
            "Test set accuracy 87.9%\n"
          ],
          "name": "stdout"
        }
      ]
    },
    {
      "cell_type": "markdown",
      "metadata": {
        "id": "T3vhjy-DwpKJ"
      },
      "source": [
        "Is this a good result? What is a good result?\n",
        "\n"
      ]
    }
  ]
}