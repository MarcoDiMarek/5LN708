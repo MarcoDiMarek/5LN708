{
  "nbformat": 4,
  "nbformat_minor": 0,
  "metadata": {
    "colab": {
      "name": "Lab 09 - Dimensionality Reduction.ipynb",
      "provenance": [],
      "collapsed_sections": [],
      "toc_visible": true
    },
    "kernelspec": {
      "display_name": "Python 3",
      "name": "python3"
    }
  },
  "cells": [
    {
      "cell_type": "markdown",
      "metadata": {
        "id": "rbblUQgh5QCi"
      },
      "source": [
        "# Dimensionality Reduction\n",
        "\n",
        "* Read about the data sets\n",
        "  * Newsgroups: https://scikit-learn.org/0.19/datasets/twenty_newsgroups.html\n",
        "  * MNIST: https://en.wikipedia.org/wiki/MNIST_database\n",
        "* Experiment with feature extraction on the newsgroup data. For example:\n",
        " * Change which newsgroups are included (be ware of using too much data)\n",
        " * Change the feature extraction: word counts vs tf-idf, ngrams for words and characters\n",
        "* Dimensionality reduction\n",
        " * Try out the three different types\n",
        " * Change the distance metrics for tSNE and UMAP"
      ]
    },
    {
      "cell_type": "code",
      "metadata": {
        "id": "KukO-BJWd0wu"
      },
      "source": [
        "import numpy as np\n",
        "\n",
        "import io\n",
        "from tqdm import tqdm\n",
        "import cv2\n",
        "import ipywidgets\n",
        "\n",
        "import matplotlib.pyplot as plt\n",
        "from mpl_toolkits.mplot3d.axes3d import Axes3D\n",
        "from matplotlib.animation import FuncAnimation\n",
        "from IPython.display import HTML"
      ],
      "execution_count": null,
      "outputs": []
    },
    {
      "cell_type": "markdown",
      "metadata": {
        "id": "55Mz_fD78rsy"
      },
      "source": [
        "## Data\n",
        "\n",
        "Here are two alternatives that overwrite each other. For the text data, experiment with different feature encodings, ngram orders, and metrics. If the clusters after dimensionality reduction looks better, see it as an indication that the model assumptions fit the data to a higher degree."
      ]
    },
    {
      "cell_type": "code",
      "metadata": {
        "id": "fhRh9wYOdvss"
      },
      "source": [
        "from sklearn.datasets import fetch_20newsgroups\n",
        "categories = ['alt.atheism', 'talk.religion.misc', 'comp.graphics', 'sci.space']\n",
        "\n",
        "newsgroups_train = fetch_20newsgroups(subset='train', categories=categories)\n",
        "\n",
        "from sklearn.feature_extraction.text import TfidfVectorizer, CountVectorizer\n",
        "\n",
        "# vectorizer = CountVectorizer()\n",
        "vectorizer = TfidfVectorizer()\n",
        "X = np.asarray(vectorizer.fit_transform(newsgroups_train.data).todense())\n",
        "y = newsgroups_train.target\n",
        "labels = newsgroups_train.target_names"
      ],
      "execution_count": null,
      "outputs": []
    },
    {
      "cell_type": "code",
      "metadata": {
        "id": "47TpEsGjd-i8"
      },
      "source": [
        "from sklearn.datasets import load_digits\n",
        "X, y = load_digits(return_X_y=True)\n",
        "labels = [str(n) for n in range(10)]"
      ],
      "execution_count": null,
      "outputs": []
    },
    {
      "cell_type": "markdown",
      "metadata": {
        "id": "B8G6c60L84N6"
      },
      "source": [
        "## Linear dimensionality reduction\n",
        "\n",
        "Principal component analysis (PCA) finds a linear subspace. We can plot the cummulative variance explained for n components as follows."
      ]
    },
    {
      "cell_type": "code",
      "metadata": {
        "id": "qjMD9-eT9qia"
      },
      "source": [
        "from sklearn.decomposition import PCA\n",
        "pca = PCA(n_components=min(200, X.shape[1]//2))\n",
        "X_pca = pca.fit_transform(X)\n",
        "\n",
        "plt.figure(figsize=(6, 4))\n",
        "plt.plot(np.cumsum(pca.explained_variance_ratio_)*100)\n",
        "plt.ylabel(\"Cumulative explained variance [%]\")\n",
        "plt.xlabel(\"n components\")\n",
        "plt.show()"
      ],
      "execution_count": null,
      "outputs": []
    },
    {
      "cell_type": "markdown",
      "source": [
        "Let's plot the original data and the data after dimensionality reduction. Note how PCA finds more interesting directions."
      ],
      "metadata": {
        "id": "QpNKZGacvVjK"
      }
    },
    {
      "cell_type": "code",
      "metadata": {
        "id": "MaVO1b6l9BIQ"
      },
      "source": [
        "def plot_2d(X, y, labels, ax=None):\n",
        "  if ax is None:\n",
        "    fig = plt.figure(figsize=(6, 6), dpi=100)\n",
        "    ax = fig.subplots(1, 1)\n",
        "  ax.scatter(X[:, 0], X[:, 1], c=y, s=15, cmap='tab10', alpha=.5)\n",
        "  for label in np.unique(y):\n",
        "    ax.text(np.mean(X[y==label, 0]),\n",
        "            np.mean(X[y==label, 1]),\n",
        "            labels[label],\n",
        "            fontsize=16, zorder=1)\n",
        "  if ax is None:\n",
        "    fig.tight_layout(pad=0)\n",
        "    fig.show()\n",
        "\n",
        "fig = plt.figure(figsize=(13, 6))\n",
        "ax = fig.subplots(1, 2)\n",
        "plot_2d(X, y, labels, ax[0])\n",
        "plot_2d(X_pca, y, labels, ax[1])\n",
        "fig.tight_layout(pad=0)\n",
        "fig.show()"
      ],
      "execution_count": null,
      "outputs": []
    },
    {
      "cell_type": "markdown",
      "source": [
        "Let's try 3D."
      ],
      "metadata": {
        "id": "Pf-4sR-Tvfik"
      }
    },
    {
      "cell_type": "code",
      "metadata": {
        "id": "9EcLl4vREozK"
      },
      "source": [
        "def plot_3d(X, y, labels, angle=None, ax=None):\n",
        "  if ax is None:\n",
        "    fig = plt.figure(figsize=(8, 6), dpi=100)\n",
        "    ax = fig.add_subplot(1, 1, 1, projection='3d')\n",
        "  ax.scatter(X[:, 0], X[:, 1], X[:, 2], c=y,\n",
        "              alpha=.5, cmap='tab10')\n",
        "  for label in np.unique(y):\n",
        "    ax.text(np.mean(X[y==label, 0]),\n",
        "            np.mean(X[y==label, 1]),\n",
        "            np.mean(X[y==label, 2]),\n",
        "            labels[label],\n",
        "            fontsize=10,\n",
        "            horizontalalignment='center',\n",
        "            verticalalignment='center')\n",
        "  if angle is not None:\n",
        "    ax.view_init(20, angle % 360)\n",
        "  if ax is None:\n",
        "    fig.tight_layout(pad=0)\n",
        "    fig.show()\n",
        "\n",
        "fig = plt.figure(figsize=(8, 6), dpi=100)\n",
        "ax = fig.add_subplot(1, 1, 1, projection='3d')\n",
        "plot_3d(X_pca, y, labels, ax=ax)\n",
        "fig.show()"
      ],
      "execution_count": null,
      "outputs": []
    },
    {
      "cell_type": "markdown",
      "source": [
        "A widget for rotating the data."
      ],
      "metadata": {
        "id": "tBBxCVHjvjcU"
      }
    },
    {
      "cell_type": "code",
      "metadata": {
        "id": "VMFWCPviuqZs"
      },
      "source": [
        "interact_plot = ipywidgets.interact(lambda angle: plot_3d(X_pca, y, labels, angle=angle),\n",
        "                                    angle=ipywidgets.IntSlider(value=0, min=0, max=359, step=1, description=\"View angle\"));\n",
        "output = interact_plot.widget.children[-1] # This should prevent flickering\n",
        "output.layout.height = '500px'"
      ],
      "execution_count": null,
      "outputs": []
    },
    {
      "cell_type": "code",
      "metadata": {
        "id": "uPZmCpFsF9eO"
      },
      "source": [
        "# fig = plt.figure(figsize=(8, 5), dpi=100)\n",
        "# ax = fig.add_subplot(1, 1, 1, projection='3d')\n",
        "# plot_3d(X_pca, y, labels, ax=ax)\n",
        "# fig.tight_layout(pad=0)\n",
        "\n",
        "# def init():\n",
        "#     ax.view_init(20, 0)\n",
        "#     return fig,\n",
        "\n",
        "# def update(frame):\n",
        "#     angle = frame % 360\n",
        "#     ax.view_init(20, angle)\n",
        "#     return fig,\n",
        "\n",
        "# anim = FuncAnimation(fig, update, frames=tqdm(range(1, 360, 2), total=360, desc=\"Creating video\"), interval=1000//20, init_func=init, blit=True, )\n",
        "# anim.save('pca.mp4', fps=20, extra_args=['-vcodec', 'libx264'])\n",
        "# HTML(anim.to_html5_video())\n",
        "# # anim.save('pca.gif', writer='imagemagick', fps=20)"
      ],
      "execution_count": null,
      "outputs": []
    },
    {
      "cell_type": "markdown",
      "metadata": {
        "id": "RPRdiSqd9BwH"
      },
      "source": [
        "## Non-linear dimensionality reduction"
      ]
    },
    {
      "cell_type": "markdown",
      "metadata": {
        "id": "wJXT3AnCyFf3"
      },
      "source": [
        "### t-SNE"
      ]
    },
    {
      "cell_type": "code",
      "metadata": {
        "id": "3clykcljsVCh"
      },
      "source": [
        "from sklearn.manifold import TSNE\n",
        "import os"
      ],
      "execution_count": null,
      "outputs": []
    },
    {
      "cell_type": "code",
      "metadata": {
        "id": "yFk1C0HSRfIv"
      },
      "source": [
        "tsne = TSNE(n_components=2, metric='euclidean', n_jobs=os.cpu_count())\n",
        "# tsne = TSNE(n_components=2, metric='cosine', n_jobs=os.cpu_count())\n",
        "X_tsne2 = tsne.fit_transform(X)"
      ],
      "execution_count": null,
      "outputs": []
    },
    {
      "cell_type": "code",
      "metadata": {
        "id": "Z5amZIX2w7oS"
      },
      "source": [
        "plot_2d(X_tsne2, y, labels)"
      ],
      "execution_count": null,
      "outputs": []
    },
    {
      "cell_type": "code",
      "metadata": {
        "id": "UfiHrJAHxsjq"
      },
      "source": [
        "tsne = TSNE(n_components=3, metric='euclidean', n_jobs=os.cpu_count())\n",
        "# tsne = TSNE(n_components=2, metric='cosine', n_jobs=os.cpu_count())\n",
        "X_tsne3 = tsne.fit_transform(X)"
      ],
      "execution_count": null,
      "outputs": []
    },
    {
      "cell_type": "code",
      "metadata": {
        "id": "jrTYGCrQw3q0"
      },
      "source": [
        "plot_3d(X_tsne3, y, labels)"
      ],
      "execution_count": null,
      "outputs": []
    },
    {
      "cell_type": "code",
      "metadata": {
        "id": "5hLLtcvVyEAm"
      },
      "source": [
        "# fig = plt.figure(figsize=(8, 5), dpi=100)\n",
        "# ax = fig.add_subplot(1, 1, 1, projection='3d')\n",
        "# plot_3d(X_tsne3, y, labels, ax=ax)\n",
        "# fig.tight_layout(pad=0)\n",
        "\n",
        "# def init():\n",
        "#     ax.view_init(20, 0)\n",
        "#     return fig,\n",
        "\n",
        "# def update(frame):\n",
        "#     angle = frame % 360\n",
        "#     ax.view_init(20, angle)\n",
        "#     return fig,\n",
        "\n",
        "# anim = FuncAnimation(fig, update, frames=tqdm(range(1, 360, 2), total=360, desc=\"Creating video\"), interval=1000//20, init_func=init, blit=True, )\n",
        "# anim.save('tsne.mp4', fps=20, extra_args=['-vcodec', 'libx264'])\n",
        "# HTML(anim.to_html5_video())\n",
        "# # anim.save('tsne.gif', writer='imagemagick', fps=20)"
      ],
      "execution_count": null,
      "outputs": []
    },
    {
      "cell_type": "markdown",
      "metadata": {
        "id": "n0tPYk0eyIs_"
      },
      "source": [
        "### UMAP"
      ]
    },
    {
      "cell_type": "code",
      "metadata": {
        "id": "zUtxOg_r6T5R"
      },
      "source": [
        "try:\n",
        "  from umap import UMAP\n",
        "except:\n",
        "  !pip install umap-learn\n",
        "finally:\n",
        "  from umap import UMAP"
      ],
      "execution_count": null,
      "outputs": []
    },
    {
      "cell_type": "code",
      "metadata": {
        "id": "IOrqQXulxxIy"
      },
      "source": [
        "umap = UMAP(n_components=2, metric='euclidean')\n",
        "# umap = UMAP(n_components=2, metric='cosine')\n",
        "X_umap2 = umap.fit_transform(X)"
      ],
      "execution_count": null,
      "outputs": []
    },
    {
      "cell_type": "code",
      "metadata": {
        "id": "8ZYya0wzyipo"
      },
      "source": [
        "plot_2d(X_umap2, y, labels)"
      ],
      "execution_count": null,
      "outputs": []
    },
    {
      "cell_type": "code",
      "metadata": {
        "id": "__k7kOf6yyYp"
      },
      "source": [
        "umap = UMAP(n_components=3, metric='euclidean')\n",
        "# umap = UMAP(n_components=3, metric='cosine')\n",
        "X_umap3 = umap.fit_transform(X)"
      ],
      "execution_count": null,
      "outputs": []
    },
    {
      "cell_type": "code",
      "metadata": {
        "id": "7yT-VPKwSWQl"
      },
      "source": [
        "plot_3d(X_umap3, y, labels)"
      ],
      "execution_count": null,
      "outputs": []
    },
    {
      "cell_type": "code",
      "metadata": {
        "id": "cBMZ-CpWzS5P"
      },
      "source": [
        "# fig = plt.figure(figsize=(8, 5), dpi=100)\n",
        "# ax = fig.add_subplot(1, 1, 1, projection='3d')\n",
        "# plot_3d(X_umap3, y, labels, ax=ax)\n",
        "# fig.tight_layout(pad=0)\n",
        "\n",
        "# def init():\n",
        "#     ax.view_init(20, 0)\n",
        "#     return fig,\n",
        "\n",
        "# def update(frame):\n",
        "#     angle = frame % 360\n",
        "#     ax.view_init(20, angle)\n",
        "#     return fig,\n",
        "\n",
        "# anim = FuncAnimation(fig, update, frames=tqdm(range(1, 30, 2), total=360, desc=\"Creating video\"), interval=1000//20, init_func=init, blit=True, )\n",
        "# anim.save('umap.mp4', fps=20, extra_args=['-vcodec', 'libx264'])\n",
        "# HTML(anim.to_html5_video())\n",
        "# # anim.save('umap.gif', writer='imagemagick', fps=20)"
      ],
      "execution_count": null,
      "outputs": []
    },
    {
      "cell_type": "code",
      "source": [
        ""
      ],
      "metadata": {
        "id": "vMM1191-wDXa"
      },
      "execution_count": null,
      "outputs": []
    }
  ]
}