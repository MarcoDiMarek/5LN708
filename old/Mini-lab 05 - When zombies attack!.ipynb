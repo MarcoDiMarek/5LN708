{
  "nbformat": 4,
  "nbformat_minor": 0,
  "metadata": {
    "colab": {
      "name": "Mini-lab 05 - When zombies attack!.ipynb",
      "provenance": []
    },
    "kernelspec": {
      "name": "python3",
      "display_name": "Python 3"
    },
    "widgets": {
      "application/vnd.jupyter.widget-state+json": {
        "f2cef23b7a7f4d18a7d940b44cdc23c7": {
          "model_module": "@jupyter-widgets/controls",
          "model_name": "VBoxModel",
          "state": {
            "_view_name": "VBoxView",
            "_dom_classes": [
              "widget-interact"
            ],
            "_model_name": "VBoxModel",
            "_view_module": "@jupyter-widgets/controls",
            "_model_module_version": "1.5.0",
            "_view_count": null,
            "_view_module_version": "1.5.0",
            "box_style": "",
            "layout": "IPY_MODEL_62b2d7de94104b90b5ae346cfd113cd7",
            "_model_module": "@jupyter-widgets/controls",
            "children": [
              "IPY_MODEL_b5c204eca049461d911dbb084f4bda87",
              "IPY_MODEL_bb407ad672ea49bb930e874bc0eba1a4",
              "IPY_MODEL_a443de7b233e4447983bbf83709dabbf"
            ]
          }
        },
        "62b2d7de94104b90b5ae346cfd113cd7": {
          "model_module": "@jupyter-widgets/base",
          "model_name": "LayoutModel",
          "state": {
            "_view_name": "LayoutView",
            "grid_template_rows": null,
            "right": null,
            "justify_content": null,
            "_view_module": "@jupyter-widgets/base",
            "overflow": null,
            "_model_module_version": "1.2.0",
            "_view_count": null,
            "flex_flow": null,
            "width": null,
            "min_width": null,
            "border": null,
            "align_items": null,
            "bottom": null,
            "_model_module": "@jupyter-widgets/base",
            "top": null,
            "grid_column": null,
            "overflow_y": null,
            "overflow_x": null,
            "grid_auto_flow": null,
            "grid_area": null,
            "grid_template_columns": null,
            "flex": null,
            "_model_name": "LayoutModel",
            "justify_items": null,
            "grid_row": null,
            "max_height": null,
            "align_content": null,
            "visibility": null,
            "align_self": null,
            "height": null,
            "min_height": null,
            "padding": null,
            "grid_auto_rows": null,
            "grid_gap": null,
            "max_width": null,
            "order": null,
            "_view_module_version": "1.2.0",
            "grid_template_areas": null,
            "object_position": null,
            "object_fit": null,
            "grid_auto_columns": null,
            "margin": null,
            "display": null,
            "left": null
          }
        },
        "b5c204eca049461d911dbb084f4bda87": {
          "model_module": "@jupyter-widgets/controls",
          "model_name": "FloatSliderModel",
          "state": {
            "_view_name": "FloatSliderView",
            "style": "IPY_MODEL_88513e9e9c9640079763e22db68ff446",
            "_dom_classes": [],
            "description": "S->Z (beta, prob. of infection)",
            "step": 0.01,
            "_model_name": "FloatSliderModel",
            "orientation": "horizontal",
            "max": 0.5,
            "_view_module": "@jupyter-widgets/controls",
            "_model_module_version": "1.5.0",
            "value": 0.1,
            "_view_count": null,
            "disabled": false,
            "_view_module_version": "1.5.0",
            "min": 0,
            "continuous_update": true,
            "readout_format": ".2f",
            "description_tooltip": null,
            "readout": true,
            "_model_module": "@jupyter-widgets/controls",
            "layout": "IPY_MODEL_b5bd8206de0b4731abc0a6a3253c9606"
          }
        },
        "bb407ad672ea49bb930e874bc0eba1a4": {
          "model_module": "@jupyter-widgets/controls",
          "model_name": "FloatSliderModel",
          "state": {
            "_view_name": "FloatSliderView",
            "style": "IPY_MODEL_7ca0e73163a14625a610abd0b61c381b",
            "_dom_classes": [],
            "description": "Z->R (alpha, prob. of eradication)",
            "step": 0.01,
            "_model_name": "FloatSliderModel",
            "orientation": "horizontal",
            "max": 0.5,
            "_view_module": "@jupyter-widgets/controls",
            "_model_module_version": "1.5.0",
            "value": 0.1,
            "_view_count": null,
            "disabled": false,
            "_view_module_version": "1.5.0",
            "min": 0,
            "continuous_update": true,
            "readout_format": ".2f",
            "description_tooltip": null,
            "readout": true,
            "_model_module": "@jupyter-widgets/controls",
            "layout": "IPY_MODEL_6e75c3886fb84f8485bb76eddb8ec3af"
          }
        },
        "a443de7b233e4447983bbf83709dabbf": {
          "model_module": "@jupyter-widgets/output",
          "model_name": "OutputModel",
          "state": {
            "_view_name": "OutputView",
            "msg_id": "",
            "_dom_classes": [],
            "_model_name": "OutputModel",
            "outputs": [
              {
                "output_type": "display_data",
                "metadata": {
                  "tags": [],
                  "needs_background": "light"
                },
                "image/png": "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\n",
                "text/plain": "<Figure size 800x400 with 1 Axes>"
              }
            ],
            "_view_module": "@jupyter-widgets/output",
            "_model_module_version": "1.0.0",
            "_view_count": null,
            "_view_module_version": "1.0.0",
            "layout": "IPY_MODEL_8ebe11cf92834b8fb0a8396c325bd95d",
            "_model_module": "@jupyter-widgets/output"
          }
        },
        "88513e9e9c9640079763e22db68ff446": {
          "model_module": "@jupyter-widgets/controls",
          "model_name": "SliderStyleModel",
          "state": {
            "_view_name": "StyleView",
            "handle_color": null,
            "_model_name": "SliderStyleModel",
            "description_width": "initial",
            "_view_module": "@jupyter-widgets/base",
            "_model_module_version": "1.5.0",
            "_view_count": null,
            "_view_module_version": "1.2.0",
            "_model_module": "@jupyter-widgets/controls"
          }
        },
        "b5bd8206de0b4731abc0a6a3253c9606": {
          "model_module": "@jupyter-widgets/base",
          "model_name": "LayoutModel",
          "state": {
            "_view_name": "LayoutView",
            "grid_template_rows": null,
            "right": null,
            "justify_content": null,
            "_view_module": "@jupyter-widgets/base",
            "overflow": null,
            "_model_module_version": "1.2.0",
            "_view_count": null,
            "flex_flow": null,
            "width": "600px",
            "min_width": null,
            "border": null,
            "align_items": null,
            "bottom": null,
            "_model_module": "@jupyter-widgets/base",
            "top": null,
            "grid_column": null,
            "overflow_y": null,
            "overflow_x": null,
            "grid_auto_flow": null,
            "grid_area": null,
            "grid_template_columns": null,
            "flex": null,
            "_model_name": "LayoutModel",
            "justify_items": null,
            "grid_row": null,
            "max_height": null,
            "align_content": null,
            "visibility": null,
            "align_self": null,
            "height": null,
            "min_height": null,
            "padding": null,
            "grid_auto_rows": null,
            "grid_gap": null,
            "max_width": null,
            "order": null,
            "_view_module_version": "1.2.0",
            "grid_template_areas": null,
            "object_position": null,
            "object_fit": null,
            "grid_auto_columns": null,
            "margin": null,
            "display": null,
            "left": null
          }
        },
        "7ca0e73163a14625a610abd0b61c381b": {
          "model_module": "@jupyter-widgets/controls",
          "model_name": "SliderStyleModel",
          "state": {
            "_view_name": "StyleView",
            "handle_color": null,
            "_model_name": "SliderStyleModel",
            "description_width": "initial",
            "_view_module": "@jupyter-widgets/base",
            "_model_module_version": "1.5.0",
            "_view_count": null,
            "_view_module_version": "1.2.0",
            "_model_module": "@jupyter-widgets/controls"
          }
        },
        "6e75c3886fb84f8485bb76eddb8ec3af": {
          "model_module": "@jupyter-widgets/base",
          "model_name": "LayoutModel",
          "state": {
            "_view_name": "LayoutView",
            "grid_template_rows": null,
            "right": null,
            "justify_content": null,
            "_view_module": "@jupyter-widgets/base",
            "overflow": null,
            "_model_module_version": "1.2.0",
            "_view_count": null,
            "flex_flow": null,
            "width": "600px",
            "min_width": null,
            "border": null,
            "align_items": null,
            "bottom": null,
            "_model_module": "@jupyter-widgets/base",
            "top": null,
            "grid_column": null,
            "overflow_y": null,
            "overflow_x": null,
            "grid_auto_flow": null,
            "grid_area": null,
            "grid_template_columns": null,
            "flex": null,
            "_model_name": "LayoutModel",
            "justify_items": null,
            "grid_row": null,
            "max_height": null,
            "align_content": null,
            "visibility": null,
            "align_self": null,
            "height": null,
            "min_height": null,
            "padding": null,
            "grid_auto_rows": null,
            "grid_gap": null,
            "max_width": null,
            "order": null,
            "_view_module_version": "1.2.0",
            "grid_template_areas": null,
            "object_position": null,
            "object_fit": null,
            "grid_auto_columns": null,
            "margin": null,
            "display": null,
            "left": null
          }
        },
        "8ebe11cf92834b8fb0a8396c325bd95d": {
          "model_module": "@jupyter-widgets/base",
          "model_name": "LayoutModel",
          "state": {
            "_view_name": "LayoutView",
            "grid_template_rows": null,
            "right": null,
            "justify_content": null,
            "_view_module": "@jupyter-widgets/base",
            "overflow": null,
            "_model_module_version": "1.2.0",
            "_view_count": null,
            "flex_flow": null,
            "width": null,
            "min_width": null,
            "border": null,
            "align_items": null,
            "bottom": null,
            "_model_module": "@jupyter-widgets/base",
            "top": null,
            "grid_column": null,
            "overflow_y": null,
            "overflow_x": null,
            "grid_auto_flow": null,
            "grid_area": null,
            "grid_template_columns": null,
            "flex": null,
            "_model_name": "LayoutModel",
            "justify_items": null,
            "grid_row": null,
            "max_height": null,
            "align_content": null,
            "visibility": null,
            "align_self": null,
            "height": null,
            "min_height": null,
            "padding": null,
            "grid_auto_rows": null,
            "grid_gap": null,
            "max_width": null,
            "order": null,
            "_view_module_version": "1.2.0",
            "grid_template_areas": null,
            "object_position": null,
            "object_fit": null,
            "grid_auto_columns": null,
            "margin": null,
            "display": null,
            "left": null
          }
        },
        "4288b76dcf294008b59051254c6e36db": {
          "model_module": "@jupyter-widgets/controls",
          "model_name": "VBoxModel",
          "state": {
            "_view_name": "VBoxView",
            "_dom_classes": [
              "widget-interact"
            ],
            "_model_name": "VBoxModel",
            "_view_module": "@jupyter-widgets/controls",
            "_model_module_version": "1.5.0",
            "_view_count": null,
            "_view_module_version": "1.5.0",
            "box_style": "",
            "layout": "IPY_MODEL_2b6292f346f545b8bf44db25c5d36392",
            "_model_module": "@jupyter-widgets/controls",
            "children": [
              "IPY_MODEL_0caa78b0efc84aa2900412c583b01d5a",
              "IPY_MODEL_6070e57831444dc9aacfee0e70fb6738",
              "IPY_MODEL_7c735df8a9434b3ab0d7b9ba5f2bed07",
              "IPY_MODEL_f4332fe38f4e4033b4b970882c6ab7cc",
              "IPY_MODEL_4f42c38c6a6748ac958ee73db274a7f3"
            ]
          }
        },
        "2b6292f346f545b8bf44db25c5d36392": {
          "model_module": "@jupyter-widgets/base",
          "model_name": "LayoutModel",
          "state": {
            "_view_name": "LayoutView",
            "grid_template_rows": null,
            "right": null,
            "justify_content": null,
            "_view_module": "@jupyter-widgets/base",
            "overflow": null,
            "_model_module_version": "1.2.0",
            "_view_count": null,
            "flex_flow": null,
            "width": null,
            "min_width": null,
            "border": null,
            "align_items": null,
            "bottom": null,
            "_model_module": "@jupyter-widgets/base",
            "top": null,
            "grid_column": null,
            "overflow_y": null,
            "overflow_x": null,
            "grid_auto_flow": null,
            "grid_area": null,
            "grid_template_columns": null,
            "flex": null,
            "_model_name": "LayoutModel",
            "justify_items": null,
            "grid_row": null,
            "max_height": null,
            "align_content": null,
            "visibility": null,
            "align_self": null,
            "height": null,
            "min_height": null,
            "padding": null,
            "grid_auto_rows": null,
            "grid_gap": null,
            "max_width": null,
            "order": null,
            "_view_module_version": "1.2.0",
            "grid_template_areas": null,
            "object_position": null,
            "object_fit": null,
            "grid_auto_columns": null,
            "margin": null,
            "display": null,
            "left": null
          }
        },
        "0caa78b0efc84aa2900412c583b01d5a": {
          "model_module": "@jupyter-widgets/controls",
          "model_name": "FloatSliderModel",
          "state": {
            "_view_name": "FloatSliderView",
            "style": "IPY_MODEL_514f63b92c864ffd80c2c17d5004824c",
            "_dom_classes": [],
            "description": "S->Z (beta, prob. of infection)",
            "step": 0.01,
            "_model_name": "FloatSliderModel",
            "orientation": "horizontal",
            "max": 0.5,
            "_view_module": "@jupyter-widgets/controls",
            "_model_module_version": "1.5.0",
            "value": 0.12,
            "_view_count": null,
            "disabled": false,
            "_view_module_version": "1.5.0",
            "min": 0,
            "continuous_update": true,
            "readout_format": ".2f",
            "description_tooltip": null,
            "readout": true,
            "_model_module": "@jupyter-widgets/controls",
            "layout": "IPY_MODEL_b1dc807547624e00a91526c9093308c6"
          }
        },
        "6070e57831444dc9aacfee0e70fb6738": {
          "model_module": "@jupyter-widgets/controls",
          "model_name": "FloatSliderModel",
          "state": {
            "_view_name": "FloatSliderView",
            "style": "IPY_MODEL_f127c486eb724f5d8eb02da1a6b43586",
            "_dom_classes": [],
            "description": "Z->R (alpha, prob. of eradication)",
            "step": 0.01,
            "_model_name": "FloatSliderModel",
            "orientation": "horizontal",
            "max": 0.5,
            "_view_module": "@jupyter-widgets/controls",
            "_model_module_version": "1.5.0",
            "value": 0.1,
            "_view_count": null,
            "disabled": false,
            "_view_module_version": "1.5.0",
            "min": 0,
            "continuous_update": true,
            "readout_format": ".2f",
            "description_tooltip": null,
            "readout": true,
            "_model_module": "@jupyter-widgets/controls",
            "layout": "IPY_MODEL_7d656c054013452592e5becc6b51b7fa"
          }
        },
        "7c735df8a9434b3ab0d7b9ba5f2bed07": {
          "model_module": "@jupyter-widgets/controls",
          "model_name": "FloatSliderModel",
          "state": {
            "_view_name": "FloatSliderView",
            "style": "IPY_MODEL_651b547e8e014dd7b9b6c0cddad1faab",
            "_dom_classes": [],
            "description": "Z->R (Zombie mean life span in days)",
            "step": 0.5,
            "_model_name": "FloatSliderModel",
            "orientation": "horizontal",
            "max": 21,
            "_view_module": "@jupyter-widgets/controls",
            "_model_module_version": "1.5.0",
            "value": 3,
            "_view_count": null,
            "disabled": false,
            "_view_module_version": "1.5.0",
            "min": 0,
            "continuous_update": true,
            "readout_format": ".2f",
            "description_tooltip": null,
            "readout": true,
            "_model_module": "@jupyter-widgets/controls",
            "layout": "IPY_MODEL_0e8f8e1dc9c04410a074f9c483c5c61a"
          }
        },
        "f4332fe38f4e4033b4b970882c6ab7cc": {
          "model_module": "@jupyter-widgets/controls",
          "model_name": "FloatSliderModel",
          "state": {
            "_view_name": "FloatSliderView",
            "style": "IPY_MODEL_b2e6e4beda7b4814bc0e19d7ab496d7d",
            "_dom_classes": [],
            "description": "E->Z (mean incubation time in days)",
            "step": 0.5,
            "_model_name": "FloatSliderModel",
            "orientation": "horizontal",
            "max": 21,
            "_view_module": "@jupyter-widgets/controls",
            "_model_module_version": "1.5.0",
            "value": 3,
            "_view_count": null,
            "disabled": false,
            "_view_module_version": "1.5.0",
            "min": 0,
            "continuous_update": true,
            "readout_format": ".2f",
            "description_tooltip": null,
            "readout": true,
            "_model_module": "@jupyter-widgets/controls",
            "layout": "IPY_MODEL_29f17a6b73d044afbef73043d48c21e2"
          }
        },
        "4f42c38c6a6748ac958ee73db274a7f3": {
          "model_module": "@jupyter-widgets/output",
          "model_name": "OutputModel",
          "state": {
            "_view_name": "OutputView",
            "msg_id": "",
            "_dom_classes": [],
            "_model_name": "OutputModel",
            "outputs": [
              {
                "output_type": "display_data",
                "metadata": {
                  "tags": [],
                  "needs_background": "light"
                },
                "image/png": "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\n",
                "text/plain": "<Figure size 800x400 with 1 Axes>"
              }
            ],
            "_view_module": "@jupyter-widgets/output",
            "_model_module_version": "1.0.0",
            "_view_count": null,
            "_view_module_version": "1.0.0",
            "layout": "IPY_MODEL_cfd8a266fd1f4d31aa70d76c81e81ba8",
            "_model_module": "@jupyter-widgets/output"
          }
        },
        "514f63b92c864ffd80c2c17d5004824c": {
          "model_module": "@jupyter-widgets/controls",
          "model_name": "SliderStyleModel",
          "state": {
            "_view_name": "StyleView",
            "handle_color": null,
            "_model_name": "SliderStyleModel",
            "description_width": "initial",
            "_view_module": "@jupyter-widgets/base",
            "_model_module_version": "1.5.0",
            "_view_count": null,
            "_view_module_version": "1.2.0",
            "_model_module": "@jupyter-widgets/controls"
          }
        },
        "b1dc807547624e00a91526c9093308c6": {
          "model_module": "@jupyter-widgets/base",
          "model_name": "LayoutModel",
          "state": {
            "_view_name": "LayoutView",
            "grid_template_rows": null,
            "right": null,
            "justify_content": null,
            "_view_module": "@jupyter-widgets/base",
            "overflow": null,
            "_model_module_version": "1.2.0",
            "_view_count": null,
            "flex_flow": null,
            "width": "600px",
            "min_width": null,
            "border": null,
            "align_items": null,
            "bottom": null,
            "_model_module": "@jupyter-widgets/base",
            "top": null,
            "grid_column": null,
            "overflow_y": null,
            "overflow_x": null,
            "grid_auto_flow": null,
            "grid_area": null,
            "grid_template_columns": null,
            "flex": null,
            "_model_name": "LayoutModel",
            "justify_items": null,
            "grid_row": null,
            "max_height": null,
            "align_content": null,
            "visibility": null,
            "align_self": null,
            "height": null,
            "min_height": null,
            "padding": null,
            "grid_auto_rows": null,
            "grid_gap": null,
            "max_width": null,
            "order": null,
            "_view_module_version": "1.2.0",
            "grid_template_areas": null,
            "object_position": null,
            "object_fit": null,
            "grid_auto_columns": null,
            "margin": null,
            "display": null,
            "left": null
          }
        },
        "f127c486eb724f5d8eb02da1a6b43586": {
          "model_module": "@jupyter-widgets/controls",
          "model_name": "SliderStyleModel",
          "state": {
            "_view_name": "StyleView",
            "handle_color": null,
            "_model_name": "SliderStyleModel",
            "description_width": "initial",
            "_view_module": "@jupyter-widgets/base",
            "_model_module_version": "1.5.0",
            "_view_count": null,
            "_view_module_version": "1.2.0",
            "_model_module": "@jupyter-widgets/controls"
          }
        },
        "7d656c054013452592e5becc6b51b7fa": {
          "model_module": "@jupyter-widgets/base",
          "model_name": "LayoutModel",
          "state": {
            "_view_name": "LayoutView",
            "grid_template_rows": null,
            "right": null,
            "justify_content": null,
            "_view_module": "@jupyter-widgets/base",
            "overflow": null,
            "_model_module_version": "1.2.0",
            "_view_count": null,
            "flex_flow": null,
            "width": "600px",
            "min_width": null,
            "border": null,
            "align_items": null,
            "bottom": null,
            "_model_module": "@jupyter-widgets/base",
            "top": null,
            "grid_column": null,
            "overflow_y": null,
            "overflow_x": null,
            "grid_auto_flow": null,
            "grid_area": null,
            "grid_template_columns": null,
            "flex": null,
            "_model_name": "LayoutModel",
            "justify_items": null,
            "grid_row": null,
            "max_height": null,
            "align_content": null,
            "visibility": null,
            "align_self": null,
            "height": null,
            "min_height": null,
            "padding": null,
            "grid_auto_rows": null,
            "grid_gap": null,
            "max_width": null,
            "order": null,
            "_view_module_version": "1.2.0",
            "grid_template_areas": null,
            "object_position": null,
            "object_fit": null,
            "grid_auto_columns": null,
            "margin": null,
            "display": null,
            "left": null
          }
        },
        "651b547e8e014dd7b9b6c0cddad1faab": {
          "model_module": "@jupyter-widgets/controls",
          "model_name": "SliderStyleModel",
          "state": {
            "_view_name": "StyleView",
            "handle_color": null,
            "_model_name": "SliderStyleModel",
            "description_width": "initial",
            "_view_module": "@jupyter-widgets/base",
            "_model_module_version": "1.5.0",
            "_view_count": null,
            "_view_module_version": "1.2.0",
            "_model_module": "@jupyter-widgets/controls"
          }
        },
        "0e8f8e1dc9c04410a074f9c483c5c61a": {
          "model_module": "@jupyter-widgets/base",
          "model_name": "LayoutModel",
          "state": {
            "_view_name": "LayoutView",
            "grid_template_rows": null,
            "right": null,
            "justify_content": null,
            "_view_module": "@jupyter-widgets/base",
            "overflow": null,
            "_model_module_version": "1.2.0",
            "_view_count": null,
            "flex_flow": null,
            "width": "600px",
            "min_width": null,
            "border": null,
            "align_items": null,
            "bottom": null,
            "_model_module": "@jupyter-widgets/base",
            "top": null,
            "grid_column": null,
            "overflow_y": null,
            "overflow_x": null,
            "grid_auto_flow": null,
            "grid_area": null,
            "grid_template_columns": null,
            "flex": null,
            "_model_name": "LayoutModel",
            "justify_items": null,
            "grid_row": null,
            "max_height": null,
            "align_content": null,
            "visibility": null,
            "align_self": null,
            "height": null,
            "min_height": null,
            "padding": null,
            "grid_auto_rows": null,
            "grid_gap": null,
            "max_width": null,
            "order": null,
            "_view_module_version": "1.2.0",
            "grid_template_areas": null,
            "object_position": null,
            "object_fit": null,
            "grid_auto_columns": null,
            "margin": null,
            "display": null,
            "left": null
          }
        },
        "b2e6e4beda7b4814bc0e19d7ab496d7d": {
          "model_module": "@jupyter-widgets/controls",
          "model_name": "SliderStyleModel",
          "state": {
            "_view_name": "StyleView",
            "handle_color": null,
            "_model_name": "SliderStyleModel",
            "description_width": "initial",
            "_view_module": "@jupyter-widgets/base",
            "_model_module_version": "1.5.0",
            "_view_count": null,
            "_view_module_version": "1.2.0",
            "_model_module": "@jupyter-widgets/controls"
          }
        },
        "29f17a6b73d044afbef73043d48c21e2": {
          "model_module": "@jupyter-widgets/base",
          "model_name": "LayoutModel",
          "state": {
            "_view_name": "LayoutView",
            "grid_template_rows": null,
            "right": null,
            "justify_content": null,
            "_view_module": "@jupyter-widgets/base",
            "overflow": null,
            "_model_module_version": "1.2.0",
            "_view_count": null,
            "flex_flow": null,
            "width": "600px",
            "min_width": null,
            "border": null,
            "align_items": null,
            "bottom": null,
            "_model_module": "@jupyter-widgets/base",
            "top": null,
            "grid_column": null,
            "overflow_y": null,
            "overflow_x": null,
            "grid_auto_flow": null,
            "grid_area": null,
            "grid_template_columns": null,
            "flex": null,
            "_model_name": "LayoutModel",
            "justify_items": null,
            "grid_row": null,
            "max_height": null,
            "align_content": null,
            "visibility": null,
            "align_self": null,
            "height": null,
            "min_height": null,
            "padding": null,
            "grid_auto_rows": null,
            "grid_gap": null,
            "max_width": null,
            "order": null,
            "_view_module_version": "1.2.0",
            "grid_template_areas": null,
            "object_position": null,
            "object_fit": null,
            "grid_auto_columns": null,
            "margin": null,
            "display": null,
            "left": null
          }
        },
        "cfd8a266fd1f4d31aa70d76c81e81ba8": {
          "model_module": "@jupyter-widgets/base",
          "model_name": "LayoutModel",
          "state": {
            "_view_name": "LayoutView",
            "grid_template_rows": null,
            "right": null,
            "justify_content": null,
            "_view_module": "@jupyter-widgets/base",
            "overflow": null,
            "_model_module_version": "1.2.0",
            "_view_count": null,
            "flex_flow": null,
            "width": null,
            "min_width": null,
            "border": null,
            "align_items": null,
            "bottom": null,
            "_model_module": "@jupyter-widgets/base",
            "top": null,
            "grid_column": null,
            "overflow_y": null,
            "overflow_x": null,
            "grid_auto_flow": null,
            "grid_area": null,
            "grid_template_columns": null,
            "flex": null,
            "_model_name": "LayoutModel",
            "justify_items": null,
            "grid_row": null,
            "max_height": null,
            "align_content": null,
            "visibility": null,
            "align_self": null,
            "height": null,
            "min_height": null,
            "padding": null,
            "grid_auto_rows": null,
            "grid_gap": null,
            "max_width": null,
            "order": null,
            "_view_module_version": "1.2.0",
            "grid_template_areas": null,
            "object_position": null,
            "object_fit": null,
            "grid_auto_columns": null,
            "margin": null,
            "display": null,
            "left": null
          }
        }
      }
    }
  },
  "cells": [
    {
      "cell_type": "markdown",
      "metadata": {
        "id": "2UX8SHQ-S1Bi"
      },
      "source": [
        "Today's mini-lab is an excercise in abstraction, in addition to parameter tuning and visualisation. The models below come from scientific computing and epidemiology, and are implemented as systems of differential equations. \n",
        "\n",
        "*Without a thorough background in mathematics, you will not be able to understand the details. This is a good thing since we can then focus on using the model instead of digging in to the details.*\n",
        "\n",
        "# When zombies attack!\n",
        "\n",
        "The excellent paper \"*When zombies attack!: Mathematical modelling of an outbreak of zombie infection*\" explains the dynamic disiase spread using a zombie apocalypse as the case study. We will use this paper to illustrate a model that is interpretable yet still requires more mathematics than required for the course to undersdtand in detail. During the lab, you will get aquainted with the models from the paper and make modifications to either fit the model to some contraints from data or try different zombie invasion mitigation strategies.\n",
        "\n",
        "The setting will be the town of Uppsala in Sweden (for obvious reasons). The population of the town is ca 165000 (not the full muicipality, we're only interested in a contigous urban area). In the equations below, the formulation is slightly modified so that the sum of the compartments is the total population of Uppsala."
      ]
    },
    {
      "cell_type": "code",
      "metadata": {
        "id": "yfMW6bk3LJ6N"
      },
      "source": [
        "N = 165000         # Population of Uppsala"
      ],
      "execution_count": 41,
      "outputs": []
    },
    {
      "cell_type": "code",
      "metadata": {
        "id": "Q0vU09z0-x1n"
      },
      "source": [
        "from scipy.integrate import odeint  # For working with systems of differential equations\n",
        "import numpy as np                  # Math\n",
        "import matplotlib.pyplot as plt     # Plotting\n",
        "import ipywidgets                   # Interactivity"
      ],
      "execution_count": 42,
      "outputs": []
    },
    {
      "cell_type": "markdown",
      "metadata": {
        "id": "GadlWgYPTlZD"
      },
      "source": [
        "##  The basic model\n",
        "\n",
        "The following system of equations is from part 2 in the paper. Zombias start waking up, one per late evening (as they do), and start roaming the town in search of fresh brains.\n",
        "\n",
        "$\\frac{dS}{dt} = − \\frac{\\beta Z}{N}S$\n",
        "\n",
        "$\\frac{dZ}{dt} = \\frac{\\beta Z}{N}S − \\frac{\\alpha Z}{N}S + min(1, R) - \\delta Z$\n",
        "\n",
        "$\\frac{dR}{dt} = \\frac{\\alpha Z}{N}S − min(1, R) + \\delta Z$\n",
        "\n",
        "#### Constants\n",
        "\n",
        "$\\beta$: Compund zombie infection rate\n",
        "\n",
        "$\\alpha$: Compund zombie eradication rate\n",
        "\n",
        "$\\delta$: Inverse of the mean number of days zombies survive (hard coded as 2 weeks)\n",
        "\n",
        "We will assume that the timescale is fairly short and set $\\Pi=\\delta=0$, as in the paper. The system of differential equations above already reflect this simplification."
      ]
    },
    {
      "cell_type": "code",
      "metadata": {
        "id": "HD48IMHHSzJc",
        "colab": {
          "base_uri": "https://localhost:8080/",
          "height": 382
        },
        "outputId": "66f7d837-8ea3-45ef-b638-7c5440a11337"
      },
      "source": [
        "beta = .25  # Suseptable -> Zombie\n",
        "alpha = .1  # Zombie -> Removed\n",
        "\n",
        "def szr_model(y0, beta, alpha, runtime=28*7):\n",
        "  \"\"\"A SZR model\n",
        "  \n",
        "  runtime: int, runtime in days\"\"\"\n",
        "  def szr_dydt(y, t, beta, alpha):\n",
        "    S, Z, R = y\n",
        "    delta = 1/14 # Zombies live for 2 weeks\n",
        "    dydt = [- beta*S*Z/N,\n",
        "            beta*S*Z/N + min(1, R) - alpha*S*Z/N - delta*Z,\n",
        "            alpha*S*Z/N - min(1, R) + delta*Z]\n",
        "    return dydt\n",
        "  t = np.arange(runtime)\n",
        "  res, debug_msg = odeint(szr_dydt, y0, t, args=(beta, alpha), full_output=True)\n",
        "  return t, np.asarray(res).T, debug_msg\n",
        "\n",
        "t, res, _ = szr_model(y0=np.asarray([N, 0, 10]), \n",
        "                beta=beta,\n",
        "                alpha=alpha)\n",
        "\n",
        "plt.figure(figsize=(8, 4), dpi=100)\n",
        "plt.plot(t, res[0, :], 'g-', label=\"Suseptable\")\n",
        "plt.plot(t, res[1, :], 'r-', label=\"Zombie\")\n",
        "plt.plot(t, res[2, :], 'k-', label=\"Removed\")\n",
        "plt.legend()\n",
        "plt.ylabel(\"Individuals\")\n",
        "plt.xlabel(\"Time [days]\")\n",
        "plt.show()"
      ],
      "execution_count": 43,
      "outputs": [
        {
          "output_type": "display_data",
          "data": {
            "image/png": "[encoded data removed]",
            "text/plain": [
              "<Figure size 800x400 with 1 Axes>"
            ]
          },
          "metadata": {
            "tags": [],
            "needs_background": "light"
          }
        }
      ]
    },
    {
      "cell_type": "markdown",
      "metadata": {
        "id": "IbAvkGBPVqrQ"
      },
      "source": [
        "You can try different value using the following widget."
      ]
    },
    {
      "cell_type": "code",
      "metadata": {
        "colab": {
          "base_uri": "https://localhost:8080/",
          "height": 446,
          "referenced_widgets": [
            "f2cef23b7a7f4d18a7d940b44cdc23c7",
            "62b2d7de94104b90b5ae346cfd113cd7",
            "b5c204eca049461d911dbb084f4bda87",
            "bb407ad672ea49bb930e874bc0eba1a4",
            "a443de7b233e4447983bbf83709dabbf",
            "88513e9e9c9640079763e22db68ff446",
            "b5bd8206de0b4731abc0a6a3253c9606",
            "7ca0e73163a14625a610abd0b61c381b",
            "6e75c3886fb84f8485bb76eddb8ec3af",
            "8ebe11cf92834b8fb0a8396c325bd95d"
          ]
        },
        "id": "hDwpDzeNVqzA",
        "outputId": "09fd4a63-9fec-4813-bb1b-f5b92280b1ce"
      },
      "source": [
        "def szr_widget(beta, alpha):\n",
        "  t, res, _ = szr_model(y0=np.asarray([N, 0, 10]), \n",
        "                  beta=beta,\n",
        "                  alpha=alpha)\n",
        "\n",
        "  plt.figure(figsize=(8, 4), dpi=100)\n",
        "  plt.plot(t, res[0, :], 'g-', label=\"Suseptable\")\n",
        "  plt.plot(t, res[1, :], 'r-', label=\"Zombie\")\n",
        "  plt.plot(t, res[2, :], 'k-', label=\"Removed\")\n",
        "  plt.legend()\n",
        "  plt.ylabel(\"Individuals\")\n",
        "  plt.xlabel(\"Time [days]\")\n",
        "  plt.show()\n",
        "\n",
        "ipywidgets.interact(szr_widget,\n",
        "                    beta=ipywidgets.FloatSlider(min=0, max=.5, step=0.01, value=.1, readout_format='.2f', description=\"S->Z (beta, prob. of infection)\", style = {'description_width': 'initial'}, layout=ipywidgets.Layout(width='600px')),\n",
        "                    alpha=ipywidgets.FloatSlider(min=0, max=.5, step=0.01, value=.1, readout_format='.2f', description=\"Z->R (alpha, prob. of eradication)\", style = {'description_width': 'initial'}, layout=ipywidgets.Layout(width='600px')));"
      ],
      "execution_count": 44,
      "outputs": [
        {
          "output_type": "display_data",
          "data": {
            "application/vnd.jupyter.widget-view+json": {
              "model_id": "f2cef23b7a7f4d18a7d940b44cdc23c7",
              "version_minor": 0,
              "version_major": 2
            },
            "text/plain": [
              "interactive(children=(FloatSlider(value=0.1, description='S->Z (beta, prob. of infection)', layout=Layout(widt…"
            ]
          },
          "metadata": {
            "tags": []
          }
        }
      ]
    },
    {
      "cell_type": "markdown",
      "metadata": {
        "id": "Ppqe22Dk9VWe"
      },
      "source": [
        "What is the relation between the values of $\\beta$ and $\\alpha$? Run a grid search over them an plot using matplotlibs contour (or similar). All the code is already in the notebooks you have worked with."
      ]
    },
    {
      "cell_type": "code",
      "metadata": {
        "id": "idmcrkBW9VfT"
      },
      "source": [
        ""
      ],
      "execution_count": 44,
      "outputs": []
    },
    {
      "cell_type": "markdown",
      "metadata": {
        "id": "qz3E8fBCWMvI"
      },
      "source": [
        "## The Model with Latent Infection\n",
        "\n",
        "$S' = -\\beta SZ$\n",
        "\n",
        "$E' = \\beta SZ - \\rho E$\n",
        "\n",
        "$Z' = \\rho E − \\alpha SZ - \\delta Z$\n",
        "\n",
        "$R' = \\alpha SZ + \\delta Z$\n",
        "\n",
        "#### Constants\n",
        "\n",
        "$\\beta$: Compund zombie infection rate\n",
        "\n",
        "$\\alpha$: Compund zombie erradication rate\n",
        "\n",
        "$\\delta$: Inverse of the mean number of days zombies survive\n",
        "\n",
        "$\\rho$: Inverse of the mean number of days from exposure to zombification\n",
        "\n",
        "Again, ee will assume that the timescale is fairly short and set $\\Pi=\\delta=0$, as in the paper. We will also assume that zombies rise one per night. The new parameter $\\rho$ controls the time from exposure to full sickness, i.e. incubation time. This parameter should be set to the inverse of the number of days before full infection, e.g. for a mena of 3 days $\\rho=\\frac{1}{3}$."
      ]
    },
    {
      "cell_type": "code",
      "metadata": {
        "id": "UvrAjCeZWTHB",
        "colab": {
          "base_uri": "https://localhost:8080/",
          "height": 382
        },
        "outputId": "1a424007-ba59-4245-9a89-bb846bb74e34"
      },
      "source": [
        "beta = .25    # Suseptable -> Zombie\n",
        "alpha = .1    # Zombie -> Removed\n",
        "rho_inv = 1   # Mean incubation days\n",
        "delta_inv = 14 # Mean zombie lifespan\n",
        "\n",
        "def sezr_model(y0, beta, alpha, rho_inv, delta_inv, runtime=28*7):\n",
        "  def sezr_dydt(y, t, beta, alpha, rho_inv, delta_inv):\n",
        "    S, E, Z, R = y\n",
        "    dydt = [-beta*S*Z,\n",
        "            beta*S*Z - E/rho_inv,\n",
        "            E/rho_inv - alpha*S*Z - Z/delta_inv,\n",
        "            alpha*S*Z + Z/delta_inv]\n",
        "    return dydt\n",
        "  t = np.arange(runtime)\n",
        "  res, debug_msg = odeint(sezr_dydt, y0, t, args=(beta, alpha, rho_inv, delta_inv), full_output=True)\n",
        "  return t, np.asarray(res).T, debug_msg\n",
        "\n",
        "t, res, _ = sezr_model(y0=np.asarray([N, 1, 0, 0]), \n",
        "                beta=beta,\n",
        "                alpha=alpha,\n",
        "                delta_inv=delta_inv,\n",
        "                rho_inv=rho_inv)\n",
        "\n",
        "plt.figure(figsize=(8, 4), dpi=100)\n",
        "plt.plot(t, res[0, :], 'g-', label=\"Suseptable\")\n",
        "plt.plot(t, res[1, :], color='orange', label=\"Exposed\")\n",
        "plt.plot(t, res[2, :], 'r-', label=\"Zombie\")\n",
        "plt.plot(t, res[3, :], 'k-', label=\"Removed\")\n",
        "plt.legend()\n",
        "plt.ylabel(\"Individuals\")\n",
        "plt.xlabel(\"Time [days]\")\n",
        "plt.show()"
      ],
      "execution_count": 60,
      "outputs": [
        {
          "output_type": "display_data",
          "data": {
            "image/png": "[encoded data removed]",
            "text/plain": [
              "<Figure size 800x400 with 1 Axes>"
            ]
          },
          "metadata": {
            "tags": [],
            "needs_background": "light"
          }
        }
      ]
    },
    {
      "cell_type": "code",
      "metadata": {
        "id": "eDm8zBP1TMam",
        "colab": {
          "base_uri": "https://localhost:8080/",
          "height": 510,
          "referenced_widgets": [
            "4288b76dcf294008b59051254c6e36db",
            "2b6292f346f545b8bf44db25c5d36392",
            "0caa78b0efc84aa2900412c583b01d5a",
            "6070e57831444dc9aacfee0e70fb6738",
            "7c735df8a9434b3ab0d7b9ba5f2bed07",
            "f4332fe38f4e4033b4b970882c6ab7cc",
            "4f42c38c6a6748ac958ee73db274a7f3",
            "514f63b92c864ffd80c2c17d5004824c",
            "b1dc807547624e00a91526c9093308c6",
            "f127c486eb724f5d8eb02da1a6b43586",
            "7d656c054013452592e5becc6b51b7fa",
            "651b547e8e014dd7b9b6c0cddad1faab",
            "0e8f8e1dc9c04410a074f9c483c5c61a",
            "b2e6e4beda7b4814bc0e19d7ab496d7d",
            "29f17a6b73d044afbef73043d48c21e2",
            "cfd8a266fd1f4d31aa70d76c81e81ba8"
          ]
        },
        "outputId": "f34763a9-ee18-42e4-9ecd-c9be4de30655"
      },
      "source": [
        "def sezr_widget(beta, alpha, delta_inv, rho_inv):\n",
        "  t, res, _ = sezr_model(y0=np.asarray([N, 0, 0, 10]), \n",
        "                  beta=beta,\n",
        "                  alpha=alpha,\n",
        "                  delta_inv=delta_inv,\n",
        "                  rho_inv=rho_inv)\n",
        "  plt.figure(figsize=(8, 4), dpi=100)\n",
        "  plt.plot(t, res[0, :], 'g-', label=\"Suseptable\")\n",
        "  plt.plot(t, res[1, :], color='orange', label=\"Exposed\")\n",
        "  plt.plot(t, res[2, :], 'r-', label=\"Zombie\")\n",
        "  plt.plot(t, res[3, :], 'k-', label=\"Removed\")\n",
        "  plt.legend()\n",
        "  plt.ylabel(\"Individuals\")\n",
        "  plt.xlabel(\"Time [days]\")\n",
        "  plt.show()\n",
        "\n",
        "ipywidgets.interact(sezr_widget,\n",
        "                    beta=ipywidgets.FloatSlider(min=0, max=.5, step=0.01, value=.1, readout_format='.2f', description=\"S->Z (beta, prob. of infection)\", style = {'description_width': 'initial'}, layout=ipywidgets.Layout(width='600px')),\n",
        "                    alpha=ipywidgets.FloatSlider(min=0, max=.5, step=0.01, value=.1, readout_format='.2f', description=\"Z->R (alpha, prob. of eradication)\", style = {'description_width': 'initial'}, layout=ipywidgets.Layout(width='600px')),\n",
        "                    rho_inv=ipywidgets.FloatSlider(min=0, max=21, step=0.5, value=3, readout_format='.2f', description=\"E->Z (mean incubation time in days)\", style = {'description_width': 'initial'}, layout=ipywidgets.Layout(width='600px')),\n",
        "                    delta_inv=ipywidgets.FloatSlider(min=0, max=21, step=0.5, value=3, readout_format='.2f', description=\"Z->R (Zombie mean life span in days)\", style = {'description_width': 'initial'}, layout=ipywidgets.Layout(width='600px'))\n",
        "                    );\n"
      ],
      "execution_count": 46,
      "outputs": [
        {
          "output_type": "display_data",
          "data": {
            "application/vnd.jupyter.widget-view+json": {
              "model_id": "4288b76dcf294008b59051254c6e36db",
              "version_minor": 0,
              "version_major": 2
            },
            "text/plain": [
              "interactive(children=(FloatSlider(value=0.1, description='S->Z (beta, prob. of infection)', layout=Layout(widt…"
            ]
          },
          "metadata": {
            "tags": []
          }
        }
      ]
    },
    {
      "cell_type": "markdown",
      "metadata": {
        "id": "MuwGlcdIfhZE"
      },
      "source": [
        "## A Model with vaccine"
      ]
    },
    {
      "cell_type": "code",
      "metadata": {
        "id": "8SLDojOWfj_r"
      },
      "source": [
        ""
      ],
      "execution_count": 46,
      "outputs": []
    }
  ]
}