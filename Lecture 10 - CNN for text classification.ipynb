{
  "nbformat": 4,
  "nbformat_minor": 0,
  "metadata": {
    "colab": {
      "name": "Lecture 10 - CNN for text classification.ipynb",
      "provenance": [],
      "collapsed_sections": []
    },
    "kernelspec": {
      "name": "python3",
      "display_name": "Python 3"
    },
    "accelerator": "GPU"
  },
  "cells": [
    {
      "cell_type": "markdown",
      "metadata": {
        "id": "5EolzpPTBU2C"
      },
      "source": [
        "# Case Study: CNN for text classification\n",
        "\n",
        "\n",
        "\n",
        "To illustrate the process of re-implmenting a pipeline\n",
        "\n",
        "[Large Movie Review Dataset](https://ai.stanford.edu/~amaas/data/sentiment/)\n",
        "\n",
        "Andrew L. Maas, Raymond E. Daly, Peter T. Pham, Dan Huang, Andrew Y. Ng, and Christopher Potts. (2011). \"*Learning Word Vectors for Sentiment Analysis.*\" The 49th Annual Meeting of the Association for Computational Linguistics (ACL 2011).\n",
        "\n",
        "Yoon Kim. \"[*Convolutional Neural Networks for Sentence Classification*](https://arxiv.org/abs/1408.5882).\" arXiv. 2014.\n",
        "\n",
        "\n",
        "\n",
        "\n",
        "\n"
      ]
    },
    {
      "cell_type": "code",
      "metadata": {
        "colab": {
          "base_uri": "https://localhost:8080/"
        },
        "id": "Q1U1kcW1BC9D",
        "outputId": "4fe6e2fd-885e-47d3-e145-7996c84a9a38"
      },
      "source": [
        "import os.path\n",
        "import torch\n",
        "import torch.nn as nn\n",
        "from tqdm import tqdm\n",
        "import numpy as np\n",
        "\n",
        "if torch.cuda.is_available():\n",
        "  device = torch.device(\"cuda\")\n",
        "  for i in range(torch.cuda.device_count()):\n",
        "    print(torch.cuda.get_device_name(i))\n",
        "else:\n",
        "  device = torch.device(\"cpu\")\n",
        "print(\"Device:\", device)"
      ],
      "execution_count": 1,
      "outputs": [
        {
          "output_type": "stream",
          "text": [
            "Tesla T4\n",
            "Device: cuda\n"
          ],
          "name": "stdout"
        }
      ]
    },
    {
      "cell_type": "markdown",
      "metadata": {
        "id": "HHUqUIsXcN0C"
      },
      "source": [
        "Loading the data set"
      ]
    },
    {
      "cell_type": "code",
      "metadata": {
        "colab": {
          "base_uri": "https://localhost:8080/"
        },
        "id": "GzGTee0-_ous",
        "outputId": "51d52264-c4a3-4db8-ade8-fb8c718ffbe2"
      },
      "source": [
        "!wget -N https://ai.stanford.edu/~amaas/data/sentiment/aclImdb_v1.tar.gz\n",
        "!tar zxf aclImdb_v1.tar.gz --skip-old-files\n",
        "!ls aclImdb/"
      ],
      "execution_count": 2,
      "outputs": [
        {
          "output_type": "stream",
          "text": [
            "--2021-05-11 13:57:36--  https://ai.stanford.edu/~amaas/data/sentiment/aclImdb_v1.tar.gz\n",
            "Resolving ai.stanford.edu (ai.stanford.edu)... 171.64.68.10\n",
            "Connecting to ai.stanford.edu (ai.stanford.edu)|171.64.68.10|:443... connected.\n",
            "HTTP request sent, awaiting response... 304 Not Modified\n",
            "File ‘aclImdb_v1.tar.gz’ not modified on server. Omitting download.\n",
            "\n",
            "imdbEr.txt  imdb.vocab\tREADME\ttest  train\n"
          ],
          "name": "stdout"
        }
      ]
    },
    {
      "cell_type": "code",
      "metadata": {
        "colab": {
          "base_uri": "https://localhost:8080/"
        },
        "id": "RarqYUzd6kcH",
        "outputId": "8862f4b9-4028-4b7c-d08c-916d130b4542"
      },
      "source": [
        "class PolarityDataset(torch.utils.data.Dataset):\n",
        "  def __init__(self, positive_dir, negative_dir, transform=None):\n",
        "    assert os.path.exists(positive_dir) and os.path.isdir(positive_dir)\n",
        "    self._sourcefiles = [os.path.join(positive_dir, fn) for fn in os.listdir(positive_dir) if fn.endswith(\".txt\")]\n",
        "    self._labels = [1]*len(self._sourcefiles)\n",
        "    assert os.path.exists(negative_dir) and os.path.isdir(negative_dir)\n",
        "    self._sourcefiles.extend([os.path.join(negative_dir, fn) for fn in os.listdir(negative_dir) if fn.endswith(\".txt\")])\n",
        "    self._labels.extend([0]*(len(self._sourcefiles)-len(self._labels)))\n",
        "    for fn in self._sourcefiles:\n",
        "      assert os.path.exists(fn), \"%s is missing\" % fn\n",
        "    self._transform = transform\n",
        "\n",
        "  def __len__(self):\n",
        "    return len(self._sourcefiles)\n",
        "\n",
        "  def __getitem__(self, idx):\n",
        "    if torch.is_tensor(idx):\n",
        "      idx = idx.tolist()\n",
        "    with open(self._sourcefiles[idx], 'r') as f:\n",
        "      ret = {'text': f.read(), \n",
        "             'label': self._labels[idx]}\n",
        "    if self._transform:\n",
        "      ret = self._transform(ret)\n",
        "    return ret\n",
        "\n",
        "training_data = PolarityDataset(positive_dir=\"aclImdb/train/pos/\", \n",
        "                                negative_dir=\"aclImdb/train/neg/\")\n",
        "\n",
        "for i in [0, 1, 2, 24000, 24001, 24002]:\n",
        "  print(training_data[i]['label'], \":\", training_data[i]['text'][:100])"
      ],
      "execution_count": 3,
      "outputs": [
        {
          "output_type": "stream",
          "text": [
            "1 : Well... easily my favourite TV series ever. Call me a walking mail cliché but include violence, mafi\n",
            "1 : Yes, this gets the full ten stars. It's plain as day that this fill is genius. The universe sent Tre\n",
            "1 : I saw this movie when I was about 8-years-old and I liked it but it wasn't until I watched it again \n",
            "0 : I loved Dewaere in Series Noir. His talent is trivialized in \"The Waltzers\" aka \"Going Places\". Okay\n",
            "0 : This is one of those movies that's trying to be moody and tense, and instead, ends up tripping all o\n",
            "0 : Let me just say I loved the original Boogeyman. Sure, it's a flawed clichéd 80s horror movie, but he\n"
          ],
          "name": "stdout"
        }
      ]
    },
    {
      "cell_type": "markdown",
      "metadata": {
        "id": "9BYFgGwjdJEN"
      },
      "source": [
        "Create vocabulary"
      ]
    },
    {
      "cell_type": "code",
      "metadata": {
        "colab": {
          "base_uri": "https://localhost:8080/"
        },
        "id": "sCRyRnCPdJKG",
        "outputId": "800ea50a-2cb6-42f3-ee3b-007c4843847a"
      },
      "source": [
        "from nltk.tokenize import wordpunct_tokenize\n",
        "\n",
        "class Tokenize(object):\n",
        "    def __call__(self, data):\n",
        "        text, label = data['text'], data['label']\n",
        "        return {'text': [word.lower() for word in wordpunct_tokenize(text)],\n",
        "                'label': label}\n",
        "\n",
        "training_data = PolarityDataset(positive_dir=\"aclImdb/train/pos/\", \n",
        "                                negative_dir=\"aclImdb/train/neg/\",\n",
        "                                transform=Tokenize())\n",
        "test_data = PolarityDataset(positive_dir=\"aclImdb/test/pos/\", \n",
        "                            negative_dir=\"aclImdb/test/neg/\",\n",
        "                            transform=Tokenize())\n",
        "\n",
        "print(\"Loading training data...\", end=\"\")\n",
        "dataset_vocab = set()\n",
        "for sample in training_data:\n",
        "  sample_tokens = set(sample['text'])\n",
        "  dataset_vocab.update(sample_tokens)\n",
        "print(\"done\")\n",
        "\n",
        "print(\"Loading test data...\", end=\"\")\n",
        "for sample in test_data:\n",
        "  sample_tokens = set(sample['text'])\n",
        "  dataset_vocab.update(sample_tokens)\n",
        "print(\"done\")\n",
        "\n",
        "print(\"Found %i tokens in the dataset\" % len(dataset_vocab))"
      ],
      "execution_count": 4,
      "outputs": [
        {
          "output_type": "stream",
          "text": [
            "Loading training data...done\n",
            "Loading test data...done\n",
            "Found 104339 tokens in the dataset\n"
          ],
          "name": "stdout"
        }
      ]
    },
    {
      "cell_type": "markdown",
      "metadata": {
        "id": "xY73LU6XbFxI"
      },
      "source": [
        "## Word embedding\n",
        "\n",
        "We need a word embedding"
      ]
    },
    {
      "cell_type": "code",
      "metadata": {
        "colab": {
          "base_uri": "https://localhost:8080/"
        },
        "id": "yMShKdhDbGJK",
        "outputId": "c1637da6-fed2-4c18-d447-5548f5bcbb6c"
      },
      "source": [
        "from google.colab import drive\n",
        "\n",
        "drive.mount('/content/drive')\n",
        "base = \"\"\"/content/drive/MyDrive/GloVe\"\"\"\n",
        "assert os.path.exists(base)\n",
        "!mkdir .vector_cache\n",
        "# !cp /content/drive/MyDrive/GloVe/glove.6B.zip .vector_cache\n",
        "!ln -s /content/drive/MyDrive/GloVe/glove.6B.zip .vector_cache/"
      ],
      "execution_count": 5,
      "outputs": [
        {
          "output_type": "stream",
          "text": [
            "Drive already mounted at /content/drive; to attempt to forcibly remount, call drive.mount(\"/content/drive\", force_remount=True).\n",
            "mkdir: cannot create directory ‘.vector_cache’: File exists\n",
            "ln: failed to create symbolic link '.vector_cache/glove.6B.zip': File exists\n"
          ],
          "name": "stdout"
        }
      ]
    },
    {
      "cell_type": "code",
      "metadata": {
        "id": "3pv7EtNybCTE"
      },
      "source": [
        "from torchtext.vocab import GloVe\n",
        "glove = GloVe(name='6B', dim=100)"
      ],
      "execution_count": 6,
      "outputs": []
    },
    {
      "cell_type": "code",
      "metadata": {
        "colab": {
          "base_uri": "https://localhost:8080/",
          "height": 589
        },
        "id": "gglp6ovoaofn",
        "outputId": "1465afb5-6dde-4753-cfb4-6a6605fdcfa5"
      },
      "source": [
        "print(\"%i words in GloVe\" % len(glove.itos))\n",
        "print(\"%i words in the dataset\" % len(dataset_vocab))\n",
        "print(\"%i overlapping words\" % len(dataset_vocab.intersection(set(glove.itos))))\n",
        "\n",
        "import matplotlib.pyplot as plt\n",
        "from scipy.optimize import minimize_scalar\n",
        "\n",
        "a = np.linspace(0, 2*np.pi, 100)\n",
        "r1 = np.sqrt(len(glove.itos)/np.pi)\n",
        "r2 = np.sqrt(len(dataset_vocab)/np.pi)\n",
        "A = np.random.uniform(-r2, r2, size=(int(1000*(4/np.pi)), 2))\n",
        "A = A[np.sqrt(np.sum(A**2, axis=1))<=r2, :]\n",
        "p  = len(dataset_vocab.intersection(set(glove.itos)))/len(dataset_vocab)\n",
        "def f(d):\n",
        "  B = A.copy()\n",
        "  B[:, 1] += d\n",
        "  return np.abs(p-np.sum(np.sqrt(np.sum(B**2, axis=1))<=r1)/B.shape[0])\n",
        "d = minimize_scalar(f, bounds=(r1-r2, r1+r2), method='bounded').x\n",
        "\n",
        "plt.figure(figsize=(4, 4), dpi=150)\n",
        "plt.plot(r1*np.cos(a), r1*np.sin(a))\n",
        "plt.text(0, 0, \"GloVe\", fontsize=14, horizontalalignment='center', verticalalignment='center')\n",
        "plt.plot(d+r2*np.cos(a), r2*np.sin(a))\n",
        "plt.text(d, 0, \"Dataset\", fontsize=14, horizontalalignment='center', verticalalignment='center')\n",
        "# A[:, 0] += d\n",
        "# plt.scatter(A[:, 0], A[:, 1], s=3, c=np.sqrt(np.sum(A**2, axis=1))<=r1, marker='.', cmap='tab10')\n",
        "plt.title(\"Vocabularies\")\n",
        "plt.xticks([])\n",
        "plt.yticks([])\n",
        "plt.axis('equal')\n",
        "plt.show()"
      ],
      "execution_count": 7,
      "outputs": [
        {
          "output_type": "stream",
          "text": [
            "400000 words in GloVe\n",
            "104339 words in the dataset\n",
            "75862 overlapping words\n"
          ],
          "name": "stdout"
        },
        {
          "output_type": "display_data",
          "data": {
            "image/png": "[encoded data removed]",
            "text/plain": [
              "<Figure size 600x600 with 1 Axes>"
            ]
          },
          "metadata": {
            "tags": []
          }
        }
      ]
    },
    {
      "cell_type": "markdown",
      "metadata": {
        "id": "A-mFGsHydG3A"
      },
      "source": [
        "The dataset vocabulary does not overlap completely with the embedding vocabulary. "
      ]
    },
    {
      "cell_type": "code",
      "metadata": {
        "colab": {
          "base_uri": "https://localhost:8080/"
        },
        "id": "4nEq99_zjdTD",
        "outputId": "07188dde-b042-4ab7-9f50-ee0aa2456d01"
      },
      "source": [
        "embedding_vocab = dataset_vocab.intersection(set(glove.itos))\n",
        "\n",
        "idx2token = ['<UNK>', '<PAD>']\n",
        "idx2token.extend(embedding_vocab)\n",
        "\n",
        "token2idx = {w:i for i, w in enumerate(idx2token)}\n",
        "\n",
        "glove.unk_init = lambda _: torch.zeros(glove.dim)\n",
        "embedding_vectors = torch.stack([glove[w] for w in idx2token])\n",
        "\n",
        "embedding = nn.Embedding(num_embeddings=embedding_vectors.size(0), \n",
        "                         embedding_dim=embedding_vectors.size(1),\n",
        "                         padding_idx=token2idx['<PAD>']).from_pretrained(embedding_vectors)\n",
        "embedding"
      ],
      "execution_count": 8,
      "outputs": [
        {
          "output_type": "execute_result",
          "data": {
            "text/plain": [
              "Embedding(75864, 100)"
            ]
          },
          "metadata": {
            "tags": []
          },
          "execution_count": 8
        }
      ]
    },
    {
      "cell_type": "code",
      "metadata": {
        "colab": {
          "base_uri": "https://localhost:8080/"
        },
        "id": "tYSFS-VyX9Zg",
        "outputId": "c2c213e6-42ea-4cfb-bfe6-5d659a8205f6"
      },
      "source": [
        "class Encode(object):\n",
        "  def __init__(self, token2idx):\n",
        "    self._token2idx = token2idx\n",
        "    self._vocab = set(token2idx.keys())\n",
        "\n",
        "  def __call__(self, data):\n",
        "    tokens, label = data['text'], data['label']\n",
        "    tokens = [token if token in embedding_vocab else '<UNK>' for token in tokens]\n",
        "    encoded = [token2idx[token] for token in tokens]\n",
        "    return {'text': encoded,\n",
        "            'label': label}\n",
        "\n",
        "class ToTensor(object):\n",
        "    def __call__(self, data):\n",
        "        text, label = data['text'], data['label']\n",
        "        return {'text': torch.LongTensor(text),\n",
        "                'label': torch.LongTensor([label])}\n",
        "\n",
        "from torchvision import transforms\n",
        "\n",
        "training_data = PolarityDataset(positive_dir=\"aclImdb/train/pos/\", \n",
        "                                negative_dir=\"aclImdb/train/neg/\",\n",
        "                                transform=transforms.Compose([Tokenize(), \n",
        "                                                              Encode(token2idx),\n",
        "                                                              ToTensor()]))\n",
        "print(training_data[0])"
      ],
      "execution_count": 9,
      "outputs": [
        {
          "output_type": "stream",
          "text": [
            "{'text': tensor([31312, 33833, 63004, 31129, 24588, 54649, 41888, 49607, 60197, 54537,\n",
            "          325, 16102, 20099, 11813, 65817, 32911, 68647, 18662, 54596, 48546,\n",
            "        54596,  2367, 54596, 53157, 54596, 52553, 61108, 60197, 55562, 16102,\n",
            "        72120, 19552, 54799, 32085, 73900, 47416, 59264, 65031, 55562, 11017,\n",
            "        31129, 40370, 60197, 32469, 49421, 24839, 38916, 14552, 24839,     0,\n",
            "        71421, 54799, 32085, 60406, 49607, 21062, 55562, 61622, 66257, 60545,\n",
            "        54596, 13924, 61079, 24839, 15005, 69813, 62964, 61622, 62192, 26942,\n",
            "        19552, 12285, 62964, 49421, 57511, 24839, 15815, 61622, 40245, 25394,\n",
            "        19552, 16102, 60854, 15156, 16102, 75388, 61622, 28209, 31908, 19552,\n",
            "        54799, 30519, 40206, 16102, 72120, 10968, 16032, 18087, 14360, 36750,\n",
            "        51620, 20487, 38916,     0, 16934,     0, 16934,     0, 24590, 49421,\n",
            "        48720,  9207,  7753, 54596, 50598, 10795, 50409, 55529, 46658, 54596,\n",
            "        19552, 25513,  6827, 50409, 21536, 69342, 27014, 33833, 50409, 14153,\n",
            "        10795, 54596, 36724, 15005, 21536, 21130, 11017, 16102, 28209, 24839,\n",
            "        35666, 47264, 63283, 54596, 15398, 54799, 75180, 32085, 23637, 21062,\n",
            "        39811, 50409, 55529, 33802, 35452, 29921, 39501,     0, 16934,     0,\n",
            "        16934,     0, 38893, 30899, 37201, 55562, 19552, 55562, 19552, 55562,\n",
            "         2250, 28106, 11993, 11017, 61622, 72120, 54596, 61622, 28158,  7583,\n",
            "        54596, 61622, 51755, 55666, 61108, 60197, 32911, 54799,  7702, 32085,\n",
            "        23637, 18087,   968, 51620, 35514,   325, 46710, 49421, 38893, 30899,\n",
            "        33804, 33061, 24839, 12998, 33061,  2250, 61622, 62327, 72120, 42564,\n",
            "        38916, 12212, 54596, 24839, 38893, 44780,   968, 51620, 74047, 70666,\n",
            "        19552, 70666, 30864,  8808, 53282, 51620, 18971, 19552, 21807, 15427,\n",
            "         9596, 29921, 11606, 40295, 60197]), 'label': tensor([1])}\n"
          ],
          "name": "stdout"
        }
      ]
    },
    {
      "cell_type": "code",
      "metadata": {
        "colab": {
          "base_uri": "https://localhost:8080/"
        },
        "id": "V0GbmgWIDLoT",
        "outputId": "6a337865-28fd-415c-f224-850be37719f7"
      },
      "source": [
        "def collate_with_padding(batch):\n",
        "  ret = {'label': torch.cat([sample['label'] for sample in batch])}\n",
        "  max_length = np.max([sample['text'].size(0) for sample in batch])\n",
        "  vectors = list()\n",
        "  for sample in batch:\n",
        "    if sample['text'].size(0) < max_length:\n",
        "      vectors.append(torch.cat([sample['text'], torch.ones(max_length-sample['text'].size(0))*token2idx['<PAD>']]))\n",
        "    else:\n",
        "      vectors.append(sample['text'])\n",
        "  ret['text'] = torch.stack(vectors).long()\n",
        "  return ret\n",
        "\n",
        "dataloader = torch.utils.data.DataLoader(training_data, batch_size=64, shuffle=True, num_workers=0, collate_fn=collate_with_padding, pin_memory=True)\n",
        "d = list(dataloader)[0]\n",
        "d"
      ],
      "execution_count": 10,
      "outputs": [
        {
          "output_type": "execute_result",
          "data": {
            "text/plain": [
              "{'label': tensor([1, 1, 0, 1, 1, 0, 1, 0, 0, 1, 0, 1, 0, 1, 0, 1, 0, 0, 1, 0, 1, 0, 0, 1,\n",
              "         0, 1, 0, 0, 1, 0, 1, 1, 0, 0, 1, 1, 1, 1, 1, 1, 1, 0, 1, 1, 1, 0, 1, 0,\n",
              "         1, 0, 1, 0, 0, 1, 0, 0, 0, 0, 1, 1, 1, 0, 0, 1]),\n",
              " 'text': tensor([[18690, 39970, 54596,  ...,     1,     1,     1],\n",
              "         [38893, 56408,  1196,  ...,     1,     1,     1],\n",
              "         [73677, 32085, 23637,  ...,     1,     1,     1],\n",
              "         ...,\n",
              "         [ 9263, 54596, 66093,  ...,     1,     1,     1],\n",
              "         [12998, 51354,    66,  ...,     1,     1,     1],\n",
              "         [12998, 51354, 12292,  ...,     1,     1,     1]])}"
            ]
          },
          "metadata": {
            "tags": []
          },
          "execution_count": 10
        }
      ]
    },
    {
      "cell_type": "code",
      "metadata": {
        "id": "-mhJGmAbAen-"
      },
      "source": [
        "class ReviewPolarity(nn.Module):\n",
        "  def __init__(self, embedding, n_epochs=20, learning_rate=1, verbose=False):\n",
        "    \"\"\"\n",
        "    \"\"\"\n",
        "    super(ReviewPolarity, self).__init__()\n",
        "    self.n_epochs_ = n_epochs\n",
        "    self.verbose = verbose\n",
        "    # Define layers\n",
        "    self._embedding = embedding\n",
        "    self._conv3 = nn.Sequential(nn.Conv1d(self._embedding.embedding_dim, 100, kernel_size=3, padding=0),\n",
        "                                nn.ReLU(),\n",
        "                                nn.AdaptiveMaxPool1d(1))\n",
        "    self._conv4 = nn.Sequential(nn.Conv1d(self._embedding.embedding_dim, 100, kernel_size=4, padding=0),\n",
        "                                nn.ReLU(),\n",
        "                                nn.AdaptiveMaxPool1d(1))\n",
        "    self._conv5 = nn.Sequential(nn.Conv1d(self._embedding.embedding_dim, 100, kernel_size=5, padding=0),\n",
        "                                nn.ReLU(),\n",
        "                                nn.AdaptiveMaxPool1d(1))\n",
        "    self._dropout = nn.Dropout(0.5)\n",
        "    self._fc = nn.Sequential(nn.Linear(3*100, 2),\n",
        "                             nn.LogSoftmax(dim=1))\n",
        "    # Define optimiser and loss\n",
        "    self.learning_rate_ = learning_rate\n",
        "    self.optimizer_ = torch.optim.SGD(self.parameters(), lr=self.learning_rate_)\n",
        "    self.loss_function_ = nn.NLLLoss()\n",
        "    # For making nice plots\n",
        "    self.training_loss_ = list()\n",
        "    self.training_accuracy_ = list()\n",
        "    if torch.cuda.is_available():\n",
        "      self.cuda()\n",
        "\n",
        "\n",
        "  def forward(self, X):\n",
        "    # \"\"\"Forward pass, this is used for making predictions.\"\"\"\n",
        "    x = self._embedding(X)\n",
        "    x = x.transpose(1, 2)\n",
        "    c3 = self._conv3(x)\n",
        "    c4 = self._conv4(x)\n",
        "    c5 = self._conv5(x)\n",
        "    x = torch.cat([c3, c4, c5], dim=1)\n",
        "    x = x.view(x.size(0), -1)\n",
        "    x = self._dropout(x)\n",
        "    x = self._fc(x)\n",
        "    return x\n",
        "\n",
        "\n",
        "  def fit(self, X, y=None):\n",
        "    \"\"\"Train the model\"\"\"\n",
        "    # self._reset()\n",
        "    for epoch in range(self.n_epochs_):\n",
        "      if isinstance(X, torch.utils.data.dataloader.DataLoader):\n",
        "        for batch in tqdm(X, desc=\"Training epoch %i\" % epoch):\n",
        "          self._fit(batch['text'], batch['label'])\n",
        "      else:\n",
        "        self._fit(X, y)\n",
        "      if self.verbose:\n",
        "        if self.n_epochs_ < 50 or (epoch % 50) == 0:\n",
        "          print(\"Epoch %2i: Loss %.7f\" % (epoch, self._loss.item()))\n",
        "\n",
        "\n",
        "  def _fit(self, X, y):\n",
        "    \"\"\"A single step in the training\"\"\"\n",
        "    if torch.cuda.is_available():\n",
        "      X = X.cuda()\n",
        "      y = y.cuda()\n",
        "    self.zero_grad()              # Reset gradients\n",
        "    forward_pass_output = self(X) # Forward pass\n",
        "    self._loss = self.loss_function_(forward_pass_output, y) # Calculate loss\n",
        "    self._loss.backward()         # Backward pass\n",
        "    self.optimizer_.step()        # Run the optimizer one step\n",
        "    # Store values for user feedback\n",
        "    self.training_loss_.append(self._loss.item())\n",
        "    self.training_accuracy_.append(self.score(X, y))\n",
        "\n",
        "  def predict(self, X):\n",
        "    \"\"\"Predict labels\"\"\"\n",
        "    return np.asarray(np.argmax(self.predict_proba(X), axis=1), dtype=np.int)\n",
        "\n",
        "\n",
        "  def predict_proba(self, X):\n",
        "    \"\"\"Predict label probabilities\"\"\"\n",
        "    if torch.cuda.is_available():\n",
        "      X = X.cuda()\n",
        "    with torch.no_grad():         # Disable gradient calculations\n",
        "      model.eval()                # Disable dropout\n",
        "      x = self(X)                 # Forward pass without dropout\n",
        "      model.train()               # Enable dropout again, we need it during training\n",
        "    if torch.cuda.is_available():\n",
        "      x = x.cpu()\n",
        "    return np.exp(x.detach().numpy())\n",
        "\n",
        "\n",
        "  def score(self, X, y):\n",
        "    \"\"\"Get the accuracy of the model given the data\"\"\"\n",
        "    if torch.cuda.is_available():\n",
        "      y = y.cpu()\n",
        "    return np.sum(self.predict(X)==y.numpy())/len(y)\n",
        "\n",
        "model = ReviewPolarity(embedding=embedding, n_epochs=3, verbose=True, learning_rate=.1)"
      ],
      "execution_count": 11,
      "outputs": []
    },
    {
      "cell_type": "code",
      "metadata": {
        "colab": {
          "base_uri": "https://localhost:8080/"
        },
        "id": "9kJQDjjnm0n9",
        "outputId": "3101a9aa-6fe7-41a6-d99e-5b71dd1d1eda"
      },
      "source": [
        "model.fit(dataloader)"
      ],
      "execution_count": 12,
      "outputs": [
        {
          "output_type": "stream",
          "text": [
            "Training epoch 0: 100%|██████████| 391/391 [00:19<00:00, 20.53it/s]\n",
            "Training epoch 1:   1%|          | 3/391 [00:00<00:18, 21.47it/s]"
          ],
          "name": "stderr"
        },
        {
          "output_type": "stream",
          "text": [
            "Epoch  0: Loss 0.5826154\n"
          ],
          "name": "stdout"
        },
        {
          "output_type": "stream",
          "text": [
            "Training epoch 1: 100%|██████████| 391/391 [00:19<00:00, 20.27it/s]\n",
            "Training epoch 2:   1%|          | 3/391 [00:00<00:18, 20.91it/s]"
          ],
          "name": "stderr"
        },
        {
          "output_type": "stream",
          "text": [
            "Epoch  1: Loss 0.4585692\n"
          ],
          "name": "stdout"
        },
        {
          "output_type": "stream",
          "text": [
            "Training epoch 2: 100%|██████████| 391/391 [00:18<00:00, 20.60it/s]"
          ],
          "name": "stderr"
        },
        {
          "output_type": "stream",
          "text": [
            "Epoch  2: Loss 0.4771730\n"
          ],
          "name": "stdout"
        },
        {
          "output_type": "stream",
          "text": [
            "\n"
          ],
          "name": "stderr"
        }
      ]
    },
    {
      "cell_type": "code",
      "metadata": {
        "colab": {
          "base_uri": "https://localhost:8080/",
          "height": 279
        },
        "id": "VASRthlGs33o",
        "outputId": "dc7ed80a-04c7-412f-b85f-50df0483cb01"
      },
      "source": [
        "batches = int(np.ceil(len(training_data)/dataloader.batch_size))\n",
        "\n",
        "fig = plt.figure(figsize=(16, 4))\n",
        "ax = fig.subplots(1, 2)\n",
        "ax[0].plot(model.training_loss_)\n",
        "ax[0].set_ylabel(\"Loss\")\n",
        "ax[0].set_xlabel(\"Batch\")\n",
        "ax[1].plot(100*np.asarray(model.training_accuracy_))\n",
        "ax[1].set_ylabel(\"Accuracy\")\n",
        "ax[1].set_xlabel(\"Batch\")\n",
        "fig.show()"
      ],
      "execution_count": 13,
      "outputs": [
        {
          "output_type": "display_data",
          "data": {
            "image/png": "[encoded data removed]",
            "text/plain": [
              "<Figure size 1152x288 with 2 Axes>"
            ]
          },
          "metadata": {
            "tags": [],
            "needs_background": "light"
          }
        }
      ]
    },
    {
      "cell_type": "code",
      "metadata": {
        "colab": {
          "base_uri": "https://localhost:8080/"
        },
        "id": "DtL3Rt71gGFo",
        "outputId": "fbff9d55-a488-461a-ca47-843ce4b04e9e"
      },
      "source": [
        "for p in model.parameters():\n",
        "  print(p.shape)"
      ],
      "execution_count": 14,
      "outputs": [
        {
          "output_type": "stream",
          "text": [
            "torch.Size([75864, 100])\n",
            "torch.Size([100, 100, 3])\n",
            "torch.Size([100])\n",
            "torch.Size([100, 100, 4])\n",
            "torch.Size([100])\n",
            "torch.Size([100, 100, 5])\n",
            "torch.Size([100])\n",
            "torch.Size([2, 300])\n",
            "torch.Size([2])\n"
          ],
          "name": "stdout"
        }
      ]
    },
    {
      "cell_type": "code",
      "metadata": {
        "colab": {
          "base_uri": "https://localhost:8080/"
        },
        "id": "Wh9ixkTPiAhv",
        "outputId": "f490b467-34b0-46d8-a9ba-1cff0c9282d7"
      },
      "source": [
        "test_data = PolarityDataset(positive_dir=\"aclImdb/test/pos/\", \n",
        "                            negative_dir=\"aclImdb/test/neg/\",\n",
        "                            transform=transforms.Compose([Tokenize(), \n",
        "                                                          Encode(token2idx),\n",
        "                                                          ToTensor()]))\n",
        "test_data_loader = torch.utils.data.DataLoader(test_data, batch_size=64, num_workers=0, \n",
        "                                               collate_fn=collate_with_padding)\n",
        "accuracy = np.average([model.score(batch['text'], batch['label']) for batch in tqdm(test_data_loader, desc=\"Calculating test set accuracy\")])\n",
        "print(\"Test set accuracy is %.1f%%\" % (100*accuracy))"
      ],
      "execution_count": 15,
      "outputs": [
        {
          "output_type": "stream",
          "text": [
            "Calculating test set accuracy: 100%|██████████| 391/391 [00:12<00:00, 32.56it/s]"
          ],
          "name": "stderr"
        },
        {
          "output_type": "stream",
          "text": [
            "Test set accuracy is 75.2%\n"
          ],
          "name": "stdout"
        },
        {
          "output_type": "stream",
          "text": [
            "\n"
          ],
          "name": "stderr"
        }
      ]
    }
  ]
}