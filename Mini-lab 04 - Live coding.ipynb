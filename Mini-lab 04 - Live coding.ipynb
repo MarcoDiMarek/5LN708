{
  "nbformat": 4,
  "nbformat_minor": 0,
  "metadata": {
    "colab": {
      "name": "Mini-lab 04 - Live coding.ipynb",
      "provenance": []
    },
    "kernelspec": {
      "name": "python3",
      "display_name": "Python 3"
    },
    "language_info": {
      "name": "python"
    }
  },
  "cells": [
    {
      "cell_type": "markdown",
      "metadata": {
        "id": "xZEec56apTfp"
      },
      "source": [
        "# Live coding stuff"
      ]
    },
    {
      "cell_type": "code",
      "metadata": {
        "colab": {
          "base_uri": "https://localhost:8080/"
        },
        "id": "JqRp-Fr-J6Mi",
        "outputId": "7c59b58c-c097-49d0-eea0-2be4254e1384"
      },
      "source": [
        "!wget -N https://archive.ics.uci.edu/ml/machine-learning-databases/00228/smsspamcollection.zip"
      ],
      "execution_count": 1,
      "outputs": [
        {
          "output_type": "stream",
          "text": [
            "--2021-04-13 14:10:55--  https://archive.ics.uci.edu/ml/machine-learning-databases/00228/smsspamcollection.zip\n",
            "Resolving archive.ics.uci.edu (archive.ics.uci.edu)... 128.195.10.252\n",
            "Connecting to archive.ics.uci.edu (archive.ics.uci.edu)|128.195.10.252|:443... connected.\n",
            "HTTP request sent, awaiting response... 304 Not Modified\n",
            "File ‘smsspamcollection.zip’ not modified on server. Omitting download.\n",
            "\n"
          ],
          "name": "stdout"
        }
      ]
    },
    {
      "cell_type": "code",
      "metadata": {
        "colab": {
          "base_uri": "https://localhost:8080/"
        },
        "id": "GoQRNGkjemxp",
        "outputId": "7d6e60d8-d425-4b67-8153-18e26efcdcb5"
      },
      "source": [
        "!unzip -n smsspamcollection.zip\n",
        "!ls"
      ],
      "execution_count": 2,
      "outputs": [
        {
          "output_type": "stream",
          "text": [
            "Archive:  smsspamcollection.zip\n",
            "replace SMSSpamCollection? [y]es, [n]o, [A]ll, [N]one, [r]ename: a\n",
            "error:  invalid response [a]\n",
            "replace SMSSpamCollection? [y]es, [n]o, [A]ll, [N]one, [r]ename: A\n",
            "  inflating: SMSSpamCollection       \n",
            "  inflating: readme                  \n",
            "readme\tsample_data  SMSSpamCollection\tsmsspamcollection.zip\n"
          ],
          "name": "stdout"
        }
      ]
    },
    {
      "cell_type": "code",
      "metadata": {
        "id": "ZWMmVsNtfIYL"
      },
      "source": [
        "# Read raw data\n",
        "with open('SMSSpamCollection', 'r') as rawdata:\n",
        "  textlines = rawdata.readlines()\n",
        "\n",
        "# Preprocessing\n",
        "textlines = [line.strip() for line in textlines]\n",
        "\n",
        "# Create data containers\n",
        "X_raw = list()\n",
        "y_raw = list()\n",
        "\n",
        "# Split the posts\n",
        "for textline in textlines:\n",
        "  label, text = textline.split('\\t')\n",
        "  X_raw.append(text)\n",
        "  y_raw.append(label)\n",
        "\n",
        "assert len(set(y_raw)) == 2"
      ],
      "execution_count": 3,
      "outputs": []
    },
    {
      "cell_type": "code",
      "metadata": {
        "id": "EGl42Zmfixtf"
      },
      "source": [
        "from sklearn.model_selection import train_test_split\n",
        "\n",
        "X_raw_train, X_raw_test, y_raw_train, y_raw_test = train_test_split(X_raw, y_raw, test_size=0.2, random_state=42)"
      ],
      "execution_count": 4,
      "outputs": []
    },
    {
      "cell_type": "code",
      "metadata": {
        "colab": {
          "base_uri": "https://localhost:8080/"
        },
        "id": "qvGmBtGbgw8K",
        "outputId": "1aa71b11-022c-499c-df64-73991bf59859"
      },
      "source": [
        "from sklearn.feature_extraction.text import TfidfVectorizer\n",
        "vectorizer = TfidfVectorizer()\n",
        "X = vectorizer.fit_transform(X_raw_train)\n",
        "\n",
        "voc = set(vectorizer.get_feature_names())\n",
        "assert 'santa' in voc\n",
        "print(\"Size of the vocabulary %i\" % len(voc))"
      ],
      "execution_count": 5,
      "outputs": [
        {
          "output_type": "stream",
          "text": [
            "Size of the vocabulary 7726\n"
          ],
          "name": "stdout"
        }
      ]
    },
    {
      "cell_type": "code",
      "metadata": {
        "colab": {
          "base_uri": "https://localhost:8080/"
        },
        "id": "3M9zHfTkiKx6",
        "outputId": "c359c331-6084-430c-c6a3-d05484324ea1"
      },
      "source": [
        "from sklearn import preprocessing\n",
        "label_encoder = preprocessing.LabelEncoder()\n",
        "label_encoder.fit(y_raw)\n",
        "print(\"Classes:\", label_encoder.classes_)\n",
        "\n",
        "y = label_encoder.transform(y_raw_train)\n",
        "\n",
        "y_raw_train[:10], y[:10]"
      ],
      "execution_count": 6,
      "outputs": [
        {
          "output_type": "stream",
          "text": [
            "Classes: ['ham' 'spam']\n"
          ],
          "name": "stdout"
        },
        {
          "output_type": "execute_result",
          "data": {
            "text/plain": [
              "(['spam', 'ham', 'ham', 'ham', 'ham', 'spam', 'ham', 'ham', 'ham', 'ham'],\n",
              " array([1, 0, 0, 0, 0, 1, 0, 0, 0, 0]))"
            ]
          },
          "metadata": {
            "tags": []
          },
          "execution_count": 6
        }
      ]
    },
    {
      "cell_type": "code",
      "metadata": {
        "colab": {
          "base_uri": "https://localhost:8080/"
        },
        "id": "Yrrm2IZnlEGO",
        "outputId": "f79b8ef5-db4e-4b43-f79b-0a0f2d74c70b"
      },
      "source": [
        "from sklearn.neighbors import NearestCentroid\n",
        "classifier = NearestCentroid()\n",
        "classifier.fit(X, y)\n",
        "\n",
        "print(\"Training accuracy: %.1f%%\" % (100*classifier.score(X, y)))"
      ],
      "execution_count": 13,
      "outputs": [
        {
          "output_type": "stream",
          "text": [
            "Training accuracy: 97.5%\n"
          ],
          "name": "stdout"
        }
      ]
    },
    {
      "cell_type": "code",
      "metadata": {
        "colab": {
          "base_uri": "https://localhost:8080/"
        },
        "id": "9S0Ad1gGmjXB",
        "outputId": "43fd56c5-af4a-4325-e30a-d0e6667c4c5c"
      },
      "source": [
        "label_encoder.inverse_transform(classifier.predict(X))"
      ],
      "execution_count": 15,
      "outputs": [
        {
          "output_type": "execute_result",
          "data": {
            "text/plain": [
              "array(['spam', 'ham', 'ham', ..., 'ham', 'ham', 'ham'], dtype='<U4')"
            ]
          },
          "metadata": {
            "tags": []
          },
          "execution_count": 15
        }
      ]
    },
    {
      "cell_type": "code",
      "metadata": {
        "colab": {
          "base_uri": "https://localhost:8080/"
        },
        "id": "X2ZkO8qNmax8",
        "outputId": "52ec181f-62d6-4ab2-ad6f-84878c32cc0e"
      },
      "source": [
        "X_test = vectorizer.transform(X_raw_test)\n",
        "y_test = label_encoder.transform(y_raw_test)\n",
        "\n",
        "print(\"Test accuracy: %.1f%%\" % (100*classifier.score(X_test, y_test)))"
      ],
      "execution_count": 16,
      "outputs": [
        {
          "output_type": "stream",
          "text": [
            "Test accuracy: 97.1%\n"
          ],
          "name": "stdout"
        }
      ]
    },
    {
      "cell_type": "code",
      "metadata": {
        "colab": {
          "base_uri": "https://localhost:8080/"
        },
        "id": "b6rlEO5pnSg2",
        "outputId": "0588838f-160f-4b61-9d7d-e54797d627ae"
      },
      "source": [
        "import numpy as np\n",
        "majority_baseline = np.sum(y_test==0)/len(y_test)\n",
        "majority_baseline"
      ],
      "execution_count": 21,
      "outputs": [
        {
          "output_type": "execute_result",
          "data": {
            "text/plain": [
              "0.8556053811659193"
            ]
          },
          "metadata": {
            "tags": []
          },
          "execution_count": 21
        }
      ]
    }
  ]
}