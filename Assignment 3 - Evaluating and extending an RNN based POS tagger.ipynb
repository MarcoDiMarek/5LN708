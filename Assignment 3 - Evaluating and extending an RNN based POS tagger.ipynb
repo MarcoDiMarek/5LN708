{
  "nbformat": 4,
  "nbformat_minor": 0,
  "metadata": {
    "colab": {
      "name": "Assignment 3 - Evaluating and extending an RNN based POS tagger.ipynb",
      "provenance": [],
      "collapsed_sections": []
    },
    "kernelspec": {
      "name": "python3",
      "display_name": "Python 3"
    },
    "accelerator": "GPU"
  },
  "cells": [
    {
      "cell_type": "markdown",
      "metadata": {
        "id": "GgPqt4p1y36p"
      },
      "source": [
        "# Assignment 3: Evaluating and extending an RNN based POS tagger\n",
        " \n",
        "*version 2021.2, details/bugs might be fixed within the first week of publication, you will be notified if this happens*\n",
        " \n",
        "When solving a new problem (or an old problem on a new data set), there are often some \"shoulders of giants\" to stand on. The first step is to look at the best papers and try to download someone's code for solving a similar problem to the one you are faced with. The challenge is as much about understanding and adapting already existing code as it is about theoretical knowledge and creativity.\n",
        " \n",
        "For this assignment, you start with a working pipeline for POS tagging using LSTMs and mini-batch training. Your task is to evaluate the model on a number of sources in different languages. The neural model represents the data's tokens as non-pretrained embedding vectors. The sequences of embedding vectors are passed through a LSTM layer. The outputs from the recurrent layer are then transformed to probabilities over POS tags by passing them through a fully connected layer and a softmax. You will have to refactor (i.e. rearrange the code) and extend the model by adding some commonly used properties, e.g. the RNN layer type or regularization (see the list of suggestions below).\n",
        " \n",
        "The familiar Brown corpus is used for the reference implementation. This corpus should not be used in your submission.\n",
        "\n",
        "## Submission\n",
        " \n",
        "Please submit your code as a notebook through studium. You should include the following:\n",
        " \n",
        "1. A working implementation of your pipeline, reproducing your principal results when run. Please ensure that outputs are stored in the notebook (preferably by rerunning your notebook as the last thing you do before submitting).\n",
        "2. Comment the code properly, especially for longer or opaque functionality. Please try to write self documenting code (e.g. by choosing descriptive variables names, refactoring to isolate functionality, and by minimizing code duplication).\n",
        "4. Comments on what you thought was hard in the assignment, what you think was educational, what took most time, and which parts might be unnecessarily tricky.\n",
        "5. As the submission is anonymous, **all personal information must be removed**.\n",
        "6. Apart from sections and titles, please remove all unnecessary text and code from the notebook you hand in. Keep only that which strengthens the case that you fulfil the listed requirements.\n",
        "\n",
        "\n",
        "## Requirements for grade G\n",
        "\n",
        "To achieve a pass (G) on this assignment, you must solve the following tasks without serious errors.\n",
        "\n",
        "1. Extend the given model in at least three of the ways listed in the *extensions* section. State clearly which ones you have implemented.\n",
        "2. Include a short (250-500 words) qualitative analysis in your submission. Discuss the performance difference between languages/genres and design choices. You can spread this in the notebook or put them in one place.\n",
        "3. Refactor the given model as a class (including relevant preprocessing, forward/backward pass etc). Your model class should follow the sklearn API where possible.\n",
        "4. Not all languages require the same model complexity for POS tagging. Some might need a higher dimensionality for the embedding or layers for the model to perform well. Briefly explore the relation between model complexity and accuracy?\n",
        "5. In your quantitative evaluation, use some genre of text in three languages from the [universal dependencies](https://universaldependencies.org/) project (UD). These will be in the familiar `.conllu` format. Parse the files to get the words (not lemmas).\n",
        "6. Network accuracy for one model doesn't say much about how well a model performs. Define a baseline accuracy and compare your results to it.\n",
        "\n",
        "\n",
        "### Additional requirements for grade VG\n",
        "\n",
        "For a pass with distinction grade (VG), you should extend your analysis to include all the items under *extensions*. State clearly which ones you have done.\n",
        "\n",
        "\n",
        "### Extensions \n",
        " \n",
        "1. There are other types of RNNs layers commonly used in NLP. Add the option to use a GRU layer instead of LSTM, and include this in your performance comparison.\n",
        "2. The given implementation only allows for dependencies from left to right. Add the option to use a bi-directional RNN layer.\n",
        "3. Use pyTorch's `Dataset` and `DataLoader` classes for loading the data. [This tutorial](https://pytorch.org/tutorials/beginner/data_loading_tutorial.html) is a good starting point. This should make it easier to loop over data sets.\n",
        "4. Try some type of data augmentation in your training data (e.g. masking random tokens). This should theoretically increase the generalizability of your model. How much augmentation is too much?\n",
        "5. Implement some level of regularization in your model. This can be implemented in several ways, e.g. dropout or weight decay. Briefly argue for the choices you made and show how network preformance might change with the rate of regularization.\n",
        "6. Add more sources. You can both add sources with different genres and/or more languages. A suggestion is to try how languages with very different levels of morphological richness (e.g. English vs Finish) requires more or less training data. The total number of sources should be above 10.\n",
        "7. Comment on shortcomings and how to improve the model in relation to a recent POS tagging paper (a good starting point for searching is [NLP-progress](http://nlpprogress.com/).\n",
        "10. Compare performace using UD's universal vs language specific tag sets.\n",
        "\n",
        "*Note that trying all combinations of the extensions is not required. It is enough to do some structured testing of extensions and then, for example, go on to compare the tag sets on the best model configuration. This is an exercise in extending and evaluating a model, not in finding the patience to wait for your computer to finish grid searching over alternatives.*\n",
        "\n",
        "\n",
        "## General advice\n",
        "\n",
        "The task is to predict, for an unseen review, whether it is positive or negative. This is a binary classification task. Work from the given code and change one piece at a time, ensuring functionality throughout your work. You should test your code every couple of lines to make sure your assumptions on functionality and variable content is correct. A good rule of thumb is that a coder will introduce a bug every five lines (even as a professional).\n",
        "\n",
        "To make sure your code does what it is supposed to do, use ```assert``` statements to check your assumptions. Keep the given asserts if you need them. Professional coders sometimes start with writing tests for some functionality instead of starting with the functionality itself. This is called *test-driven development*.\n",
        "\n",
        "Finally, remember the great motto **RTFM**. It will save you in the future.\n",
        "\n",
        "\n",
        "## Plagiarism\n",
        " \n",
        "In code assignments, plagiarism is a tricky concept. A clean cut way would be to demand that you write all the code yourself, from memory, with only the assigned literature as help. This is not how code is developed professionally. It is common to copy and share. However, since this is a learning exercise, you must implement everything on your own, but please look at the course repo, Stack Overflow etc. Moreover, discuss with course mates and TAs to find inspiration and solutions. Code that is *obviously* copied (with minor modifications) will be considered as plagiarized. As a part of the examination, you might be asked to explain any particular part of the functionality in your implementation."
      ]
    },
    {
      "cell_type": "code",
      "metadata": {
        "id": "qDDstzhwztQS"
      },
      "source": [
        "# Our standard imports for maths and basic methodology\n",
        "import numpy as np\n",
        "from sklearn.model_selection import train_test_split\n",
        "\n",
        "# For user feedback\n",
        "from tqdm import tqdm\n",
        "import matplotlib.pyplot as plt\n",
        "\n",
        "# Imports for pytorch\n",
        "import torch\n",
        "import torch.nn as nn"
      ],
      "execution_count": 1,
      "outputs": []
    },
    {
      "cell_type": "markdown",
      "metadata": {
        "id": "Okj6Den-4-Wd"
      },
      "source": [
        "Let's see if we have a GPU."
      ]
    },
    {
      "cell_type": "code",
      "metadata": {
        "colab": {
          "base_uri": "https://localhost:8080/"
        },
        "id": "nYGiUxG746pz",
        "outputId": "b38febd6-e797-4154-ace3-1ab4d2d213e3"
      },
      "source": [
        "if torch.cuda.is_available():\n",
        "  for i in range(torch.cuda.device_count()):\n",
        "    print(torch.cuda.get_device_name(i))\n",
        "else:\n",
        "  print(\"No GPU available\")"
      ],
      "execution_count": 2,
      "outputs": [
        {
          "output_type": "stream",
          "text": [
            "Tesla K80\n"
          ],
          "name": "stdout"
        }
      ]
    },
    {
      "cell_type": "markdown",
      "metadata": {
        "id": "hO0m41-MzJRc"
      },
      "source": [
        "## Load tagging data\n",
        "\n",
        "The following downloads the [Brown corpus](https://en.wikipedia.org/wiki/Brown_Corpus). This data is only here to demonstrate the network below."
      ]
    },
    {
      "cell_type": "code",
      "metadata": {
        "colab": {
          "base_uri": "https://localhost:8080/"
        },
        "id": "l67a4Qnr5ac7",
        "outputId": "2c388dcd-0d91-4f6b-81b7-ad42e9545828"
      },
      "source": [
        "import nltk\n",
        "nltk.download('brown')\n",
        "from nltk.corpus import brown\n",
        "nltk.download('universal_tagset')\n",
        "\n",
        "sentences = brown.tagged_sents(tagset='universal')                        # Load the data\n",
        "sentences = [sentence for sentence in sentences if len(sentence) > 2]     # Remove very short sentences\n",
        "\n",
        "print(\"Loaded %i sentences\" % len(sentences))\n",
        "print(sentences[0])"
      ],
      "execution_count": 3,
      "outputs": [
        {
          "output_type": "stream",
          "text": [
            "[nltk_data] Downloading package brown to /root/nltk_data...\n",
            "[nltk_data]   Unzipping corpora/brown.zip.\n",
            "[nltk_data] Downloading package universal_tagset to /root/nltk_data...\n",
            "[nltk_data]   Unzipping taggers/universal_tagset.zip.\n",
            "Loaded 56283 sentences\n",
            "[('The', 'DET'), ('Fulton', 'NOUN'), ('County', 'NOUN'), ('Grand', 'ADJ'), ('Jury', 'NOUN'), ('said', 'VERB'), ('Friday', 'NOUN'), ('an', 'DET'), ('investigation', 'NOUN'), ('of', 'ADP'), (\"Atlanta's\", 'NOUN'), ('recent', 'ADJ'), ('primary', 'NOUN'), ('election', 'NOUN'), ('produced', 'VERB'), ('``', '.'), ('no', 'DET'), ('evidence', 'NOUN'), (\"''\", '.'), ('that', 'ADP'), ('any', 'DET'), ('irregularities', 'NOUN'), ('took', 'VERB'), ('place', 'NOUN'), ('.', '.')]\n"
          ],
          "name": "stdout"
        }
      ]
    },
    {
      "cell_type": "markdown",
      "metadata": {
        "id": "SOQVXabf6MH9"
      },
      "source": [
        "Preprocessing for the brow corpus. This splits the data into our standard X and y format."
      ]
    },
    {
      "cell_type": "code",
      "metadata": {
        "colab": {
          "base_uri": "https://localhost:8080/"
        },
        "id": "9UuA4rJC6Hge",
        "outputId": "782302c2-7159-4a97-b710-38fb2ff32ad1"
      },
      "source": [
        "X = [[token for token, tag in sentence] for sentence in sentences]\n",
        "y = [[tag for token, tag in sentence] for sentence in sentences]\n",
        "\n",
        "assert len(X) == len(y)\n",
        "\n",
        "print(X[0])\n",
        "print(y[0])"
      ],
      "execution_count": 4,
      "outputs": [
        {
          "output_type": "stream",
          "text": [
            "['The', 'Fulton', 'County', 'Grand', 'Jury', 'said', 'Friday', 'an', 'investigation', 'of', \"Atlanta's\", 'recent', 'primary', 'election', 'produced', '``', 'no', 'evidence', \"''\", 'that', 'any', 'irregularities', 'took', 'place', '.']\n",
            "['DET', 'NOUN', 'NOUN', 'ADJ', 'NOUN', 'VERB', 'NOUN', 'DET', 'NOUN', 'ADP', 'NOUN', 'ADJ', 'NOUN', 'NOUN', 'VERB', '.', 'DET', 'NOUN', '.', 'ADP', 'DET', 'NOUN', 'VERB', 'NOUN', '.']\n"
          ],
          "name": "stdout"
        }
      ]
    },
    {
      "cell_type": "code",
      "metadata": {
        "id": "0SKxeDs2seHV",
        "colab": {
          "base_uri": "https://localhost:8080/"
        },
        "outputId": "5d354f88-d764-4f51-c06c-d125ba753f05"
      },
      "source": [
        "X_train, X_test, y_train, y_test = train_test_split(X, y, test_size=0.1, random_state=0)\n",
        "\n",
        "assert len(X_train) == len(y_train)\n",
        "assert len(X_test) == len(y_test)\n",
        "assert len(X_train)+len(X_test) == len(X)\n",
        "\n",
        "print(\"The training set includes %i sentences\" % len(X_train))\n",
        "print(\"The test set includes %i sentences\" % len(X_test))"
      ],
      "execution_count": 5,
      "outputs": [
        {
          "output_type": "stream",
          "text": [
            "The training set includes 50654 sentences\n",
            "The test set includes 5629 sentences\n"
          ],
          "name": "stdout"
        }
      ]
    },
    {
      "cell_type": "markdown",
      "metadata": {
        "id": "TlL3-sS57GeE"
      },
      "source": [
        "Most sentences are short, but some are very long."
      ]
    },
    {
      "cell_type": "code",
      "metadata": {
        "id": "Z25i9_UxtUeR",
        "colab": {
          "base_uri": "https://localhost:8080/",
          "height": 279
        },
        "outputId": "f86bb088-e603-46a9-8610-cbb37a2cdb5e"
      },
      "source": [
        "l = np.asarray([len(x) for x in X], dtype=np.int)\n",
        "plt.figure(figsize=(8, 4))\n",
        "x = np.unique(l)\n",
        "plt.bar(x, [np.sum(l==e) for e in x], width=1)\n",
        "plt.xlabel(\"Sentence length\")\n",
        "plt.ylabel(\"# sentences\")\n",
        "plt.show()"
      ],
      "execution_count": 6,
      "outputs": [
        {
          "output_type": "display_data",
          "data": {
            "image/png": "[encoded data removed]",
            "text/plain": [
              "<Figure size 576x288 with 1 Axes>"
            ]
          },
          "metadata": {
            "tags": [],
            "needs_background": "light"
          }
        }
      ]
    },
    {
      "cell_type": "markdown",
      "metadata": {
        "id": "fHIiYxLyz2cf"
      },
      "source": [
        "## Data encoding and padding"
      ]
    },
    {
      "cell_type": "code",
      "metadata": {
        "id": "9fjVkyDOP9MU",
        "colab": {
          "base_uri": "https://localhost:8080/"
        },
        "outputId": "8bfb9e71-ef5c-42b2-c6b6-d44d91c89ac4"
      },
      "source": [
        "tokens = {token for sentence in X_train for token in sentence}\n",
        "idx2token = list(tokens)\n",
        "idx2token.insert(0, '<UNK>')\n",
        "idx2token.append('<PAD>')\n",
        "token2idx = {token:idx for idx, token in enumerate(idx2token)}\n",
        "\n",
        "tags = {tag for tags in y_train for tag in tags}\n",
        "idx2tag = list(tags)\n",
        "idx2tag.append('<PAD>')\n",
        "tag2idx = {tag:idx for idx, tag in enumerate(idx2tag)}\n",
        "\n",
        "print(idx2token[:15])\n",
        "print(idx2tag)"
      ],
      "execution_count": 7,
      "outputs": [
        {
          "output_type": "stream",
          "text": [
            "['<UNK>', 'Tide', '**yc', 'crusader', \"Balaguer's\", 'Zemlya', 'epileptic', 'Adaptation', 'multi-purpose', 'lavishly', 'Auschwitz', 'Burly', 'prototype', 'essential', 'proof']\n",
            "['ADJ', 'X', 'DET', 'NUM', 'VERB', 'PRON', 'CONJ', 'PRT', 'ADV', 'NOUN', '.', 'ADP', '<PAD>']\n"
          ],
          "name": "stdout"
        }
      ]
    },
    {
      "cell_type": "code",
      "metadata": {
        "id": "PdgiIDVP9Brw",
        "colab": {
          "base_uri": "https://localhost:8080/"
        },
        "outputId": "3b2889c6-10ce-4520-def1-efd74cd2b1dd"
      },
      "source": [
        "def pad_and_encode(sentences, labels):\n",
        "  assert len(sentences)==len(labels)\n",
        "  assert np.all([len(sentence)==len(tags) for sentence, tags in zip(sentences, labels)])\n",
        "  max_sentence_length = np.max([len(sentence) for sentence in sentences]) # Find out how much to pad\n",
        "  padded_sentences = torch.zeros(len(sentences), max_sentence_length,     # Create data structures with <PAD> as default\n",
        "                                 dtype=torch.long)\n",
        "  padded_sentences[:] = token2idx['<PAD>']\n",
        "  padded_labels = torch.zeros(len(sentences), max_sentence_length, \n",
        "                              dtype=torch.long)\n",
        "  padded_labels[:] = tag2idx['<PAD>']\n",
        "  for i, (sentence, tags) in enumerate(zip(sentences, labels)):               # Loop over the data\n",
        "    for j, token in enumerate(sentence):\n",
        "      if token in token2idx.keys():\n",
        "        padded_sentences[i, j] = token2idx[token]\n",
        "      else:\n",
        "        padded_sentences[i, j] = token2idx['<UNK>']\n",
        "    for j, tag in enumerate(tags):\n",
        "      padded_labels[i, j] = tag2idx[tag]\n",
        "  return padded_sentences, padded_labels\n",
        "\n",
        "a, b = pad_and_encode(X_train[:5], y_train[:5])\n",
        "print(a)\n",
        "print(b)"
      ],
      "execution_count": 8,
      "outputs": [
        {
          "output_type": "stream",
          "text": [
            "tensor([[12236, 27566, 12231, 24903, 46486, 33359, 15804, 37996, 13691, 45369,\n",
            "         15804, 37996, 41770, 15804, 12659, 12987, 25987, 53337, 53337, 53337,\n",
            "         53337, 53337, 53337, 53337, 53337, 53337, 53337, 53337, 53337],\n",
            "        [23544, 39268, 13386, 49561,  2243, 15917, 33753, 12966, 23495, 45085,\n",
            "         46375, 28816, 13386,  9176, 34540,  2710, 33753, 50016, 23495,   276,\n",
            "         45429, 35072, 41087, 16445, 41930, 15804,  2710, 37466, 25987],\n",
            "        [49011, 23361, 20129,   476,  9176, 39873, 51135, 13386, 49426, 50248,\n",
            "         49426, 49011,  6004, 15265, 25987, 53337, 53337, 53337, 53337, 53337,\n",
            "         53337, 53337, 53337, 53337, 53337, 53337, 53337, 53337, 53337],\n",
            "        [ 4410, 39692, 15630, 39280,  9176,  9668, 39692, 15630, 53231, 25987,\n",
            "         53337, 53337, 53337, 53337, 53337, 53337, 53337, 53337, 53337, 53337,\n",
            "         53337, 53337, 53337, 53337, 53337, 53337, 53337, 53337, 53337],\n",
            "        [17097, 40133, 37996, 41309, 13386, 40133, 37996, 14493, 13386, 40200,\n",
            "         37996, 16758, 13386, 47902,  9176, 23749, 13386,  9176, 35525, 11057,\n",
            "          6729, 40715, 16370, 37996, 36835, 10641,  2710, 30199, 25987]])\n",
            "tensor([[ 2,  9,  4,  2,  0,  9, 11,  2,  0,  9, 11,  2,  9, 11,  2,  0, 10, 12,\n",
            "         12, 12, 12, 12, 12, 12, 12, 12, 12, 12, 12],\n",
            "        [11,  7, 10,  9,  4,  2, 10,  0, 10,  6,  0,  9, 10,  6,  8,  2, 10,  0,\n",
            "         10,  9,  4,  4,  4, 11,  2, 11,  2,  9, 10],\n",
            "        [ 5,  4,  0,  4,  6,  4,  8, 10,  8,  0, 11,  5,  4,  8, 10, 12, 12, 12,\n",
            "         12, 12, 12, 12, 12, 12, 12, 12, 12, 12, 12],\n",
            "        [ 9,  4,  5,  4,  6,  9,  4,  5,  8, 10, 12, 12, 12, 12, 12, 12, 12, 12,\n",
            "         12, 12, 12, 12, 12, 12, 12, 12, 12, 12, 12],\n",
            "        [ 5,  4,  2,  9, 10,  4,  2,  9, 10,  4,  2,  9, 10,  9,  6,  4, 10,  6,\n",
            "          8,  4,  2,  9, 11,  2,  9, 11,  2,  9, 10]])\n"
          ],
          "name": "stdout"
        }
      ]
    },
    {
      "cell_type": "code",
      "metadata": {
        "id": "RbZWgBRAGWQa",
        "colab": {
          "base_uri": "https://localhost:8080/"
        },
        "outputId": "06130360-e086-4651-c3c9-8b4624ce7b3a"
      },
      "source": [
        "def batch_iterator(sentences, labels, batch_size=64):\n",
        "  \"\"\"Helper function for iterating over batches of the data\"\"\"\n",
        "  assert len(sentences) == len(labels)\n",
        "  for i in range(0, len(sentences), batch_size):\n",
        "    X, y = pad_and_encode(sentences[i:min(i+batch_size, len(sentences))], \n",
        "                          labels[i:min(i+batch_size, len(sentences))])\n",
        "    if torch.cuda.is_available():                                               # Move data to the GPU, if possible, before yielding it\n",
        "      yield (X.cuda(), y.cuda())\n",
        "    else:\n",
        "      yield (X, y)\n",
        "\n",
        "next(batch_iterator(X_train, y_train, batch_size=5))"
      ],
      "execution_count": 9,
      "outputs": [
        {
          "output_type": "execute_result",
          "data": {
            "text/plain": [
              "(tensor([[12236, 27566, 12231, 24903, 46486, 33359, 15804, 37996, 13691, 45369,\n",
              "          15804, 37996, 41770, 15804, 12659, 12987, 25987, 53337, 53337, 53337,\n",
              "          53337, 53337, 53337, 53337, 53337, 53337, 53337, 53337, 53337],\n",
              "         [23544, 39268, 13386, 49561,  2243, 15917, 33753, 12966, 23495, 45085,\n",
              "          46375, 28816, 13386,  9176, 34540,  2710, 33753, 50016, 23495,   276,\n",
              "          45429, 35072, 41087, 16445, 41930, 15804,  2710, 37466, 25987],\n",
              "         [49011, 23361, 20129,   476,  9176, 39873, 51135, 13386, 49426, 50248,\n",
              "          49426, 49011,  6004, 15265, 25987, 53337, 53337, 53337, 53337, 53337,\n",
              "          53337, 53337, 53337, 53337, 53337, 53337, 53337, 53337, 53337],\n",
              "         [ 4410, 39692, 15630, 39280,  9176,  9668, 39692, 15630, 53231, 25987,\n",
              "          53337, 53337, 53337, 53337, 53337, 53337, 53337, 53337, 53337, 53337,\n",
              "          53337, 53337, 53337, 53337, 53337, 53337, 53337, 53337, 53337],\n",
              "         [17097, 40133, 37996, 41309, 13386, 40133, 37996, 14493, 13386, 40200,\n",
              "          37996, 16758, 13386, 47902,  9176, 23749, 13386,  9176, 35525, 11057,\n",
              "           6729, 40715, 16370, 37996, 36835, 10641,  2710, 30199, 25987]],\n",
              "        device='cuda:0'),\n",
              " tensor([[ 2,  9,  4,  2,  0,  9, 11,  2,  0,  9, 11,  2,  9, 11,  2,  0, 10, 12,\n",
              "          12, 12, 12, 12, 12, 12, 12, 12, 12, 12, 12],\n",
              "         [11,  7, 10,  9,  4,  2, 10,  0, 10,  6,  0,  9, 10,  6,  8,  2, 10,  0,\n",
              "          10,  9,  4,  4,  4, 11,  2, 11,  2,  9, 10],\n",
              "         [ 5,  4,  0,  4,  6,  4,  8, 10,  8,  0, 11,  5,  4,  8, 10, 12, 12, 12,\n",
              "          12, 12, 12, 12, 12, 12, 12, 12, 12, 12, 12],\n",
              "         [ 9,  4,  5,  4,  6,  9,  4,  5,  8, 10, 12, 12, 12, 12, 12, 12, 12, 12,\n",
              "          12, 12, 12, 12, 12, 12, 12, 12, 12, 12, 12],\n",
              "         [ 5,  4,  2,  9, 10,  4,  2,  9, 10,  4,  2,  9, 10,  9,  6,  4, 10,  6,\n",
              "           8,  4,  2,  9, 11,  2,  9, 11,  2,  9, 10]], device='cuda:0'))"
            ]
          },
          "metadata": {
            "tags": []
          },
          "execution_count": 9
        }
      ]
    },
    {
      "cell_type": "markdown",
      "metadata": {
        "id": "ZmgbWbsJk8DW"
      },
      "source": [
        "## Model"
      ]
    },
    {
      "cell_type": "code",
      "metadata": {
        "id": "SwU6cWT2AqT6",
        "colab": {
          "base_uri": "https://localhost:8080/"
        },
        "outputId": "ee37719f-3edf-423f-c928-4c4d820441a6"
      },
      "source": [
        "class LSTMTagger(nn.Module):\n",
        "  def __init__(self, word_embedding_dim, lstm_hidden_dim, vocabulary_size, tagset_size):\n",
        "    \"\"\"An LSTM based tagger\n",
        "    \n",
        "    word_embedding_dim\n",
        "      The dimensionality of the word embedding\n",
        "    lstm_hidden_dim\n",
        "      The dimensionality of the hidden state in the LSTM\n",
        "    vocabulary_size\n",
        "      The number of unique tokens in the word embedding (including <PAD> etc)\n",
        "    tagset_size\n",
        "      The number of unique POS tags (not including <PAD>, as we don't want to predict it)\n",
        "    \"\"\"\n",
        "    super(LSTMTagger, self).__init__()                                          # We need to initialise the class we are inheriting from\n",
        "    self.lstm_hidden_dim_ = lstm_hidden_dim                                     # This simply stores the parameters\n",
        "    self.vocabulary_size_ = vocabulary_size\n",
        "    self.tagset_size_ = tagset_size\n",
        "\n",
        "    self._word_embedding = nn.Embedding(num_embeddings=vocabulary_size,         # Creates the vector space for the input words\n",
        "                                         embedding_dim=word_embedding_dim, \n",
        "                                         padding_idx=token2idx['<PAD>'])\n",
        "    self._lstm = nn.LSTM(input_size=word_embedding_dim,                         # The LSTM takes an embedded sentence as input, and outputs \n",
        "                         hidden_size=lstm_hidden_dim,                           # vectors with dimensionality lstm_hidden_dim.\n",
        "                         batch_first=True)\n",
        "    self._fc = nn.Linear(lstm_hidden_dim, tagset_size)                          # The linear layer maps from the RNN output space to tag space\n",
        "    self._softmax = nn.LogSoftmax(dim=1)                                        # Softmax of outputting PDFs over tags\n",
        "    \n",
        "    self.training_loss_ = list()                                                # For plotting\n",
        "    self.training_accuracy_ = list()\n",
        "\n",
        "    if torch.cuda.is_available():                                               # Move the model to the GPU (if we have one)\n",
        "      self.cuda()\n",
        "\n",
        "  def forward(self, padded_sentences):\n",
        "    \"\"\"The forward pass through the network\"\"\"\n",
        "    batch_size, max_sentence_length = padded_sentences.size()\n",
        "\n",
        "    embedded_sentences = self._word_embedding(padded_sentences)                 # Sentences encoded as integers are mapped to vectors    \n",
        "\n",
        "    sentence_lengths = (padded_sentences!=token2idx['<PAD>']).sum(dim=1)        # Find the length of sentences\n",
        "    sentence_lengths = sentence_lengths.long().cpu()                            # Ensure the correct format\n",
        "    X = nn.utils.rnn.pack_padded_sequence(embedded_sentences, sentence_lengths, # Pack the embedded data\n",
        "                                          batch_first=True, enforce_sorted=False)\n",
        "    lstm_out, _ = self._lstm(X)                                                 # Run the LSTM layer\n",
        "    X, _ = nn.utils.rnn.pad_packed_sequence(lstm_out, batch_first=True)         # Unpack the output from the LSTM\n",
        "\n",
        "    X = X.contiguous().view(-1, X.shape[2])                                     # The output from the LSTM layer is flattened\n",
        "    tag_space = self._fc(X)                                                     # Fully connected layer\n",
        "    tag_scores = self._softmax(tag_space)                                       # Softmax is applied to normalise the outputs\n",
        "    return tag_scores.view(batch_size, max_sentence_length, self.tagset_size_)\n",
        "\n",
        "\n",
        "model = LSTMTagger(word_embedding_dim=32,                                       # Dimensionality of the work embedding\n",
        "                   lstm_hidden_dim=64,                                          # Dimensionality of the hidden state in the LSTM\n",
        "                   vocabulary_size=len(token2idx),                              # The vocabulary incudes both the 'padding' and 'unknown' symbols\n",
        "                   tagset_size=len(tag2idx)-1)                                  # We have no interest in the network outputting the padding symbol\n",
        "print(model)"
      ],
      "execution_count": 10,
      "outputs": [
        {
          "output_type": "stream",
          "text": [
            "LSTMTagger(\n",
            "  (_word_embedding): Embedding(53338, 32, padding_idx=53337)\n",
            "  (_lstm): LSTM(32, 64, batch_first=True)\n",
            "  (_fc): Linear(in_features=64, out_features=12, bias=True)\n",
            "  (_softmax): LogSoftmax(dim=1)\n",
            ")\n"
          ],
          "name": "stdout"
        }
      ]
    },
    {
      "cell_type": "markdown",
      "metadata": {
        "id": "pEZlbcallbff"
      },
      "source": [
        "## Network training"
      ]
    },
    {
      "cell_type": "code",
      "metadata": {
        "id": "IVBW4NNNOwY5",
        "colab": {
          "base_uri": "https://localhost:8080/"
        },
        "outputId": "56dd2ab2-41fa-43b9-f8e8-c8e64bc16468"
      },
      "source": [
        "loss_function = nn.NLLLoss(ignore_index=tag2idx['<PAD>'])                       # A loss function that fits our choice of output layer and data. The\n",
        "                                                                                # loss function will ignore the padding index in the targets.\n",
        "optimizer = torch.optim.Adam(model.parameters(), lr=0.01)                                # We give the optimiser the parameters to work with, note that we can choose to only give some parameters\n",
        "\n",
        "batch_size = 256                                                                # Define the size of each batch\n",
        "for epoch in range(5):                                                          # Times to loop over the full dataset\n",
        "  with tqdm(batch_iterator(X_train, y_train, batch_size=batch_size), \n",
        "            total=len(X_train)//batch_size+1, unit=\"batch\", desc=\"Epoch %i\" % epoch) as batches:\n",
        "    for inputs, targets in batches:                                             # Loop once over the training data\n",
        "      model.zero_grad()                                                         # Reset gradients\n",
        "      scores = model(inputs)                                                    # Forward pass\n",
        "      loss = loss_function(scores.view(-1, model.tagset_size_),                 # Get loss, the data is reshaped as a long line of predictions and targets\n",
        "                           targets.view(-1))               \n",
        "      loss.backward()                                                           # Backpropagate the error\n",
        "      optimizer.step()                                                          # Run the optimizer to change the weights w.r.t the loss\n",
        "      predictions = scores.argmax(dim=2, keepdim=True).squeeze()                # Calculate the batch training accuracy\n",
        "      mask = targets!=tag2idx['<PAD>']                                          # Create a mask for ignoring <PAD> in the targets\n",
        "      correct = (predictions[mask] == targets[mask]).sum().item()               # Item pulls the value from the GPU automatically (if needed)\n",
        "      accuracy = correct / mask.sum().item()*100\n",
        "      model.training_accuracy_.append(accuracy)                                 # Save the accuracy for plotting\n",
        "      model.training_loss_.append(loss.item())                                  # Save the loss for plotting\n",
        "      batches.set_postfix(loss=loss.item(), accuracy=accuracy)                  # Update the progress bar"
      ],
      "execution_count": 11,
      "outputs": [
        {
          "output_type": "stream",
          "text": [
            "Epoch 0: 100%|██████████| 198/198 [00:19<00:00, 10.10batch/s, accuracy=92.8, loss=0.209]\n",
            "Epoch 1: 100%|██████████| 198/198 [00:19<00:00, 10.20batch/s, accuracy=96, loss=0.118]\n",
            "Epoch 2: 100%|██████████| 198/198 [00:19<00:00, 10.26batch/s, accuracy=97, loss=0.0824]\n",
            "Epoch 3: 100%|██████████| 198/198 [00:19<00:00, 10.23batch/s, accuracy=97.5, loss=0.0651]\n",
            "Epoch 4: 100%|██████████| 198/198 [00:19<00:00, 10.20batch/s, accuracy=97.9, loss=0.0579]\n"
          ],
          "name": "stderr"
        }
      ]
    },
    {
      "cell_type": "markdown",
      "metadata": {
        "id": "fSf4AVZislgg"
      },
      "source": [
        "We can plot the stored loss over epochs."
      ]
    },
    {
      "cell_type": "code",
      "metadata": {
        "id": "m6rd8T0_q24D",
        "colab": {
          "base_uri": "https://localhost:8080/",
          "height": 297
        },
        "outputId": "2199a30f-897b-4cd3-d966-d566f4937027"
      },
      "source": [
        "fig = plt.figure(figsize=(6, 4))\n",
        "ax = plt.subplot()\n",
        "ax.set_title(\"Plot for the (hopefully) decreasing loss over epochs\")\n",
        "ax.plot(model.training_loss_, 'b-')\n",
        "ax.set_ylabel(\"Training Loss\", color='b')\n",
        "ax.set_xlabel(\"Epoch\")\n",
        "# ax.set_yscale('log')\n",
        "ax.tick_params(axis='y', labelcolor='b')\n",
        "ax = ax.twinx()\n",
        "ax.plot(model.training_accuracy_, 'r-')\n",
        "ax.set_ylabel(\"Accuracy [%]\", color='r')\n",
        "ax.tick_params(axis='y', labelcolor='r')\n",
        "a = list(ax.axis())\n",
        "a[2] = 0\n",
        "a[3] = 100\n",
        "ax.axis(a)\n",
        "t = np.arange(0, len(model.training_accuracy_), len(X_train)//batch_size+1)\n",
        "ax.set_xticks(ticks=t)\n",
        "ax.set_xticklabels(labels=np.arange(len(t)))\n",
        "fig.tight_layout()\n",
        "plt.show()"
      ],
      "execution_count": 12,
      "outputs": [
        {
          "output_type": "display_data",
          "data": {
            "image/png": "[encoded data removed]",
            "text/plain": [
              "<Figure size 432x288 with 2 Axes>"
            ]
          },
          "metadata": {
            "tags": [],
            "needs_background": "light"
          }
        }
      ]
    },
    {
      "cell_type": "markdown",
      "metadata": {
        "id": "PUDy6CJKcMSh"
      },
      "source": [
        "## Test data accuracy\n",
        "\n",
        "This shows that the model sort of works. A per sentence accuracy would be better while being able to also analyse the predictions qualitatively would be best."
      ]
    },
    {
      "cell_type": "code",
      "metadata": {
        "id": "48fkSBgEBnFd",
        "colab": {
          "base_uri": "https://localhost:8080/"
        },
        "outputId": "a6fc8ab5-bfd1-422f-c92b-a87c61ade8a0"
      },
      "source": [
        "with torch.no_grad():                                                           # Do not use the following forward passes to calculate a gradient\n",
        "  n_correct = 0\n",
        "  n_total = 0\n",
        "  for inputs, targets in batch_iterator(X_test, y_test, batch_size=batch_size): # Loop once over the test data\n",
        "    scores = model(inputs)                                                      # Runs the test data through the model\n",
        "    predictions = scores.argmax(dim=2, keepdim=True).squeeze()                  # Finds the predictions\n",
        "    mask = targets!=tag2idx['<PAD>']                                            # Create a mask for ignoring <PAD> in the targets\n",
        "    n_correct += (predictions[mask] == targets[mask]).sum().item()              # Sums the number of correct predictions\n",
        "    n_total += mask.sum().item()\n",
        "print(\"Test accuracy %.1f%%\" % (100*n_correct/n_total))"
      ],
      "execution_count": 13,
      "outputs": [
        {
          "output_type": "stream",
          "text": [
            "Test accuracy 95.3%\n"
          ],
          "name": "stdout"
        }
      ]
    }
  ]
}