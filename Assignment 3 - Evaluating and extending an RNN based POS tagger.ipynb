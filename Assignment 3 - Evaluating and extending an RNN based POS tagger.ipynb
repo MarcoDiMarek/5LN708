{
  "nbformat": 4,
  "nbformat_minor": 0,
  "metadata": {
    "colab": {
      "name": "Assignment 3 - RNN based POS tagger.ipynb",
      "provenance": [],
      "collapsed_sections": []
    },
    "kernelspec": {
      "name": "python3",
      "display_name": "Python 3"
    },
    "accelerator": "GPU"
  },
  "cells": [
    {
      "cell_type": "markdown",
      "metadata": {
        "id": "GgPqt4p1y36p"
      },
      "source": [
        "# Assignment 3: Evaluating and extending an RNN based POS tagger\n",
        " \n",
        "*version 2021.1, details/bugs might be fixed within the first week of publication, you will be notified if this happens*\n",
        " \n",
        "When solving a new problem (or an old problem on a new data set), there are often some \"shoulders of giants\" to stand on. The first step is to look at the best papers and try to download someone's code for solving a similar problem to the one you are faced with. The challenge is as much about understanding and adapting already existing code as it is about theoretical knowledge and creativity.\n",
        " \n",
        "For this assignment, you start with a working pipeline for POS tagging using LSTMs and mini-batch training. Your task is to evaluate the model on a number of sources in different languages. The neural model represents the data's tokens as non-pretrained embedding vectors. The sequences of embedding vectors are passed through a LSTM layer. The outputs from the recurrent layer are then transformed to probabilities over POS tags by passing them through a fully connected layer and a softmax. You will have to refactor (i.e. rearrange the code) and extend the model by adding some commonly used properties, e.g. the RNN layer type or regularization (see the list of suggestions below).\n",
        " \n",
        "The familiar Brown corpus is used for the reference implementation. This corpus should not be used in your submission.\n",
        "\n",
        "## Submission\n",
        " \n",
        "Please submit your code as a notebook through studium. You should include the following:\n",
        " \n",
        "1. A working implementation of your pipeline, reproducing your principal results when run. Please ensure that outputs are stored in the notebook (preferably by rerunning your notebook as the last thing you do before submitting).\n",
        "2. Comment the code properly, especially for longer or opaque functionality. Please try to write self documenting code (e.g. by choosing descriptive variables names, refactoring to isolate functionality, and by minimizing code duplication).\n",
        "4. Comments on what you thought was hard in the assignment, what you think was educational, what took most time, and which parts might be unnecessarily tricky.\n",
        "5. As the submission is anonymous, **all personal information must be removed**.\n",
        "6. Apart from sections and titles, please remove all unnecessary text and code from the notebook you hand in. Keep only that which strengthens the case that you fulfil the listed requirements.\n",
        "\n",
        "\n",
        "## Requirements for grade G\n",
        "\n",
        "To achieve a pass (G) on this assignment, you must solve the following tasks without serious errors.\n",
        "\n",
        "1. Extend the given model in at least three of the ways listed in the *extensions* section. State clearly which ones you have implemented.\n",
        "2. Include a short (250-500 words) qualitative analysis in your submission. Discuss the performance difference between languages/genres and design choices. You can spread this in the notebook or put them in one place.\n",
        "3. Refactor the given model as a class (including relevant preprocessing, forward/backward pass etc). Your model class should follow the sklearn API where possible.\n",
        "4. Not all languages require the same model complexity for POS tagging. Some might need a higher dimensionality for the embedding or layers for the model to perform well. Briefly explore the relation between model complexity and accuracy?\n",
        "5. In your quantitative evaluation, use some genre of text in three languages from the [universal dependencies](https://universaldependencies.org/) project (UD). These will be in the familiar `.conllu` format. Parse the files to get the words (not lemmas).\n",
        "6. Network accuracy for one model doesn't say much about how well a model performs. Define a baseline accuracy and compare your results to it.\n",
        "\n",
        "### Additional requirements for grade VG\n",
        "\n",
        "For a pass with distinction grade (VG), you should extend your analysis to include all the items under *extensions*. State clearly which ones you have done.\n",
        "\n",
        "\n",
        "### Extensions \n",
        " \n",
        "1. There are other types of RNNs layers commonly used in NLP. Add the option to use a GRU layer instead of LSTM, and include this in your performance comparison.\n",
        "2. The given implementation only allows for dependencies from left to right. Add the option to use a bi-directional RNN layer.\n",
        "3. Use pyTorch's `Dataset` and `DataLoader` classes for loading the data. [This tutorial](https://pytorch.org/tutorials/beginner/data_loading_tutorial.html) is a good starting point. This should make it easier to loop over data sets.\n",
        "4. Try some type of data augmentation in your training data (e.g. masking random tokens). This should theoretically increase the generalizability of your model. How much augmentation is too much?\n",
        "5. Implement some level of regularization in your model. This can be implemented in several ways, e.g. dropout or weight decay. Briefly argue for the choices you made and show how network preformance might change with the rate of regularization.\n",
        "6. Add more sources. You can both add sources with different genres and/or more languages. A suggestion is to try how languages with very different levels of morphological richness (e.g. English vs Finish) requires more or less training data. The total number of sources should be above 10.\n",
        "7. Comment on shortcomings and how to improve the model in relation to a recent POS tagging paper (a good starting point for searching is [NLP-progress](http://nlpprogress.com/).\n",
        "10. Compare performace using UD's universal vs extended tag sets.\n",
        "\n",
        "*Note that trying all combinations of the extensions is not required. It is enough to do some structured testing of extensions and then, for example, go on to compare the tag sets on the best model configuration. This is an exercise in extending and evaluating a model, not in finding the patience to wait for your computer to finish grid searching over alternatives.*\n",
        "\n",
        "## General advice\n",
        "\n",
        "The task is to predict, for an unseen review, whether it is positive or negative. This is a binary classification task. Work from the given code and change one piece at a time, ensuring functionality throughout your work. You should test your code every couple of lines to make sure your assumptions on functionality and variable content is correct. A good rule of thumb is that a coder will introduce a bug every five lines (even as a professional).\n",
        "\n",
        "To make sure your code does what it is supposed to do, use ```assert``` statements to check your assumptions. Keep the given asserts if you need them. Professional coders sometimes start with writing tests for some functionality instead of starting with the functionality itself. This is called *test-driven development*.\n",
        "\n",
        "Finally, remember the great motto **RTFM**. It will save you in the future.\n",
        "\n",
        "## Plagiarism\n",
        " \n",
        "In code assignments, plagiarism is a tricky concept. A clean cut way would be to demand that you write all the code yourself, from memory, with only the assigned literature as help. This is not how code is developed professionally. It is common to copy and share. However, since this is a learning exercise, you must implement everything on your own, but please look at the course repo, Stack Overflow etc. Moreover, discuss with course mates and TAs to find inspiration and solutions. Code that is *obviously* copied (with minor modifications) will be considered as plagiarized. As a part of the examination, you might be asked to explain any particular part of the functionality in your implementation."
      ]
    },
    {
      "cell_type": "code",
      "metadata": {
        "id": "qDDstzhwztQS"
      },
      "source": [
        "# Our standard imports for maths and basic methodology\n",
        "import numpy as np\n",
        "from sklearn.model_selection import train_test_split\n",
        "\n",
        "# For user feedback\n",
        "from tqdm import tqdm\n",
        "import matplotlib.pyplot as plt\n",
        "\n",
        "# Imports for pytorch\n",
        "import torch\n",
        "import torch.nn as nn"
      ],
      "execution_count": 1,
      "outputs": []
    },
    {
      "cell_type": "markdown",
      "metadata": {
        "id": "Okj6Den-4-Wd"
      },
      "source": [
        "Let's see if we have a GPU."
      ]
    },
    {
      "cell_type": "code",
      "metadata": {
        "colab": {
          "base_uri": "https://localhost:8080/"
        },
        "id": "nYGiUxG746pz",
        "outputId": "3c581261-7c26-47f7-bb03-90081571d691"
      },
      "source": [
        "if torch.cuda.is_available():\n",
        "  for i in range(torch.cuda.device_count()):\n",
        "    print(torch.cuda.get_device_name(i))\n",
        "else:\n",
        "  print(\"No GPU available\")"
      ],
      "execution_count": 2,
      "outputs": [
        {
          "output_type": "stream",
          "text": [
            "Tesla T4\n"
          ],
          "name": "stdout"
        }
      ]
    },
    {
      "cell_type": "markdown",
      "metadata": {
        "id": "hO0m41-MzJRc"
      },
      "source": [
        "## Load tagging data\n",
        "\n",
        "The following downloads the [Brown corpus](https://en.wikipedia.org/wiki/Brown_Corpus). This data is only here to demonstrate the network below."
      ]
    },
    {
      "cell_type": "code",
      "metadata": {
        "colab": {
          "base_uri": "https://localhost:8080/"
        },
        "id": "l67a4Qnr5ac7",
        "outputId": "8af4a468-96a6-40ce-d186-bdf6a59238e7"
      },
      "source": [
        "import nltk\n",
        "nltk.download('brown')\n",
        "from nltk.corpus import brown\n",
        "nltk.download('universal_tagset')\n",
        "\n",
        "sentences = brown.tagged_sents(tagset='universal')                        # Load the data\n",
        "sentences = [sentence for sentence in sentences if len(sentence) > 2]     # Remove very short sentences\n",
        "\n",
        "print(\"Loaded %i sentences\" % len(sentences))\n",
        "print(sentences[0])"
      ],
      "execution_count": 3,
      "outputs": [
        {
          "output_type": "stream",
          "text": [
            "[nltk_data] Downloading package brown to /root/nltk_data...\n",
            "[nltk_data]   Package brown is already up-to-date!\n",
            "[nltk_data] Downloading package universal_tagset to /root/nltk_data...\n",
            "[nltk_data]   Package universal_tagset is already up-to-date!\n",
            "Loaded 56283 sentences\n",
            "[('The', 'DET'), ('Fulton', 'NOUN'), ('County', 'NOUN'), ('Grand', 'ADJ'), ('Jury', 'NOUN'), ('said', 'VERB'), ('Friday', 'NOUN'), ('an', 'DET'), ('investigation', 'NOUN'), ('of', 'ADP'), (\"Atlanta's\", 'NOUN'), ('recent', 'ADJ'), ('primary', 'NOUN'), ('election', 'NOUN'), ('produced', 'VERB'), ('``', '.'), ('no', 'DET'), ('evidence', 'NOUN'), (\"''\", '.'), ('that', 'ADP'), ('any', 'DET'), ('irregularities', 'NOUN'), ('took', 'VERB'), ('place', 'NOUN'), ('.', '.')]\n"
          ],
          "name": "stdout"
        }
      ]
    },
    {
      "cell_type": "markdown",
      "metadata": {
        "id": "SOQVXabf6MH9"
      },
      "source": [
        "Preprocessing for the brow corpus. This splits the data into our standard X and y format."
      ]
    },
    {
      "cell_type": "code",
      "metadata": {
        "colab": {
          "base_uri": "https://localhost:8080/"
        },
        "id": "9UuA4rJC6Hge",
        "outputId": "20dee52b-053e-421a-95e2-edeb1e396857"
      },
      "source": [
        "X = [[token for token, tag in sentence] for sentence in sentences]\n",
        "y = [[tag for token, tag in sentence] for sentence in sentences]\n",
        "\n",
        "assert len(X) == len(y)\n",
        "\n",
        "print(X[0])\n",
        "print(y[0])"
      ],
      "execution_count": 4,
      "outputs": [
        {
          "output_type": "stream",
          "text": [
            "['The', 'Fulton', 'County', 'Grand', 'Jury', 'said', 'Friday', 'an', 'investigation', 'of', \"Atlanta's\", 'recent', 'primary', 'election', 'produced', '``', 'no', 'evidence', \"''\", 'that', 'any', 'irregularities', 'took', 'place', '.']\n",
            "['DET', 'NOUN', 'NOUN', 'ADJ', 'NOUN', 'VERB', 'NOUN', 'DET', 'NOUN', 'ADP', 'NOUN', 'ADJ', 'NOUN', 'NOUN', 'VERB', '.', 'DET', 'NOUN', '.', 'ADP', 'DET', 'NOUN', 'VERB', 'NOUN', '.']\n"
          ],
          "name": "stdout"
        }
      ]
    },
    {
      "cell_type": "code",
      "metadata": {
        "id": "0SKxeDs2seHV",
        "colab": {
          "base_uri": "https://localhost:8080/"
        },
        "outputId": "51daa35c-6639-4571-d7c8-254e52d0d986"
      },
      "source": [
        "X_train, X_test, y_train, y_test = train_test_split(X, y, test_size=0.1, random_state=0)\n",
        "\n",
        "assert len(X_train) == len(y_train)\n",
        "assert len(X_test) == len(y_test)\n",
        "assert len(X_train)+len(X_test) == len(X)\n",
        "\n",
        "print(\"The training set includes %i sentences\" % len(X_train))\n",
        "print(\"The test set includes %i sentences\" % len(X_test))"
      ],
      "execution_count": 5,
      "outputs": [
        {
          "output_type": "stream",
          "text": [
            "The training set includes 50654 sentences\n",
            "The test set includes 5629 sentences\n"
          ],
          "name": "stdout"
        }
      ]
    },
    {
      "cell_type": "markdown",
      "metadata": {
        "id": "TlL3-sS57GeE"
      },
      "source": [
        "Most sentences are short, but some are very long."
      ]
    },
    {
      "cell_type": "code",
      "metadata": {
        "id": "Z25i9_UxtUeR",
        "colab": {
          "base_uri": "https://localhost:8080/",
          "height": 279
        },
        "outputId": "5e1fbdd1-4cc8-435f-cefa-ea142703c429"
      },
      "source": [
        "l = np.asarray([len(x) for x in X], dtype=np.int)\n",
        "plt.figure(figsize=(8, 4))\n",
        "x = np.unique(l)\n",
        "plt.bar(x, [np.sum(l==e) for e in x], width=1)\n",
        "plt.xlabel(\"Sentence length\")\n",
        "plt.ylabel(\"# sentences\")\n",
        "plt.show()"
      ],
      "execution_count": 6,
      "outputs": [
        {
          "output_type": "display_data",
          "data": {
            "image/png": "[encoded data removed]",
            "text/plain": [
              "<Figure size 576x288 with 1 Axes>"
            ]
          },
          "metadata": {
            "tags": [],
            "needs_background": "light"
          }
        }
      ]
    },
    {
      "cell_type": "markdown",
      "metadata": {
        "id": "fHIiYxLyz2cf"
      },
      "source": [
        "## Data encoding and padding"
      ]
    },
    {
      "cell_type": "code",
      "metadata": {
        "id": "9fjVkyDOP9MU",
        "colab": {
          "base_uri": "https://localhost:8080/"
        },
        "outputId": "10c0eec5-4c0e-4631-d2c6-a08ad3074e08"
      },
      "source": [
        "tokens = {token for sentence in X_train for token in sentence}\n",
        "idx2token = list(tokens)\n",
        "idx2token.insert(0, '<UNK>')\n",
        "idx2token.append('<PAD>')\n",
        "token2idx = {token:idx for idx, token in enumerate(idx2token)}\n",
        "\n",
        "tags = {tag for tags in y_train for tag in tags}\n",
        "idx2tag = list(tags)\n",
        "idx2tag.append('<PAD>')\n",
        "tag2idx = {tag:idx for idx, tag in enumerate(idx2tag)}\n",
        "\n",
        "print(idx2token[:15])\n",
        "print(idx2tag)"
      ],
      "execution_count": 7,
      "outputs": [
        {
          "output_type": "stream",
          "text": [
            "['<UNK>', 'weddings', '250,000', 'humanness', 'lobscouse', 'in-fighting', 'outweighed', 'tiny', 'brick', 'mitigate', 'retold', 'politically', 'Pennock', 'hops', 'labeling']\n",
            "['NOUN', 'CONJ', 'PRON', 'ADP', 'ADV', 'VERB', 'X', 'NUM', 'PRT', 'DET', '.', 'ADJ', '<PAD>']\n"
          ],
          "name": "stdout"
        }
      ]
    },
    {
      "cell_type": "code",
      "metadata": {
        "id": "PdgiIDVP9Brw",
        "colab": {
          "base_uri": "https://localhost:8080/"
        },
        "outputId": "58688c76-f7bb-4205-9c41-c7a7dc00587c"
      },
      "source": [
        "def pad_and_encode(sentences, labels):\n",
        "  assert len(sentences)==len(labels)\n",
        "  assert np.all([len(sentence)==len(tags) for sentence, tags in zip(sentences, labels)])\n",
        "  max_sentence_length = np.max([len(sentence) for sentence in sentences]) # Find out how much to pad\n",
        "  padded_sentences = torch.zeros(len(sentences), max_sentence_length,     # Create data structures with <PAD> as default\n",
        "                                 dtype=torch.long)\n",
        "  padded_sentences[:] = token2idx['<PAD>']\n",
        "  padded_labels = torch.zeros(len(sentences), max_sentence_length, \n",
        "                              dtype=torch.long)\n",
        "  padded_labels[:] = tag2idx['<PAD>']\n",
        "  for i, (sentence, tags) in enumerate(zip(sentences, labels)):               # Loop over the data\n",
        "    for j, token in enumerate(sentence):\n",
        "      if token in token2idx.keys():\n",
        "        padded_sentences[i, j] = token2idx[token]\n",
        "      else:\n",
        "        padded_sentences[i, j] = token2idx['<UNK>']\n",
        "    for j, tag in enumerate(tags):\n",
        "      padded_labels[i, j] = tag2idx[tag]\n",
        "  return padded_sentences, padded_labels\n",
        "\n",
        "a, b = pad_and_encode(X_train[:5], y_train[:5])\n",
        "print(a)\n",
        "print(b)"
      ],
      "execution_count": 8,
      "outputs": [
        {
          "output_type": "stream",
          "text": [
            "tensor([[28012, 18944, 39031, 27869, 50460, 52344, 13557, 11286, 33402, 43480,\n",
            "         13557, 11286, 20241, 13557, 43497, 52852,  4990, 53337, 53337, 53337,\n",
            "         53337, 53337, 53337, 53337, 53337, 53337, 53337, 53337, 53337],\n",
            "        [47409,  8246,  3425, 11196,  8152, 50970, 23316, 47312, 48923, 36942,\n",
            "         39502, 21898,  3425, 38568, 23879, 23178, 23316, 36084, 48923, 24569,\n",
            "          9214, 22261, 12044,  1266, 53256, 13557, 23178, 49926,  4990],\n",
            "        [34792, 34156, 38288,  3370, 38568, 41839, 31996,  3425,   988, 33325,\n",
            "           988, 34792, 35860, 52390,  4990, 53337, 53337, 53337, 53337, 53337,\n",
            "         53337, 53337, 53337, 53337, 53337, 53337, 53337, 53337, 53337],\n",
            "        [25340, 53148,  9815, 32599, 38568, 13432, 53148,  9815, 36894,  4990,\n",
            "         53337, 53337, 53337, 53337, 53337, 53337, 53337, 53337, 53337, 53337,\n",
            "         53337, 53337, 53337, 53337, 53337, 53337, 53337, 53337, 53337],\n",
            "        [ 5446, 48343, 11286, 42007,  3425, 48343, 11286, 38552,  3425, 21323,\n",
            "         11286, 28292,  3425, 51708, 38568, 13882,  3425, 38568, 21981, 19200,\n",
            "         19311, 38745, 41541, 11286, 45112, 45535, 23178, 12664,  4990]])\n",
            "tensor([[ 9,  0,  5,  9, 11,  0,  3,  9, 11,  0,  3,  9,  0,  3,  9, 11, 10, 12,\n",
            "         12, 12, 12, 12, 12, 12, 12, 12, 12, 12, 12],\n",
            "        [ 3,  8, 10,  0,  5,  9, 10, 11, 10,  1, 11,  0, 10,  1,  4,  9, 10, 11,\n",
            "         10,  0,  5,  5,  5,  3,  9,  3,  9,  0, 10],\n",
            "        [ 2,  5, 11,  5,  1,  5,  4, 10,  4, 11,  3,  2,  5,  4, 10, 12, 12, 12,\n",
            "         12, 12, 12, 12, 12, 12, 12, 12, 12, 12, 12],\n",
            "        [ 0,  5,  2,  5,  1,  0,  5,  2,  4, 10, 12, 12, 12, 12, 12, 12, 12, 12,\n",
            "         12, 12, 12, 12, 12, 12, 12, 12, 12, 12, 12],\n",
            "        [ 2,  5,  9,  0, 10,  5,  9,  0, 10,  5,  9,  0, 10,  0,  1,  5, 10,  1,\n",
            "          4,  5,  9,  0,  3,  9,  0,  3,  9,  0, 10]])\n"
          ],
          "name": "stdout"
        }
      ]
    },
    {
      "cell_type": "code",
      "metadata": {
        "id": "RbZWgBRAGWQa",
        "colab": {
          "base_uri": "https://localhost:8080/"
        },
        "outputId": "2db96463-ef55-4e1e-e140-224b00006bc6"
      },
      "source": [
        "def batch_iterator(sentences, labels, batch_size=64):\n",
        "  \"\"\"Helper function for iterating over batches of the data\"\"\"\n",
        "  assert len(sentences) == len(labels)\n",
        "  for i in range(0, len(sentences), batch_size):\n",
        "    X, y = pad_and_encode(sentences[i:min(i+batch_size, len(sentences))], \n",
        "                          labels[i:min(i+batch_size, len(sentences))])\n",
        "    if torch.cuda.is_available():                                               # Move data to the GPU, if possible, before yielding it\n",
        "      yield (X.cuda(), y.cuda())\n",
        "    else:\n",
        "      yield (X, y)\n",
        "\n",
        "next(batch_iterator(X_train, y_train, batch_size=5))"
      ],
      "execution_count": 9,
      "outputs": [
        {
          "output_type": "execute_result",
          "data": {
            "text/plain": [
              "(tensor([[28012, 18944, 39031, 27869, 50460, 52344, 13557, 11286, 33402, 43480,\n",
              "          13557, 11286, 20241, 13557, 43497, 52852,  4990, 53337, 53337, 53337,\n",
              "          53337, 53337, 53337, 53337, 53337, 53337, 53337, 53337, 53337],\n",
              "         [47409,  8246,  3425, 11196,  8152, 50970, 23316, 47312, 48923, 36942,\n",
              "          39502, 21898,  3425, 38568, 23879, 23178, 23316, 36084, 48923, 24569,\n",
              "           9214, 22261, 12044,  1266, 53256, 13557, 23178, 49926,  4990],\n",
              "         [34792, 34156, 38288,  3370, 38568, 41839, 31996,  3425,   988, 33325,\n",
              "            988, 34792, 35860, 52390,  4990, 53337, 53337, 53337, 53337, 53337,\n",
              "          53337, 53337, 53337, 53337, 53337, 53337, 53337, 53337, 53337],\n",
              "         [25340, 53148,  9815, 32599, 38568, 13432, 53148,  9815, 36894,  4990,\n",
              "          53337, 53337, 53337, 53337, 53337, 53337, 53337, 53337, 53337, 53337,\n",
              "          53337, 53337, 53337, 53337, 53337, 53337, 53337, 53337, 53337],\n",
              "         [ 5446, 48343, 11286, 42007,  3425, 48343, 11286, 38552,  3425, 21323,\n",
              "          11286, 28292,  3425, 51708, 38568, 13882,  3425, 38568, 21981, 19200,\n",
              "          19311, 38745, 41541, 11286, 45112, 45535, 23178, 12664,  4990]],\n",
              "        device='cuda:0'),\n",
              " tensor([[ 9,  0,  5,  9, 11,  0,  3,  9, 11,  0,  3,  9,  0,  3,  9, 11, 10, 12,\n",
              "          12, 12, 12, 12, 12, 12, 12, 12, 12, 12, 12],\n",
              "         [ 3,  8, 10,  0,  5,  9, 10, 11, 10,  1, 11,  0, 10,  1,  4,  9, 10, 11,\n",
              "          10,  0,  5,  5,  5,  3,  9,  3,  9,  0, 10],\n",
              "         [ 2,  5, 11,  5,  1,  5,  4, 10,  4, 11,  3,  2,  5,  4, 10, 12, 12, 12,\n",
              "          12, 12, 12, 12, 12, 12, 12, 12, 12, 12, 12],\n",
              "         [ 0,  5,  2,  5,  1,  0,  5,  2,  4, 10, 12, 12, 12, 12, 12, 12, 12, 12,\n",
              "          12, 12, 12, 12, 12, 12, 12, 12, 12, 12, 12],\n",
              "         [ 2,  5,  9,  0, 10,  5,  9,  0, 10,  5,  9,  0, 10,  0,  1,  5, 10,  1,\n",
              "           4,  5,  9,  0,  3,  9,  0,  3,  9,  0, 10]], device='cuda:0'))"
            ]
          },
          "metadata": {
            "tags": []
          },
          "execution_count": 9
        }
      ]
    },
    {
      "cell_type": "markdown",
      "metadata": {
        "id": "ZmgbWbsJk8DW"
      },
      "source": [
        "## Model"
      ]
    },
    {
      "cell_type": "code",
      "metadata": {
        "id": "SwU6cWT2AqT6",
        "colab": {
          "base_uri": "https://localhost:8080/"
        },
        "outputId": "170f6273-67b6-4dda-b17d-e47eabaa03dd"
      },
      "source": [
        "class LSTMTagger(nn.Module):\n",
        "  def __init__(self, word_embedding_dim, lstm_hidden_dim, vocabulary_size, tagset_size):\n",
        "    \"\"\"An LSTM based tagger\n",
        "    \n",
        "    word_embedding_dim\n",
        "      The dimensionality of the word embedding\n",
        "    lstm_hidden_dim\n",
        "      The dimensionality of the hidden state in the LSTM\n",
        "    vocabulary_size\n",
        "      The number of unique tokens in the word embedding (including <PAD> etc)\n",
        "    tagset_size\n",
        "      The number of unique POS tags (not including <PAD>, as we don't want to predict it)\n",
        "    \"\"\"\n",
        "    super(LSTMTagger, self).__init__()                                          # We need to initialise the class we are inheriting from\n",
        "    self.lstm_hidden_dim_ = lstm_hidden_dim                                     # This simply stores the parameters\n",
        "    self.vocabulary_size_ = vocabulary_size\n",
        "    self.tagset_size_ = tagset_size\n",
        "\n",
        "    self._word_embedding = nn.Embedding(num_embeddings=vocabulary_size,         # Creates the vector space for the input words\n",
        "                                         embedding_dim=word_embedding_dim, \n",
        "                                         padding_idx=token2idx['<PAD>'])\n",
        "    self._lstm = nn.LSTM(input_size=word_embedding_dim,                         # The LSTM takes an embedded sentence as input, and outputs \n",
        "                         hidden_size=lstm_hidden_dim,                           # vectors with dimensionality lstm_hidden_dim.\n",
        "                         batch_first=True)\n",
        "    self._fc = nn.Linear(lstm_hidden_dim, tagset_size)                          # The linear layer maps from the RNN output space to tag space\n",
        "    self._softmax = nn.LogSoftmax(dim=1)                                        # Softmax of outputting PDFs over tags\n",
        "    \n",
        "    self.training_loss_ = list()                                                # For plotting\n",
        "    self.training_accuracy_ = list()\n",
        "\n",
        "    if torch.cuda.is_available():                                               # Move the model to the GPU (if we have one)\n",
        "      self.cuda()\n",
        "\n",
        "  def forward(self, padded_sentences):\n",
        "    \"\"\"The forward pass through the network\"\"\"\n",
        "    batch_size, max_sentence_length = padded_sentences.size()\n",
        "\n",
        "    embedded_sentences = self._word_embedding(padded_sentences)                 # Sentences encoded as integers are mapped to vectors    \n",
        "\n",
        "    sentence_lengths = (padded_sentences!=token2idx['<PAD>']).sum(dim=1)        # Find the length of sentences\n",
        "    sentence_lengths = sentence_lengths.long().cpu()                            # Ensure the correct format\n",
        "    X = nn.utils.rnn.pack_padded_sequence(embedded_sentences, sentence_lengths, # Pack the embedded data\n",
        "                                          batch_first=True, enforce_sorted=False)\n",
        "    lstm_out, _ = self._lstm(X)                                                 # Run the LSTM layer\n",
        "    X, _ = nn.utils.rnn.pad_packed_sequence(lstm_out, batch_first=True)         # Unpack the output from the LSTM\n",
        "\n",
        "    X = X.contiguous().view(-1, X.shape[2])                                     # The output from the LSTM layer is flattened\n",
        "    tag_space = self._fc(X)                                                     # Fully connected layer\n",
        "    tag_scores = self._softmax(tag_space)                                       # Softmax is applied to normalise the outputs\n",
        "    return tag_scores.view(batch_size, max_sentence_length, self.tagset_size_)\n",
        "\n",
        "\n",
        "model = LSTMTagger(word_embedding_dim=32,                                       # Dimensionality of the work embedding\n",
        "                   lstm_hidden_dim=64,                                          # Dimensionality of the hidden state in the LSTM\n",
        "                   vocabulary_size=len(token2idx),                              # The vocabulary incudes both the 'padding' and 'unknown' symbols\n",
        "                   tagset_size=len(tag2idx)-1)                                  # We have no interest in the network outputting the padding symbol\n",
        "print(model)"
      ],
      "execution_count": 10,
      "outputs": [
        {
          "output_type": "stream",
          "text": [
            "LSTMTagger(\n",
            "  (_word_embedding): Embedding(53338, 32, padding_idx=53337)\n",
            "  (_lstm): LSTM(32, 64, batch_first=True)\n",
            "  (_fc): Linear(in_features=64, out_features=12, bias=True)\n",
            "  (_softmax): LogSoftmax(dim=1)\n",
            ")\n"
          ],
          "name": "stdout"
        }
      ]
    },
    {
      "cell_type": "markdown",
      "metadata": {
        "id": "pEZlbcallbff"
      },
      "source": [
        "## Network training"
      ]
    },
    {
      "cell_type": "code",
      "metadata": {
        "id": "IVBW4NNNOwY5",
        "colab": {
          "base_uri": "https://localhost:8080/"
        },
        "outputId": "4529a1e5-d1a7-4d38-ab60-1e82c849a840"
      },
      "source": [
        "loss_function = nn.NLLLoss(ignore_index=tag2idx['<PAD>'])                       # A loss function that fits our choice of output layer and data. The\n",
        "                                                                                # loss function will ignore the padding index in the targets.\n",
        "optimizer = torch.optim.Adam(model.parameters(), lr=0.01)                                # We give the optimiser the parameters to work with, note that we can choose to only give some parameters\n",
        "\n",
        "batch_size = 256                                                                # Define the size of each batch\n",
        "for epoch in range(5):                                                          # Times to loop over the full dataset\n",
        "  with tqdm(batch_iterator(X_train, y_train, batch_size=batch_size), \n",
        "            total=len(X_train)//batch_size+1, unit=\"batch\", desc=\"Epoch %i\" % epoch) as batches:\n",
        "    for inputs, targets in batches:                                             # Loop once over the training data\n",
        "      model.zero_grad()                                                         # Reset gradients\n",
        "      scores = model(inputs)                                                    # Forward pass\n",
        "      loss = loss_function(scores.view(-1, model.tagset_size_),                 # Get loss, the data is reshaped as a long line of predictions and targets\n",
        "                           targets.view(-1))               \n",
        "      loss.backward()                                                           # Backpropagate the error\n",
        "      optimizer.step()                                                          # Run the optimizer to change the weights w.r.t the loss\n",
        "      predictions = scores.argmax(dim=2, keepdim=True).squeeze()                # Calculate the batch training accuracy\n",
        "      mask = targets!=tag2idx['<PAD>']                                          # Create a mask for ignoring <PAD> in the targets\n",
        "      correct = (predictions[mask] == targets[mask]).sum().item()               # Item pulls the value from the GPU automatically (if needed)\n",
        "      accuracy = correct / mask.sum().item()*100\n",
        "      model.training_accuracy_.append(accuracy)                                 # Save the accuracy for plotting\n",
        "      model.training_loss_.append(loss.item())                                  # Save the loss for plotting\n",
        "      batches.set_postfix(loss=loss.item(), accuracy=accuracy)                  # Update the progress bar"
      ],
      "execution_count": 11,
      "outputs": [
        {
          "output_type": "stream",
          "text": [
            "Epoch 0: 100%|██████████| 198/198 [00:12<00:00, 16.46batch/s, accuracy=94, loss=0.176]\n",
            "Epoch 1: 100%|██████████| 198/198 [00:11<00:00, 16.57batch/s, accuracy=96.3, loss=0.0962]\n",
            "Epoch 2: 100%|██████████| 198/198 [00:12<00:00, 16.34batch/s, accuracy=97.3, loss=0.0717]\n",
            "Epoch 3: 100%|██████████| 198/198 [00:12<00:00, 16.41batch/s, accuracy=97.5, loss=0.0619]\n",
            "Epoch 4: 100%|██████████| 198/198 [00:12<00:00, 16.27batch/s, accuracy=97.9, loss=0.0551]\n"
          ],
          "name": "stderr"
        }
      ]
    },
    {
      "cell_type": "markdown",
      "metadata": {
        "id": "fSf4AVZislgg"
      },
      "source": [
        "We can plot the stored loss over epochs."
      ]
    },
    {
      "cell_type": "code",
      "metadata": {
        "id": "m6rd8T0_q24D",
        "colab": {
          "base_uri": "https://localhost:8080/",
          "height": 297
        },
        "outputId": "b2142c51-8628-4ced-ae81-936cab48644c"
      },
      "source": [
        "fig = plt.figure(figsize=(6, 4))\n",
        "ax = plt.subplot()\n",
        "ax.set_title(\"Plot for the (hopefully) decreasing loss over epochs\")\n",
        "ax.plot(model.training_loss_, 'b-')\n",
        "ax.set_ylabel(\"Training Loss\", color='b')\n",
        "ax.set_xlabel(\"Epoch\")\n",
        "# ax.set_yscale('log')\n",
        "ax.tick_params(axis='y', labelcolor='b')\n",
        "ax = ax.twinx()\n",
        "ax.plot(model.training_accuracy_, 'r-')\n",
        "ax.set_ylabel(\"Accuracy [%]\", color='r')\n",
        "ax.tick_params(axis='y', labelcolor='r')\n",
        "a = list(ax.axis())\n",
        "a[2] = 0\n",
        "a[3] = 100\n",
        "ax.axis(a)\n",
        "t = np.arange(0, len(model.training_accuracy_), len(X_train)//batch_size+1)\n",
        "ax.set_xticks(ticks=t)\n",
        "ax.set_xticklabels(labels=np.arange(len(t)))\n",
        "fig.tight_layout()\n",
        "plt.show()"
      ],
      "execution_count": 12,
      "outputs": [
        {
          "output_type": "display_data",
          "data": {
            "image/png": "[encoded data removed]",
            "text/plain": [
              "<Figure size 432x288 with 2 Axes>"
            ]
          },
          "metadata": {
            "tags": [],
            "needs_background": "light"
          }
        }
      ]
    },
    {
      "cell_type": "markdown",
      "metadata": {
        "id": "PUDy6CJKcMSh"
      },
      "source": [
        "## Test data accuracy\n",
        "\n",
        "This shows that the model sort of works. A per sentence accuracy would be better while being able to also analyse the predictions qualitatively would be best."
      ]
    },
    {
      "cell_type": "code",
      "metadata": {
        "id": "48fkSBgEBnFd",
        "colab": {
          "base_uri": "https://localhost:8080/"
        },
        "outputId": "712695eb-cada-4a26-a29b-3c3844ceaf1c"
      },
      "source": [
        "with torch.no_grad():                                                           # Do not use the following forward passes to calculate a gradient\n",
        "  n_correct = 0\n",
        "  n_total = 0\n",
        "  for inputs, targets in batch_iterator(X_test, y_test, batch_size=batch_size): # Loop once over the test data\n",
        "    scores = model(inputs)                                                      # Runs the test data through the model\n",
        "    predictions = scores.argmax(dim=2, keepdim=True).squeeze()                  # Finds the predictions\n",
        "    mask = targets!=tag2idx['<PAD>']                                            # Create a mask for ignoring <PAD> in the targets\n",
        "    n_correct += (predictions[mask] == targets[mask]).sum().item()              # Sums the number of correct predictions\n",
        "    n_total += mask.sum().item()\n",
        "print(\"Test accuracy %.1f%%\" % (100*n_correct/n_total))"
      ],
      "execution_count": 13,
      "outputs": [
        {
          "output_type": "stream",
          "text": [
            "Test accuracy 96.1%\n"
          ],
          "name": "stdout"
        }
      ]
    }
  ]
}