{
  "nbformat": 4,
  "nbformat_minor": 0,
  "metadata": {
    "colab": {
      "name": "Copy of Lecture 01 - Encoding example.ipynb",
      "provenance": []
    },
    "kernelspec": {
      "name": "python3",
      "display_name": "Python 3"
    },
    "language_info": {
      "name": "python"
    }
  },
  "cells": [
    {
      "cell_type": "markdown",
      "metadata": {
        "id": "0X8vOtXOUIRj"
      },
      "source": [
        "# Encoding for the world anarchist congress"
      ]
    },
    {
      "cell_type": "code",
      "metadata": {
        "colab": {
          "base_uri": "https://localhost:8080/"
        },
        "id": "MGwFmOqNTesP",
        "outputId": "544951c3-fdda-4bc7-a86a-514c4ff42d35"
      },
      "source": [
        "data = [\"Property if theft!\",\n",
        "\"When deeds speak, words are nothing.\",\n",
        "\"The great are only great because we are on our knees.\"]\n",
        "data"
      ],
      "execution_count": 1,
      "outputs": [
        {
          "output_type": "execute_result",
          "data": {
            "text/plain": [
              "['Property if theft!',\n",
              " 'When deeds speak, words are nothing.',\n",
              " 'The great are only great because we are on our knees.']"
            ]
          },
          "metadata": {
            "tags": []
          },
          "execution_count": 1
        }
      ]
    },
    {
      "cell_type": "code",
      "metadata": {
        "colab": {
          "base_uri": "https://localhost:8080/"
        },
        "id": "EFm2gkMpTp1g",
        "outputId": "fd9d21a6-5313-45fc-fb38-7a48eaba5a63"
      },
      "source": [
        "import nltk\n",
        "nltk.download('punkt')\n",
        "from nltk.tokenize import wordpunct_tokenize\n",
        "tokenized = [wordpunct_tokenize(d) for d in data]\n",
        "tokenized"
      ],
      "execution_count": 2,
      "outputs": [
        {
          "output_type": "stream",
          "text": [
            "[nltk_data] Downloading package punkt to /root/nltk_data...\n",
            "[nltk_data]   Package punkt is already up-to-date!\n"
          ],
          "name": "stdout"
        },
        {
          "output_type": "execute_result",
          "data": {
            "text/plain": [
              "[['Property', 'if', 'theft', '!'],\n",
              " ['When', 'deeds', 'speak', ',', 'words', 'are', 'nothing', '.'],\n",
              " ['The',\n",
              "  'great',\n",
              "  'are',\n",
              "  'only',\n",
              "  'great',\n",
              "  'because',\n",
              "  'we',\n",
              "  'are',\n",
              "  'on',\n",
              "  'our',\n",
              "  'knees',\n",
              "  '.']]"
            ]
          },
          "metadata": {
            "tags": []
          },
          "execution_count": 2
        }
      ]
    },
    {
      "cell_type": "code",
      "metadata": {
        "colab": {
          "base_uri": "https://localhost:8080/"
        },
        "id": "3sqFoVESUY_P",
        "outputId": "97a1ff4f-96b6-4328-ae82-26fa289da44b"
      },
      "source": [
        "vocabulary = set([word  for sent in tokenized for word in sent])\n",
        "len(vocabulary), vocabulary"
      ],
      "execution_count": 3,
      "outputs": [
        {
          "output_type": "execute_result",
          "data": {
            "text/plain": [
              "(20,\n",
              " {'!',\n",
              "  ',',\n",
              "  '.',\n",
              "  'Property',\n",
              "  'The',\n",
              "  'When',\n",
              "  'are',\n",
              "  'because',\n",
              "  'deeds',\n",
              "  'great',\n",
              "  'if',\n",
              "  'knees',\n",
              "  'nothing',\n",
              "  'on',\n",
              "  'only',\n",
              "  'our',\n",
              "  'speak',\n",
              "  'theft',\n",
              "  'we',\n",
              "  'words'})"
            ]
          },
          "metadata": {
            "tags": []
          },
          "execution_count": 3
        }
      ]
    },
    {
      "cell_type": "code",
      "metadata": {
        "colab": {
          "base_uri": "https://localhost:8080/"
        },
        "id": "ZPlYTBDOj9bV",
        "outputId": "2f27f53e-9fc4-487c-f52b-0608a89d209b"
      },
      "source": [
        "ordered_vocabulary = list(vocabulary)\n",
        "ordered_vocabulary"
      ],
      "execution_count": 4,
      "outputs": [
        {
          "output_type": "execute_result",
          "data": {
            "text/plain": [
              "['words',\n",
              " 'if',\n",
              " 'deeds',\n",
              " 'Property',\n",
              " 'are',\n",
              " 'we',\n",
              " 'speak',\n",
              " 'knees',\n",
              " 'When',\n",
              " 'because',\n",
              " 'theft',\n",
              " '.',\n",
              " 'nothing',\n",
              " 'our',\n",
              " ',',\n",
              " 'great',\n",
              " 'The',\n",
              " 'only',\n",
              " 'on',\n",
              " '!']"
            ]
          },
          "metadata": {
            "tags": []
          },
          "execution_count": 4
        }
      ]
    },
    {
      "cell_type": "code",
      "metadata": {
        "colab": {
          "base_uri": "https://localhost:8080/"
        },
        "id": "X8MttborUlHL",
        "outputId": "54861b11-833c-4858-94be-ab58d59e7d13"
      },
      "source": [
        "for i, tokens in enumerate(tokenized):\n",
        "  v = [0]*len(vocabulary)\n",
        "  for token in tokens:\n",
        "    j = ordered_vocabulary.index(token)\n",
        "    v[j] = 1\n",
        "  print(i, v)"
      ],
      "execution_count": 5,
      "outputs": [
        {
          "output_type": "stream",
          "text": [
            "0 [0, 1, 0, 1, 0, 0, 0, 0, 0, 0, 1, 0, 0, 0, 0, 0, 0, 0, 0, 1]\n",
            "1 [1, 0, 1, 0, 1, 0, 1, 0, 1, 0, 0, 1, 1, 0, 1, 0, 0, 0, 0, 0]\n",
            "2 [0, 0, 0, 0, 1, 1, 0, 1, 0, 1, 0, 1, 0, 1, 0, 1, 1, 1, 1, 0]\n"
          ],
          "name": "stdout"
        }
      ]
    }
  ]
}