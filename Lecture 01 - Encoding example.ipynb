{
 "cells": [
  {
   "cell_type": "markdown",
   "metadata": {
    "id": "0X8vOtXOUIRj"
   },
   "source": [
    "# Encoding for the world anarchist congress"
   ]
  },
  {
   "cell_type": "code",
   "execution_count": 1,
   "metadata": {
    "colab": {
     "base_uri": "https://localhost:8080/"
    },
    "id": "MGwFmOqNTesP",
    "outputId": "544951c3-fdda-4bc7-a86a-514c4ff42d35"
   },
   "outputs": [
    {
     "data": {
      "text/plain": [
       "['Property is theft!',\n",
       " 'When deeds speak, words are nothing.',\n",
       " 'The great are only great because we are on our knees.']"
      ]
     },
     "execution_count": 1,
     "metadata": {},
     "output_type": "execute_result"
    }
   ],
   "source": [
    "data = [\"Property is theft!\",\n",
    "\"When deeds speak, words are nothing.\",\n",
    "\"The great are only great because we are on our knees.\"]\n",
    "data"
   ]
  },
  {
   "cell_type": "code",
   "execution_count": 2,
   "metadata": {
    "colab": {
     "base_uri": "https://localhost:8080/"
    },
    "id": "EFm2gkMpTp1g",
    "outputId": "fd9d21a6-5313-45fc-fb38-7a48eaba5a63"
   },
   "outputs": [
    {
     "name": "stderr",
     "output_type": "stream",
     "text": [
      "[nltk_data] Downloading package punkt to /home/fredrik/nltk_data...\n",
      "[nltk_data]   Unzipping tokenizers/punkt.zip.\n"
     ]
    },
    {
     "data": {
      "text/plain": [
       "[['Property', 'is', 'theft', '!'],\n",
       " ['When', 'deeds', 'speak', ',', 'words', 'are', 'nothing', '.'],\n",
       " ['The',\n",
       "  'great',\n",
       "  'are',\n",
       "  'only',\n",
       "  'great',\n",
       "  'because',\n",
       "  'we',\n",
       "  'are',\n",
       "  'on',\n",
       "  'our',\n",
       "  'knees',\n",
       "  '.']]"
      ]
     },
     "execution_count": 2,
     "metadata": {},
     "output_type": "execute_result"
    }
   ],
   "source": [
    "import nltk\n",
    "nltk.download('punkt')\n",
    "from nltk.tokenize import wordpunct_tokenize\n",
    "tokenized = [wordpunct_tokenize(d) for d in data]\n",
    "tokenized"
   ]
  },
  {
   "cell_type": "code",
   "execution_count": 3,
   "metadata": {
    "colab": {
     "base_uri": "https://localhost:8080/"
    },
    "id": "3sqFoVESUY_P",
    "outputId": "97a1ff4f-96b6-4328-ae82-26fa289da44b"
   },
   "outputs": [
    {
     "data": {
      "text/plain": [
       "(20,\n",
       " {'!',\n",
       "  ',',\n",
       "  '.',\n",
       "  'Property',\n",
       "  'The',\n",
       "  'When',\n",
       "  'are',\n",
       "  'because',\n",
       "  'deeds',\n",
       "  'great',\n",
       "  'is',\n",
       "  'knees',\n",
       "  'nothing',\n",
       "  'on',\n",
       "  'only',\n",
       "  'our',\n",
       "  'speak',\n",
       "  'theft',\n",
       "  'we',\n",
       "  'words'})"
      ]
     },
     "execution_count": 3,
     "metadata": {},
     "output_type": "execute_result"
    }
   ],
   "source": [
    "vocabulary = set([word  for sent in tokenized for word in sent])\n",
    "len(vocabulary), vocabulary"
   ]
  },
  {
   "cell_type": "code",
   "execution_count": 4,
   "metadata": {
    "colab": {
     "base_uri": "https://localhost:8080/"
    },
    "id": "ZPlYTBDOj9bV",
    "outputId": "2f27f53e-9fc4-487c-f52b-0608a89d209b"
   },
   "outputs": [
    {
     "data": {
      "text/plain": [
       "['nothing',\n",
       " 'theft',\n",
       " 'deeds',\n",
       " 'When',\n",
       " 'is',\n",
       " '!',\n",
       " 'only',\n",
       " 'we',\n",
       " 'on',\n",
       " 'The',\n",
       " 'Property',\n",
       " 'our',\n",
       " 'knees',\n",
       " 'speak',\n",
       " 'because',\n",
       " 'words',\n",
       " 'are',\n",
       " ',',\n",
       " '.',\n",
       " 'great']"
      ]
     },
     "execution_count": 4,
     "metadata": {},
     "output_type": "execute_result"
    }
   ],
   "source": [
    "ordered_vocabulary = list(vocabulary)\n",
    "ordered_vocabulary"
   ]
  },
  {
   "cell_type": "code",
   "execution_count": 5,
   "metadata": {
    "colab": {
     "base_uri": "https://localhost:8080/"
    },
    "id": "X8MttborUlHL",
    "outputId": "54861b11-833c-4858-94be-ab58d59e7d13"
   },
   "outputs": [
    {
     "name": "stdout",
     "output_type": "stream",
     "text": [
      "0 [0, 1, 0, 0, 1, 1, 0, 0, 0, 0, 1, 0, 0, 0, 0, 0, 0, 0, 0, 0]\n",
      "1 [1, 0, 1, 1, 0, 0, 0, 0, 0, 0, 0, 0, 0, 1, 0, 1, 1, 1, 1, 0]\n",
      "2 [0, 0, 0, 0, 0, 0, 1, 1, 1, 1, 0, 1, 1, 0, 1, 0, 1, 0, 1, 1]\n"
     ]
    }
   ],
   "source": [
    "for i, tokens in enumerate(tokenized):\n",
    "  v = [0]*len(vocabulary)\n",
    "  for token in tokens:\n",
    "    j = ordered_vocabulary.index(token)\n",
    "    v[j] = 1\n",
    "  print(i, v)"
   ]
  }
 ],
 "metadata": {
  "colab": {
   "name": "Copy of Lecture 01 - Encoding example.ipynb",
   "provenance": []
  },
  "kernelspec": {
   "display_name": "Python 3",
   "language": "python",
   "name": "python3"
  },
  "language_info": {
   "codemirror_mode": {
    "name": "ipython",
    "version": 3
   },
   "file_extension": ".py",
   "mimetype": "text/x-python",
   "name": "python",
   "nbconvert_exporter": "python",
   "pygments_lexer": "ipython3",
   "version": "3.8.8"
  }
 },
 "nbformat": 4,
 "nbformat_minor": 4
}
