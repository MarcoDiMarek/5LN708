{
  "nbformat": 4,
  "nbformat_minor": 0,
  "metadata": {
    "colab": {
      "name": "Lecture 01 - Encoding example.ipynb",
      "provenance": [],
      "authorship_tag": "ABX9TyPc5453MfEhPyhgcCH70d6B"
    },
    "kernelspec": {
      "name": "python3",
      "display_name": "Python 3"
    },
    "language_info": {
      "name": "python"
    }
  },
  "cells": [
    {
      "cell_type": "markdown",
      "metadata": {
        "id": "0X8vOtXOUIRj"
      },
      "source": [
        "# Encoding for the world anarchist congress"
      ]
    },
    {
      "cell_type": "code",
      "metadata": {
        "colab": {
          "base_uri": "https://localhost:8080/"
        },
        "id": "MGwFmOqNTesP",
        "outputId": "d95cb099-30db-46a3-9ebb-7be0f5b770ed"
      },
      "source": [
        "data = [\"Property if theft!\",\n",
        "\"When deeds speak, words are nothing.\",\n",
        "\"The great are only great because we are on our knees.\"]\n",
        "data"
      ],
      "execution_count": 1,
      "outputs": [
        {
          "output_type": "execute_result",
          "data": {
            "text/plain": [
              "['Property if theft!',\n",
              " 'When deeds speak, words are nothing.',\n",
              " 'The great are only great because we are on our knees.']"
            ]
          },
          "metadata": {
            "tags": []
          },
          "execution_count": 1
        }
      ]
    },
    {
      "cell_type": "code",
      "metadata": {
        "colab": {
          "base_uri": "https://localhost:8080/"
        },
        "id": "EFm2gkMpTp1g",
        "outputId": "47e1f6da-b5bf-4a3f-b2d0-f8ecd9525b2b"
      },
      "source": [
        "import nltk\n",
        "nltk.download('punkt')\n",
        "from nltk.tokenize import wordpunct_tokenize\n",
        "tokenized = [wordpunct_tokenize(d) for d in data]\n",
        "tokenized"
      ],
      "execution_count": 2,
      "outputs": [
        {
          "output_type": "stream",
          "text": [
            "[nltk_data] Downloading package punkt to /root/nltk_data...\n",
            "[nltk_data]   Package punkt is already up-to-date!\n"
          ],
          "name": "stdout"
        },
        {
          "output_type": "execute_result",
          "data": {
            "text/plain": [
              "[['Property', 'if', 'theft', '!'],\n",
              " ['When', 'deeds', 'speak', ',', 'words', 'are', 'nothing', '.'],\n",
              " ['The',\n",
              "  'great',\n",
              "  'are',\n",
              "  'only',\n",
              "  'great',\n",
              "  'because',\n",
              "  'we',\n",
              "  'are',\n",
              "  'on',\n",
              "  'our',\n",
              "  'knees',\n",
              "  '.']]"
            ]
          },
          "metadata": {
            "tags": []
          },
          "execution_count": 2
        }
      ]
    },
    {
      "cell_type": "code",
      "metadata": {
        "colab": {
          "base_uri": "https://localhost:8080/"
        },
        "id": "3sqFoVESUY_P",
        "outputId": "fea3f600-b82e-468e-d948-ccc338b27ea6"
      },
      "source": [
        "vocabulary = set([word  for sent in tokenized for word in sent])\n",
        "len(vocabulary), vocabulary"
      ],
      "execution_count": 3,
      "outputs": [
        {
          "output_type": "execute_result",
          "data": {
            "text/plain": [
              "(20,\n",
              " {'!',\n",
              "  ',',\n",
              "  '.',\n",
              "  'Property',\n",
              "  'The',\n",
              "  'When',\n",
              "  'are',\n",
              "  'because',\n",
              "  'deeds',\n",
              "  'great',\n",
              "  'if',\n",
              "  'knees',\n",
              "  'nothing',\n",
              "  'on',\n",
              "  'only',\n",
              "  'our',\n",
              "  'speak',\n",
              "  'theft',\n",
              "  'we',\n",
              "  'words'})"
            ]
          },
          "metadata": {
            "tags": []
          },
          "execution_count": 3
        }
      ]
    },
    {
      "cell_type": "code",
      "metadata": {
        "colab": {
          "base_uri": "https://localhost:8080/"
        },
        "id": "X8MttborUlHL",
        "outputId": "a0b6148a-271c-4fce-8411-dfa1afd56605"
      },
      "source": [
        "ordered_vocabulary = list(vocabulary)\n",
        "for i, tokens in enumerate(tokenized):\n",
        "  v = [0]*len(vocabulary)\n",
        "  for token in tokens:\n",
        "    j = ordered_vocabulary.index(token)\n",
        "    v[j] = 1\n",
        "  print(i, v)"
      ],
      "execution_count": 4,
      "outputs": [
        {
          "output_type": "stream",
          "text": [
            "0 [0, 0, 0, 0, 0, 0, 0, 0, 0, 1, 1, 0, 0, 0, 1, 0, 0, 0, 0, 1]\n",
            "1 [0, 0, 0, 1, 0, 1, 0, 0, 1, 0, 0, 1, 0, 1, 0, 1, 1, 1, 0, 0]\n",
            "2 [1, 1, 1, 0, 1, 1, 1, 1, 0, 0, 0, 0, 1, 0, 0, 0, 0, 1, 1, 0]\n"
          ],
          "name": "stdout"
        }
      ]
    }
  ]
}